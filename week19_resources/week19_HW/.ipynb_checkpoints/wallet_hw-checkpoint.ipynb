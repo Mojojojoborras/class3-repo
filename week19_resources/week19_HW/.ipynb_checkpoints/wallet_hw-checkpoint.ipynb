{
 "cells": [
  {
   "cell_type": "code",
   "execution_count": 1,
   "id": "436c6327-816a-4a2e-901d-ba7308d82255",
   "metadata": {},
   "outputs": [],
   "source": [
    "## From the starter code at: https://nu.bootcampcontent.com/NU-Coding-Bootcamp/nu-chi-virt-fin-pt-04-2021-u-c/-/blob/master/19-Blockchain-Python/Homework/Instructions/Starter-Code/wallet.py\n",
    "## Nothing but trouble with this one."
   ]
  },
  {
   "cell_type": "code",
   "execution_count": 2,
   "id": "7d03d2a5-6745-402d-a4af-20e4007d36d5",
   "metadata": {},
   "outputs": [],
   "source": [
    "# Import dependencies\n",
    "import subprocess\n",
    "import json\n",
    "import os\n",
    "from dotenv import load_dotenv"
   ]
  },
  {
   "cell_type": "code",
   "execution_count": 3,
   "id": "ce2d8b3f-e2d9-4bcf-93bb-610c87281b77",
   "metadata": {},
   "outputs": [],
   "source": [
    "## We also need bit and web3 imports.\n",
    "\n",
    "from bit import Key, PrivateKey, PrivateKeyTestnet\n",
    "from bit.network import NetworkAPI\n",
    "from bit import *\n",
    "from web3 import Web3"
   ]
  },
  {
   "cell_type": "code",
   "execution_count": 4,
   "id": "bd066de2-96c9-43ad-a16e-3c448911c22c",
   "metadata": {},
   "outputs": [],
   "source": [
    "# Load and set environment variables\n",
    "## From the starter code.\n",
    "\n",
    "load_dotenv()\n",
    "mnemonic=os.getenv(\"mnemonic\")\n",
    "\n",
    "## print(mnemonic)\n",
    "## It works."
   ]
  },
  {
   "cell_type": "code",
   "execution_count": 5,
   "id": "2a08ce9c-4a46-4039-87bc-5b86e0dca0b8",
   "metadata": {},
   "outputs": [],
   "source": [
    "# Import constants.py and necessary functions from bit and web3\n",
    "## os already imported.\n",
    "\n",
    "os.system(\"constants.py\")\n",
    "\n",
    "## Not sure why I have a \"0\" there, but seems happy. Moving on.\n",
    "## Importing constants.\n",
    "\n",
    "from constants import BTC\n",
    "from constants import ETH\n",
    "from constants import BTCTEST"
   ]
  },
  {
   "cell_type": "code",
   "execution_count": 6,
   "id": "eca14e0b-0c25-443a-b43d-145207ad1189",
   "metadata": {},
   "outputs": [],
   "source": [
    "# Create a function called `derive_wallets`\n",
    "\n",
    "def derive_wallets(mnemonic, coin, numderive):\n",
    "    command = f'php /wallet/hd-wallet-derive/hd-wallet-derive.php -g --mnemonic=\"{mnemonic}\" --numderive=\"{numderive}\" --coin=\"{coin}\" --format=json' \n",
    "    \n",
    "    p = subprocess.Popen(command, stdout=subprocess.PIPE, shell=True)\n",
    "    output, err = p.communicate()\n",
    "    p_status = p.wait()\n",
    "    return json.loads(output)"
   ]
  },
  {
   "cell_type": "code",
   "execution_count": 7,
   "id": "bca29ac1-e1aa-4519-9914-ccbd1d0b9e2d",
   "metadata": {},
   "outputs": [],
   "source": [
    "## Having some issues here with the .php path. Deleted and resinstalled everything, seems OK now."
   ]
  },
  {
   "cell_type": "code",
   "execution_count": 8,
   "id": "72c90432-fe2f-461e-8bd3-d77b37f58c51",
   "metadata": {},
   "outputs": [],
   "source": [
    "# Create a dictionary object called coins to store the output from `derive_wallets`.\n",
    "## \n",
    "\n",
    "coins = {\"btc\", \"eth\", \"btc-test\"}"
   ]
  },
  {
   "cell_type": "code",
   "execution_count": 9,
   "id": "00e0ff09-d7e7-4dee-9f97-732efaa7bb37",
   "metadata": {},
   "outputs": [],
   "source": [
    "## Google says numderive should be 3."
   ]
  },
  {
   "cell_type": "markdown",
   "id": "e5f39b09-947d-4792-93c4-e1fdf8ece7e1",
   "metadata": {},
   "source": [
    "<img src=\"https://i.ytimg.com/vi/UyndyQbUX_E/maxresdefault.jpg\" width=\"300\">"
   ]
  },
  {
   "cell_type": "code",
   "execution_count": 10,
   "id": "74cc1132-e97c-44f5-8a80-5f7a6a96c4dc",
   "metadata": {},
   "outputs": [],
   "source": [
    "numderive = 3"
   ]
  },
  {
   "cell_type": "code",
   "execution_count": 11,
   "id": "b28f0a80-1f85-46fd-8ab2-c9771406f2dc",
   "metadata": {},
   "outputs": [],
   "source": [
    "# Create a function called `priv_key_to_account` that converts privkey strings to account objects.\n",
    "## Doing this the same way I did the mnemonic.\n",
    "\n",
    "private_key=os.getenv(\"TEST_PRIVATE_KEY\")\n",
    "\n",
    "## print(private_key)\n",
    "## It works."
   ]
  },
  {
   "cell_type": "code",
   "execution_count": 25,
   "id": "1d701dc8-485b-4ee3-a6d7-0f4baf3288f8",
   "metadata": {},
   "outputs": [
    {
     "ename": "SyntaxError",
     "evalue": "unexpected EOF while parsing (<ipython-input-25-d507ca565a5c>, line 3)",
     "output_type": "error",
     "traceback": [
      "\u001b[1;36m  File \u001b[1;32m\"<ipython-input-25-d507ca565a5c>\"\u001b[1;36m, line \u001b[1;32m3\u001b[0m\n\u001b[1;33m    def priv_key_to_account(private_key):\u001b[0m\n\u001b[1;37m                                         ^\u001b[0m\n\u001b[1;31mSyntaxError\u001b[0m\u001b[1;31m:\u001b[0m unexpected EOF while parsing\n"
     ]
    }
   ],
   "source": [
    "## I have no idea what to do here. (YOU ARE HERE!!!)\n",
    "\n",
    "def priv_key_to_account(private_key):\n",
    "    json.loads(private_key)"
   ]
  },
  {
   "cell_type": "code",
   "execution_count": 13,
   "id": "56e82a37-9244-4f76-886f-cd98ba914da7",
   "metadata": {},
   "outputs": [],
   "source": [
    "# Create a function called `create_tx` that creates an unsigned transaction appropriate metadata.\n",
    "## From instructor do, in class.\n",
    "\n",
    "def create_tx(account, recipient, amount):\n",
    "    gasEstimate = w3.eth.estimateGas(\n",
    "        {\"from\": account.address, \"to\": recipient, \"value\": amount}\n",
    "    )\n",
    "    return {\n",
    "        \"from\": account.address,\n",
    "        \"to\": recipient,\n",
    "        \"value\": amount,\n",
    "        \"gasPrice\": w3.eth.gasPrice,\n",
    "        \"gas\": gasEstimate,\n",
    "        \"nonce\": w3.eth.getTransactionCount(account.address),\n",
    "    }"
   ]
  },
  {
   "cell_type": "code",
   "execution_count": 15,
   "id": "378d8259-4b66-44f4-93f7-a05b062a7287",
   "metadata": {},
   "outputs": [],
   "source": [
    "# Create a function called `send_tx` that calls `create_tx`, signs and sends the transaction.\n",
    "## From instructor do, in class.\n",
    "\n",
    "def send_tx(account, recipient, amount):\n",
    "    tx = create_tx(account, recipient, amount)\n",
    "    signed_tx = account.sign_transaction(tx)\n",
    "    result = w3.eth.sendRawTransaction(signed_tx.rawTransaction)\n",
    "    print(result.hex())\n",
    "    return result.hex()"
   ]
  }
 ],
 "metadata": {
  "kernelspec": {
   "display_name": "Python 3",
   "language": "python",
   "name": "python3"
  },
  "language_info": {
   "codemirror_mode": {
    "name": "ipython",
    "version": 3
   },
   "file_extension": ".py",
   "mimetype": "text/x-python",
   "name": "python",
   "nbconvert_exporter": "python",
   "pygments_lexer": "ipython3",
   "version": "3.7.10"
  }
 },
 "nbformat": 4,
 "nbformat_minor": 5
}
