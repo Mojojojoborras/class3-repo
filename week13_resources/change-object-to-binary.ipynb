{
 "cells": [
  {
   "cell_type": "code",
   "execution_count": null,
   "id": "54878f55-b988-458b-aaf9-b3d6353d5d44",
   "metadata": {},
   "outputs": [],
   "source": [
    "## From a student do, this will turn strong data into binary/bool\n",
    "# Transform Gender column\n",
    "\n",
    "def changeGender(gender):\n",
    "    if gender == \"Male\":\n",
    "        return 1\n",
    "    else:\n",
    "        return 0\n",
    "shopping_data[\"Gender\"] = shopping_data[\"Gender\"].apply(changeGender)\n",
    "shopping_data.head()"
   ]
  }
 ],
 "metadata": {
  "kernelspec": {
   "display_name": "Python 3",
   "language": "python",
   "name": "python3"
  },
  "language_info": {
   "codemirror_mode": {
    "name": "ipython",
    "version": 3
   },
   "file_extension": ".py",
   "mimetype": "text/x-python",
   "name": "python",
   "nbconvert_exporter": "python",
   "pygments_lexer": "ipython3",
   "version": "3.8.5"
  }
 },
 "nbformat": 4,
 "nbformat_minor": 5
}
