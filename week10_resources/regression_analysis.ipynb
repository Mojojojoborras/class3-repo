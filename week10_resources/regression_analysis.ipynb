{
 "cells": [
  {
   "cell_type": "code",
   "execution_count": 1,
   "metadata": {},
   "outputs": [],
   "source": [
    "## This is all starter code.\n",
    "\n",
    "import numpy as np\n",
    "import pandas as pd\n",
    "from pathlib import Path\n",
    "%matplotlib inline"
   ]
  },
  {
   "cell_type": "markdown",
   "metadata": {},
   "source": [
    "# Regression Analysis: Seasonal Effects with Sklearn Linear Regression\n",
    "In this notebook, you will build a SKLearn linear regression model to predict Yen futures (\"settle\") returns with *lagged* Yen futures returns. "
   ]
  },
  {
   "cell_type": "code",
   "execution_count": 2,
   "metadata": {},
   "outputs": [
    {
     "data": {
      "text/html": [
       "<div>\n",
       "<style scoped>\n",
       "    .dataframe tbody tr th:only-of-type {\n",
       "        vertical-align: middle;\n",
       "    }\n",
       "\n",
       "    .dataframe tbody tr th {\n",
       "        vertical-align: top;\n",
       "    }\n",
       "\n",
       "    .dataframe thead th {\n",
       "        text-align: right;\n",
       "    }\n",
       "</style>\n",
       "<table border=\"1\" class=\"dataframe\">\n",
       "  <thead>\n",
       "    <tr style=\"text-align: right;\">\n",
       "      <th></th>\n",
       "      <th>Open</th>\n",
       "      <th>High</th>\n",
       "      <th>Low</th>\n",
       "      <th>Last</th>\n",
       "      <th>Change</th>\n",
       "      <th>Settle</th>\n",
       "      <th>Volume</th>\n",
       "      <th>Previous Day Open Interest</th>\n",
       "    </tr>\n",
       "    <tr>\n",
       "      <th>Date</th>\n",
       "      <th></th>\n",
       "      <th></th>\n",
       "      <th></th>\n",
       "      <th></th>\n",
       "      <th></th>\n",
       "      <th></th>\n",
       "      <th></th>\n",
       "      <th></th>\n",
       "    </tr>\n",
       "  </thead>\n",
       "  <tbody>\n",
       "    <tr>\n",
       "      <th>1976-08-02</th>\n",
       "      <td>3398.0</td>\n",
       "      <td>3401.0</td>\n",
       "      <td>3398.0</td>\n",
       "      <td>3401.0</td>\n",
       "      <td>NaN</td>\n",
       "      <td>3401.0</td>\n",
       "      <td>2.0</td>\n",
       "      <td>1.0</td>\n",
       "    </tr>\n",
       "    <tr>\n",
       "      <th>1976-08-03</th>\n",
       "      <td>3401.0</td>\n",
       "      <td>3401.0</td>\n",
       "      <td>3401.0</td>\n",
       "      <td>3401.0</td>\n",
       "      <td>NaN</td>\n",
       "      <td>3401.0</td>\n",
       "      <td>0.0</td>\n",
       "      <td>1.0</td>\n",
       "    </tr>\n",
       "    <tr>\n",
       "      <th>1976-08-04</th>\n",
       "      <td>3401.0</td>\n",
       "      <td>3401.0</td>\n",
       "      <td>3401.0</td>\n",
       "      <td>3401.0</td>\n",
       "      <td>NaN</td>\n",
       "      <td>3401.0</td>\n",
       "      <td>0.0</td>\n",
       "      <td>1.0</td>\n",
       "    </tr>\n",
       "    <tr>\n",
       "      <th>1976-08-05</th>\n",
       "      <td>3401.0</td>\n",
       "      <td>3401.0</td>\n",
       "      <td>3401.0</td>\n",
       "      <td>3401.0</td>\n",
       "      <td>NaN</td>\n",
       "      <td>3401.0</td>\n",
       "      <td>0.0</td>\n",
       "      <td>1.0</td>\n",
       "    </tr>\n",
       "    <tr>\n",
       "      <th>1976-08-06</th>\n",
       "      <td>3401.0</td>\n",
       "      <td>3401.0</td>\n",
       "      <td>3401.0</td>\n",
       "      <td>3401.0</td>\n",
       "      <td>NaN</td>\n",
       "      <td>3401.0</td>\n",
       "      <td>0.0</td>\n",
       "      <td>1.0</td>\n",
       "    </tr>\n",
       "  </tbody>\n",
       "</table>\n",
       "</div>"
      ],
      "text/plain": [
       "              Open    High     Low    Last  Change  Settle  Volume  \\\n",
       "Date                                                                 \n",
       "1976-08-02  3398.0  3401.0  3398.0  3401.0     NaN  3401.0     2.0   \n",
       "1976-08-03  3401.0  3401.0  3401.0  3401.0     NaN  3401.0     0.0   \n",
       "1976-08-04  3401.0  3401.0  3401.0  3401.0     NaN  3401.0     0.0   \n",
       "1976-08-05  3401.0  3401.0  3401.0  3401.0     NaN  3401.0     0.0   \n",
       "1976-08-06  3401.0  3401.0  3401.0  3401.0     NaN  3401.0     0.0   \n",
       "\n",
       "            Previous Day Open Interest  \n",
       "Date                                    \n",
       "1976-08-02                         1.0  \n",
       "1976-08-03                         1.0  \n",
       "1976-08-04                         1.0  \n",
       "1976-08-05                         1.0  \n",
       "1976-08-06                         1.0  "
      ]
     },
     "execution_count": 2,
     "metadata": {},
     "output_type": "execute_result"
    }
   ],
   "source": [
    "# Futures contract on the Yen-dollar exchange rate:\n",
    "# This is the continuous chain of the futures contracts that are 1 month to expiration\n",
    "## Starter code.\n",
    "\n",
    "yen_futures = pd.read_csv(\n",
    "    Path(\"yen.csv\"), index_col=\"Date\", infer_datetime_format=True, parse_dates=True\n",
    ")\n",
    "yen_futures.head()"
   ]
  },
  {
   "cell_type": "code",
   "execution_count": 3,
   "metadata": {},
   "outputs": [
    {
     "data": {
      "text/html": [
       "<div>\n",
       "<style scoped>\n",
       "    .dataframe tbody tr th:only-of-type {\n",
       "        vertical-align: middle;\n",
       "    }\n",
       "\n",
       "    .dataframe tbody tr th {\n",
       "        vertical-align: top;\n",
       "    }\n",
       "\n",
       "    .dataframe thead th {\n",
       "        text-align: right;\n",
       "    }\n",
       "</style>\n",
       "<table border=\"1\" class=\"dataframe\">\n",
       "  <thead>\n",
       "    <tr style=\"text-align: right;\">\n",
       "      <th></th>\n",
       "      <th>Open</th>\n",
       "      <th>High</th>\n",
       "      <th>Low</th>\n",
       "      <th>Last</th>\n",
       "      <th>Change</th>\n",
       "      <th>Settle</th>\n",
       "      <th>Volume</th>\n",
       "      <th>Previous Day Open Interest</th>\n",
       "    </tr>\n",
       "    <tr>\n",
       "      <th>Date</th>\n",
       "      <th></th>\n",
       "      <th></th>\n",
       "      <th></th>\n",
       "      <th></th>\n",
       "      <th></th>\n",
       "      <th></th>\n",
       "      <th></th>\n",
       "      <th></th>\n",
       "    </tr>\n",
       "  </thead>\n",
       "  <tbody>\n",
       "    <tr>\n",
       "      <th>1990-01-02</th>\n",
       "      <td>6954.0</td>\n",
       "      <td>6954.0</td>\n",
       "      <td>6835.0</td>\n",
       "      <td>6847.0</td>\n",
       "      <td>NaN</td>\n",
       "      <td>6847.0</td>\n",
       "      <td>48336.0</td>\n",
       "      <td>51473.0</td>\n",
       "    </tr>\n",
       "    <tr>\n",
       "      <th>1990-01-03</th>\n",
       "      <td>6877.0</td>\n",
       "      <td>6910.0</td>\n",
       "      <td>6865.0</td>\n",
       "      <td>6887.0</td>\n",
       "      <td>NaN</td>\n",
       "      <td>6887.0</td>\n",
       "      <td>38206.0</td>\n",
       "      <td>53860.0</td>\n",
       "    </tr>\n",
       "    <tr>\n",
       "      <th>1990-01-04</th>\n",
       "      <td>6937.0</td>\n",
       "      <td>7030.0</td>\n",
       "      <td>6924.0</td>\n",
       "      <td>7008.0</td>\n",
       "      <td>NaN</td>\n",
       "      <td>7008.0</td>\n",
       "      <td>49649.0</td>\n",
       "      <td>55699.0</td>\n",
       "    </tr>\n",
       "    <tr>\n",
       "      <th>1990-01-05</th>\n",
       "      <td>6952.0</td>\n",
       "      <td>6985.0</td>\n",
       "      <td>6942.0</td>\n",
       "      <td>6950.0</td>\n",
       "      <td>NaN</td>\n",
       "      <td>6950.0</td>\n",
       "      <td>29944.0</td>\n",
       "      <td>53111.0</td>\n",
       "    </tr>\n",
       "    <tr>\n",
       "      <th>1990-01-08</th>\n",
       "      <td>6936.0</td>\n",
       "      <td>6972.0</td>\n",
       "      <td>6936.0</td>\n",
       "      <td>6959.0</td>\n",
       "      <td>NaN</td>\n",
       "      <td>6959.0</td>\n",
       "      <td>19763.0</td>\n",
       "      <td>52072.0</td>\n",
       "    </tr>\n",
       "  </tbody>\n",
       "</table>\n",
       "</div>"
      ],
      "text/plain": [
       "              Open    High     Low    Last  Change  Settle   Volume  \\\n",
       "Date                                                                  \n",
       "1990-01-02  6954.0  6954.0  6835.0  6847.0     NaN  6847.0  48336.0   \n",
       "1990-01-03  6877.0  6910.0  6865.0  6887.0     NaN  6887.0  38206.0   \n",
       "1990-01-04  6937.0  7030.0  6924.0  7008.0     NaN  7008.0  49649.0   \n",
       "1990-01-05  6952.0  6985.0  6942.0  6950.0     NaN  6950.0  29944.0   \n",
       "1990-01-08  6936.0  6972.0  6936.0  6959.0     NaN  6959.0  19763.0   \n",
       "\n",
       "            Previous Day Open Interest  \n",
       "Date                                    \n",
       "1990-01-02                     51473.0  \n",
       "1990-01-03                     53860.0  \n",
       "1990-01-04                     55699.0  \n",
       "1990-01-05                     53111.0  \n",
       "1990-01-08                     52072.0  "
      ]
     },
     "execution_count": 3,
     "metadata": {},
     "output_type": "execute_result"
    }
   ],
   "source": [
    "# Trim the dataset to begin on January 1st, 1990\n",
    "## Starter code.\n",
    "\n",
    "yen_futures = yen_futures.loc[\"1990-01-01\":, :]\n",
    "yen_futures.head()"
   ]
  },
  {
   "cell_type": "markdown",
   "metadata": {},
   "source": [
    "# Data Preparation"
   ]
  },
  {
   "cell_type": "markdown",
   "metadata": {},
   "source": [
    "### Returns"
   ]
  },
  {
   "cell_type": "code",
   "execution_count": 4,
   "metadata": {},
   "outputs": [
    {
     "data": {
      "text/html": [
       "<div>\n",
       "<style scoped>\n",
       "    .dataframe tbody tr th:only-of-type {\n",
       "        vertical-align: middle;\n",
       "    }\n",
       "\n",
       "    .dataframe tbody tr th {\n",
       "        vertical-align: top;\n",
       "    }\n",
       "\n",
       "    .dataframe thead th {\n",
       "        text-align: right;\n",
       "    }\n",
       "</style>\n",
       "<table border=\"1\" class=\"dataframe\">\n",
       "  <thead>\n",
       "    <tr style=\"text-align: right;\">\n",
       "      <th></th>\n",
       "      <th>Settle</th>\n",
       "    </tr>\n",
       "    <tr>\n",
       "      <th>Date</th>\n",
       "      <th></th>\n",
       "    </tr>\n",
       "  </thead>\n",
       "  <tbody>\n",
       "    <tr>\n",
       "      <th>1990-01-03</th>\n",
       "      <td>0.584197</td>\n",
       "    </tr>\n",
       "    <tr>\n",
       "      <th>1990-01-04</th>\n",
       "      <td>1.756933</td>\n",
       "    </tr>\n",
       "    <tr>\n",
       "      <th>1990-01-05</th>\n",
       "      <td>-0.827626</td>\n",
       "    </tr>\n",
       "    <tr>\n",
       "      <th>1990-01-08</th>\n",
       "      <td>0.129496</td>\n",
       "    </tr>\n",
       "    <tr>\n",
       "      <th>1990-01-09</th>\n",
       "      <td>-0.632275</td>\n",
       "    </tr>\n",
       "  </tbody>\n",
       "</table>\n",
       "</div>"
      ],
      "text/plain": [
       "              Settle\n",
       "Date                \n",
       "1990-01-03  0.584197\n",
       "1990-01-04  1.756933\n",
       "1990-01-05 -0.827626\n",
       "1990-01-08  0.129496\n",
       "1990-01-09 -0.632275"
      ]
     },
     "execution_count": 4,
     "metadata": {},
     "output_type": "execute_result"
    }
   ],
   "source": [
    "# Create a series using \"Settle\" price percentage returns, drop any nan\"s, and check the results:\n",
    "# (Make sure to multiply the pct_change() results by 100)\n",
    "# In this case, you may have to replace inf, -inf values with np.nan\"s\n",
    "## I'm calling this returns_df\n",
    "\n",
    "returns_df = (yen_futures[['Settle']].pct_change() * 100)\n",
    "returns_df = returns_df.replace(-np.inf, np.nan).dropna()\n",
    "returns_df.head()"
   ]
  },
  {
   "cell_type": "code",
   "execution_count": 5,
   "metadata": {},
   "outputs": [
    {
     "data": {
      "text/html": [
       "<div>\n",
       "<style scoped>\n",
       "    .dataframe tbody tr th:only-of-type {\n",
       "        vertical-align: middle;\n",
       "    }\n",
       "\n",
       "    .dataframe tbody tr th {\n",
       "        vertical-align: top;\n",
       "    }\n",
       "\n",
       "    .dataframe thead th {\n",
       "        text-align: right;\n",
       "    }\n",
       "</style>\n",
       "<table border=\"1\" class=\"dataframe\">\n",
       "  <thead>\n",
       "    <tr style=\"text-align: right;\">\n",
       "      <th></th>\n",
       "      <th>Return_Pct</th>\n",
       "    </tr>\n",
       "    <tr>\n",
       "      <th>Date</th>\n",
       "      <th></th>\n",
       "    </tr>\n",
       "  </thead>\n",
       "  <tbody>\n",
       "    <tr>\n",
       "      <th>1990-01-03</th>\n",
       "      <td>0.584197</td>\n",
       "    </tr>\n",
       "    <tr>\n",
       "      <th>1990-01-04</th>\n",
       "      <td>1.756933</td>\n",
       "    </tr>\n",
       "    <tr>\n",
       "      <th>1990-01-05</th>\n",
       "      <td>-0.827626</td>\n",
       "    </tr>\n",
       "    <tr>\n",
       "      <th>1990-01-08</th>\n",
       "      <td>0.129496</td>\n",
       "    </tr>\n",
       "    <tr>\n",
       "      <th>1990-01-09</th>\n",
       "      <td>-0.632275</td>\n",
       "    </tr>\n",
       "  </tbody>\n",
       "</table>\n",
       "</div>"
      ],
      "text/plain": [
       "            Return_Pct\n",
       "Date                  \n",
       "1990-01-03    0.584197\n",
       "1990-01-04    1.756933\n",
       "1990-01-05   -0.827626\n",
       "1990-01-08    0.129496\n",
       "1990-01-09   -0.632275"
      ]
     },
     "execution_count": 5,
     "metadata": {},
     "output_type": "execute_result"
    }
   ],
   "source": [
    "## That's confusing, because the Settle values have changed from the initial yen_futures df.\n",
    "## I want to rename the column Settle to Return %\n",
    "## Didn't work; I forgot \"inplace=True\"\n",
    "\n",
    "returns_df.rename(columns={'Settle':'Return_Pct'},inplace=True)\n",
    "returns_df.head()"
   ]
  },
  {
   "cell_type": "code",
   "execution_count": 6,
   "metadata": {},
   "outputs": [],
   "source": [
    "## It worked!"
   ]
  },
  {
   "cell_type": "markdown",
   "metadata": {},
   "source": [
    "### Lagged Returns "
   ]
  },
  {
   "cell_type": "code",
   "execution_count": 7,
   "metadata": {},
   "outputs": [
    {
     "data": {
      "text/html": [
       "<div>\n",
       "<style scoped>\n",
       "    .dataframe tbody tr th:only-of-type {\n",
       "        vertical-align: middle;\n",
       "    }\n",
       "\n",
       "    .dataframe tbody tr th {\n",
       "        vertical-align: top;\n",
       "    }\n",
       "\n",
       "    .dataframe thead th {\n",
       "        text-align: right;\n",
       "    }\n",
       "</style>\n",
       "<table border=\"1\" class=\"dataframe\">\n",
       "  <thead>\n",
       "    <tr style=\"text-align: right;\">\n",
       "      <th></th>\n",
       "      <th>Open</th>\n",
       "      <th>High</th>\n",
       "      <th>Low</th>\n",
       "      <th>Last</th>\n",
       "      <th>Change</th>\n",
       "      <th>Settle</th>\n",
       "      <th>Volume</th>\n",
       "      <th>Previous Day Open Interest</th>\n",
       "      <th>Lagged_Return</th>\n",
       "    </tr>\n",
       "    <tr>\n",
       "      <th>Date</th>\n",
       "      <th></th>\n",
       "      <th></th>\n",
       "      <th></th>\n",
       "      <th></th>\n",
       "      <th></th>\n",
       "      <th></th>\n",
       "      <th></th>\n",
       "      <th></th>\n",
       "      <th></th>\n",
       "    </tr>\n",
       "  </thead>\n",
       "  <tbody>\n",
       "    <tr>\n",
       "      <th>1990-01-02</th>\n",
       "      <td>6954.0</td>\n",
       "      <td>6954.0</td>\n",
       "      <td>6835.0</td>\n",
       "      <td>6847.0</td>\n",
       "      <td>NaN</td>\n",
       "      <td>NaN</td>\n",
       "      <td>48336.0</td>\n",
       "      <td>51473.0</td>\n",
       "      <td>NaN</td>\n",
       "    </tr>\n",
       "    <tr>\n",
       "      <th>1990-01-03</th>\n",
       "      <td>6877.0</td>\n",
       "      <td>6910.0</td>\n",
       "      <td>6865.0</td>\n",
       "      <td>6887.0</td>\n",
       "      <td>NaN</td>\n",
       "      <td>0.584197</td>\n",
       "      <td>38206.0</td>\n",
       "      <td>53860.0</td>\n",
       "      <td>NaN</td>\n",
       "    </tr>\n",
       "    <tr>\n",
       "      <th>1990-01-04</th>\n",
       "      <td>6937.0</td>\n",
       "      <td>7030.0</td>\n",
       "      <td>6924.0</td>\n",
       "      <td>7008.0</td>\n",
       "      <td>NaN</td>\n",
       "      <td>1.756933</td>\n",
       "      <td>49649.0</td>\n",
       "      <td>55699.0</td>\n",
       "      <td>0.584197</td>\n",
       "    </tr>\n",
       "    <tr>\n",
       "      <th>1990-01-05</th>\n",
       "      <td>6952.0</td>\n",
       "      <td>6985.0</td>\n",
       "      <td>6942.0</td>\n",
       "      <td>6950.0</td>\n",
       "      <td>NaN</td>\n",
       "      <td>-0.827626</td>\n",
       "      <td>29944.0</td>\n",
       "      <td>53111.0</td>\n",
       "      <td>1.756933</td>\n",
       "    </tr>\n",
       "    <tr>\n",
       "      <th>1990-01-08</th>\n",
       "      <td>6936.0</td>\n",
       "      <td>6972.0</td>\n",
       "      <td>6936.0</td>\n",
       "      <td>6959.0</td>\n",
       "      <td>NaN</td>\n",
       "      <td>0.129496</td>\n",
       "      <td>19763.0</td>\n",
       "      <td>52072.0</td>\n",
       "      <td>-0.827626</td>\n",
       "    </tr>\n",
       "  </tbody>\n",
       "</table>\n",
       "</div>"
      ],
      "text/plain": [
       "              Open    High     Low    Last  Change    Settle   Volume  \\\n",
       "Date                                                                    \n",
       "1990-01-02  6954.0  6954.0  6835.0  6847.0     NaN       NaN  48336.0   \n",
       "1990-01-03  6877.0  6910.0  6865.0  6887.0     NaN  0.584197  38206.0   \n",
       "1990-01-04  6937.0  7030.0  6924.0  7008.0     NaN  1.756933  49649.0   \n",
       "1990-01-05  6952.0  6985.0  6942.0  6950.0     NaN -0.827626  29944.0   \n",
       "1990-01-08  6936.0  6972.0  6936.0  6959.0     NaN  0.129496  19763.0   \n",
       "\n",
       "            Previous Day Open Interest  Lagged_Return  \n",
       "Date                                                   \n",
       "1990-01-02                     51473.0            NaN  \n",
       "1990-01-03                     53860.0            NaN  \n",
       "1990-01-04                     55699.0       0.584197  \n",
       "1990-01-05                     53111.0       1.756933  \n",
       "1990-01-08                     52072.0      -0.827626  "
      ]
     },
     "execution_count": 7,
     "metadata": {},
     "output_type": "execute_result"
    }
   ],
   "source": [
    "# Create a lagged return using the shift function\n",
    "## I did this in the first homework! Google it again ...\n",
    "\n",
    "yen_futures['Settle'] = returns_df['Return_Pct']\n",
    "yen_futures['Lagged_Return'] = returns_df['Return_Pct'].shift()\n",
    "yen_futures.head()"
   ]
  },
  {
   "cell_type": "code",
   "execution_count": 8,
   "metadata": {},
   "outputs": [
    {
     "data": {
      "text/html": [
       "<div>\n",
       "<style scoped>\n",
       "    .dataframe tbody tr th:only-of-type {\n",
       "        vertical-align: middle;\n",
       "    }\n",
       "\n",
       "    .dataframe tbody tr th {\n",
       "        vertical-align: top;\n",
       "    }\n",
       "\n",
       "    .dataframe thead th {\n",
       "        text-align: right;\n",
       "    }\n",
       "</style>\n",
       "<table border=\"1\" class=\"dataframe\">\n",
       "  <thead>\n",
       "    <tr style=\"text-align: right;\">\n",
       "      <th></th>\n",
       "      <th>Open</th>\n",
       "      <th>High</th>\n",
       "      <th>Low</th>\n",
       "      <th>Last</th>\n",
       "      <th>Change</th>\n",
       "      <th>Settle</th>\n",
       "      <th>Volume</th>\n",
       "      <th>Previous Day Open Interest</th>\n",
       "      <th>Lagged_Return</th>\n",
       "    </tr>\n",
       "    <tr>\n",
       "      <th>Date</th>\n",
       "      <th></th>\n",
       "      <th></th>\n",
       "      <th></th>\n",
       "      <th></th>\n",
       "      <th></th>\n",
       "      <th></th>\n",
       "      <th></th>\n",
       "      <th></th>\n",
       "      <th></th>\n",
       "    </tr>\n",
       "  </thead>\n",
       "  <tbody>\n",
       "    <tr>\n",
       "      <th>2014-02-18</th>\n",
       "      <td>9831.0</td>\n",
       "      <td>9865.0</td>\n",
       "      <td>9734.0</td>\n",
       "      <td>9775.0</td>\n",
       "      <td>42.0</td>\n",
       "      <td>-0.427829</td>\n",
       "      <td>203495.0</td>\n",
       "      <td>196924.0</td>\n",
       "      <td>0.409123</td>\n",
       "    </tr>\n",
       "    <tr>\n",
       "      <th>2014-02-19</th>\n",
       "      <td>9768.0</td>\n",
       "      <td>9825.0</td>\n",
       "      <td>9760.0</td>\n",
       "      <td>9773.0</td>\n",
       "      <td>2.0</td>\n",
       "      <td>-0.020460</td>\n",
       "      <td>129508.0</td>\n",
       "      <td>197197.0</td>\n",
       "      <td>-0.427829</td>\n",
       "    </tr>\n",
       "    <tr>\n",
       "      <th>2014-02-20</th>\n",
       "      <td>9774.0</td>\n",
       "      <td>9837.0</td>\n",
       "      <td>9765.0</td>\n",
       "      <td>9775.0</td>\n",
       "      <td>2.0</td>\n",
       "      <td>0.020465</td>\n",
       "      <td>160202.0</td>\n",
       "      <td>198280.0</td>\n",
       "      <td>-0.020460</td>\n",
       "    </tr>\n",
       "    <tr>\n",
       "      <th>2014-02-21</th>\n",
       "      <td>9772.0</td>\n",
       "      <td>9776.0</td>\n",
       "      <td>9725.0</td>\n",
       "      <td>9758.0</td>\n",
       "      <td>20.0</td>\n",
       "      <td>-0.204604</td>\n",
       "      <td>103091.0</td>\n",
       "      <td>202990.0</td>\n",
       "      <td>0.020465</td>\n",
       "    </tr>\n",
       "    <tr>\n",
       "      <th>2014-02-24</th>\n",
       "      <td>9752.0</td>\n",
       "      <td>9789.0</td>\n",
       "      <td>9740.0</td>\n",
       "      <td>9757.0</td>\n",
       "      <td>2.0</td>\n",
       "      <td>0.020502</td>\n",
       "      <td>90654.0</td>\n",
       "      <td>203114.0</td>\n",
       "      <td>-0.204604</td>\n",
       "    </tr>\n",
       "  </tbody>\n",
       "</table>\n",
       "</div>"
      ],
      "text/plain": [
       "              Open    High     Low    Last  Change    Settle    Volume  \\\n",
       "Date                                                                     \n",
       "2014-02-18  9831.0  9865.0  9734.0  9775.0    42.0 -0.427829  203495.0   \n",
       "2014-02-19  9768.0  9825.0  9760.0  9773.0     2.0 -0.020460  129508.0   \n",
       "2014-02-20  9774.0  9837.0  9765.0  9775.0     2.0  0.020465  160202.0   \n",
       "2014-02-21  9772.0  9776.0  9725.0  9758.0    20.0 -0.204604  103091.0   \n",
       "2014-02-24  9752.0  9789.0  9740.0  9757.0     2.0  0.020502   90654.0   \n",
       "\n",
       "            Previous Day Open Interest  Lagged_Return  \n",
       "Date                                                   \n",
       "2014-02-18                    196924.0       0.409123  \n",
       "2014-02-19                    197197.0      -0.427829  \n",
       "2014-02-20                    198280.0      -0.020460  \n",
       "2014-02-21                    202990.0       0.020465  \n",
       "2014-02-24                    203114.0      -0.204604  "
      ]
     },
     "execution_count": 8,
     "metadata": {},
     "output_type": "execute_result"
    }
   ],
   "source": [
    "## I need to drop the NaN ...\n",
    "yen_futures.dropna(inplace=True)\n",
    "yen_futures.head()"
   ]
  },
  {
   "cell_type": "markdown",
   "metadata": {},
   "source": [
    "### Train Test Split"
   ]
  },
  {
   "cell_type": "code",
   "execution_count": 9,
   "metadata": {},
   "outputs": [],
   "source": [
    "# Create a train/test split for the data using 2018-2019 for testing and the rest for training\n",
    "## The starter code read as follows ...\n",
    "## train = yen_futures[:'2017']\n",
    "## test = yen_futures['2018':]\n",
    "## ... I need to change both to 2018, I think.\n",
    "\n",
    "train = yen_futures[:'2018']\n",
    "test = yen_futures['2018':]"
   ]
  },
  {
   "cell_type": "code",
   "execution_count": 10,
   "metadata": {},
   "outputs": [],
   "source": [
    "# Create four dataframes:\n",
    "# X_train (training set using just the independent variables), X_test (test set of of just the independent variables)\n",
    "# Y_train (training set using just the \"y\" variable, i.e., \"Futures Return\"), Y_test (test set of just the \"y\" variable):\n",
    "\n",
    "X_train = train[\"Lagged_Return\"].to_frame()\n",
    "X_test = test[\"Lagged_Return\"].to_frame()\n",
    "Y_train = train[\"Settle\"]\n",
    "Y_test = test[\"Settle\"]"
   ]
  },
  {
   "cell_type": "code",
   "execution_count": 11,
   "metadata": {},
   "outputs": [
    {
     "data": {
      "text/html": [
       "<div>\n",
       "<style scoped>\n",
       "    .dataframe tbody tr th:only-of-type {\n",
       "        vertical-align: middle;\n",
       "    }\n",
       "\n",
       "    .dataframe tbody tr th {\n",
       "        vertical-align: top;\n",
       "    }\n",
       "\n",
       "    .dataframe thead th {\n",
       "        text-align: right;\n",
       "    }\n",
       "</style>\n",
       "<table border=\"1\" class=\"dataframe\">\n",
       "  <thead>\n",
       "    <tr style=\"text-align: right;\">\n",
       "      <th></th>\n",
       "      <th>Lagged_Return</th>\n",
       "    </tr>\n",
       "    <tr>\n",
       "      <th>Date</th>\n",
       "      <th></th>\n",
       "    </tr>\n",
       "  </thead>\n",
       "  <tbody>\n",
       "    <tr>\n",
       "      <th>2014-02-18</th>\n",
       "      <td>0.409123</td>\n",
       "    </tr>\n",
       "    <tr>\n",
       "      <th>2014-02-19</th>\n",
       "      <td>-0.427829</td>\n",
       "    </tr>\n",
       "    <tr>\n",
       "      <th>2014-02-20</th>\n",
       "      <td>-0.020460</td>\n",
       "    </tr>\n",
       "    <tr>\n",
       "      <th>2014-02-21</th>\n",
       "      <td>0.020465</td>\n",
       "    </tr>\n",
       "    <tr>\n",
       "      <th>2014-02-24</th>\n",
       "      <td>-0.204604</td>\n",
       "    </tr>\n",
       "    <tr>\n",
       "      <th>...</th>\n",
       "      <td>...</td>\n",
       "    </tr>\n",
       "    <tr>\n",
       "      <th>2018-12-24</th>\n",
       "      <td>-0.187545</td>\n",
       "    </tr>\n",
       "    <tr>\n",
       "      <th>2018-12-26</th>\n",
       "      <td>0.834485</td>\n",
       "    </tr>\n",
       "    <tr>\n",
       "      <th>2018-12-27</th>\n",
       "      <td>-0.893346</td>\n",
       "    </tr>\n",
       "    <tr>\n",
       "      <th>2018-12-28</th>\n",
       "      <td>0.464525</td>\n",
       "    </tr>\n",
       "    <tr>\n",
       "      <th>2018-12-31</th>\n",
       "      <td>0.297242</td>\n",
       "    </tr>\n",
       "  </tbody>\n",
       "</table>\n",
       "<p>1219 rows × 1 columns</p>\n",
       "</div>"
      ],
      "text/plain": [
       "            Lagged_Return\n",
       "Date                     \n",
       "2014-02-18       0.409123\n",
       "2014-02-19      -0.427829\n",
       "2014-02-20      -0.020460\n",
       "2014-02-21       0.020465\n",
       "2014-02-24      -0.204604\n",
       "...                   ...\n",
       "2018-12-24      -0.187545\n",
       "2018-12-26       0.834485\n",
       "2018-12-27      -0.893346\n",
       "2018-12-28       0.464525\n",
       "2018-12-31       0.297242\n",
       "\n",
       "[1219 rows x 1 columns]"
      ]
     },
     "execution_count": 11,
     "metadata": {},
     "output_type": "execute_result"
    }
   ],
   "source": [
    "## Starter code.\n",
    "X_train"
   ]
  },
  {
   "cell_type": "markdown",
   "metadata": {},
   "source": [
    "# Linear Regression Model"
   ]
  },
  {
   "cell_type": "code",
   "execution_count": 12,
   "metadata": {},
   "outputs": [
    {
     "name": "stdout",
     "output_type": "stream",
     "text": [
      "Requirement already satisfied: sklearn in c:\\users\\rotar\\anaconda3\\envs\\pyvizenv\\lib\\site-packages (0.0)\n",
      "Requirement already satisfied: scikit-learn in c:\\users\\rotar\\anaconda3\\envs\\pyvizenv\\lib\\site-packages (from sklearn) (0.24.2)\n",
      "Requirement already satisfied: joblib>=0.11 in c:\\users\\rotar\\anaconda3\\envs\\pyvizenv\\lib\\site-packages (from scikit-learn->sklearn) (1.0.1)\n",
      "Requirement already satisfied: threadpoolctl>=2.0.0 in c:\\users\\rotar\\anaconda3\\envs\\pyvizenv\\lib\\site-packages (from scikit-learn->sklearn) (2.1.0)\n",
      "Requirement already satisfied: numpy>=1.13.3 in c:\\users\\rotar\\anaconda3\\envs\\pyvizenv\\lib\\site-packages (from scikit-learn->sklearn) (1.18.1)\n",
      "Requirement already satisfied: scipy>=0.19.1 in c:\\users\\rotar\\appdata\\roaming\\python\\python37\\site-packages (from scikit-learn->sklearn) (1.6.3)\n"
     ]
    },
    {
     "name": "stderr",
     "output_type": "stream",
     "text": [
      "WARNING: Ignoring invalid distribution -umpy (c:\\users\\rotar\\anaconda3\\envs\\pyvizenv\\lib\\site-packages)\n",
      "WARNING: Ignoring invalid distribution -umpy (c:\\users\\rotar\\anaconda3\\envs\\pyvizenv\\lib\\site-packages)\n",
      "WARNING: Ignoring invalid distribution -umpy (c:\\users\\rotar\\anaconda3\\envs\\pyvizenv\\lib\\site-packages)\n",
      "WARNING: Ignoring invalid distribution -umpy (c:\\users\\rotar\\anaconda3\\envs\\pyvizenv\\lib\\site-packages)\n",
      "WARNING: Ignoring invalid distribution -umpy (c:\\users\\rotar\\anaconda3\\envs\\pyvizenv\\lib\\site-packages)\n",
      "WARNING: Ignoring invalid distribution -umpy (c:\\users\\rotar\\anaconda3\\envs\\pyvizenv\\lib\\site-packages)\n"
     ]
    }
   ],
   "source": [
    "# Create a Linear Regression model and fit it to the training data\n",
    "## I'm getting a \"No module named sklearn\" error, so I'm trying a pip install.\n",
    "\n",
    "!pip install sklearn"
   ]
  },
  {
   "cell_type": "code",
   "execution_count": 13,
   "metadata": {},
   "outputs": [],
   "source": [
    "from sklearn.linear_model import LinearRegression"
   ]
  },
  {
   "cell_type": "code",
   "execution_count": 14,
   "metadata": {},
   "outputs": [],
   "source": [
    "## It worked!"
   ]
  },
  {
   "cell_type": "code",
   "execution_count": 15,
   "metadata": {},
   "outputs": [
    {
     "data": {
      "text/plain": [
       "LinearRegression()"
      ]
     },
     "execution_count": 15,
     "metadata": {},
     "output_type": "execute_result"
    }
   ],
   "source": [
    "# Fit a SKLearn linear regression using just the training set (X_train, Y_train):\n",
    "## I had to Google this; found https://scikit-learn.org/stable/modules/generated/sklearn.linear_model.LinearRegression.html\n",
    "\n",
    "model = LinearRegression()\n",
    "model.fit(X_train, Y_train)"
   ]
  },
  {
   "cell_type": "code",
   "execution_count": 16,
   "metadata": {},
   "outputs": [],
   "source": [
    "## I'm not sure what I expected."
   ]
  },
  {
   "cell_type": "markdown",
   "metadata": {},
   "source": [
    "# Make predictions using the Testing Data\n",
    "\n",
    "Note: We want to evaluate the model using data that it has never seen before, in this case: X_test."
   ]
  },
  {
   "cell_type": "code",
   "execution_count": 17,
   "metadata": {},
   "outputs": [],
   "source": [
    "# Make a prediction of \"y\" values using just the test dataset\n",
    "## I got help from my group on this one-- it seems like \"predictions\" is just the name of the df\n",
    "\n",
    "predictions = model.predict(X_test)"
   ]
  },
  {
   "cell_type": "code",
   "execution_count": 18,
   "metadata": {},
   "outputs": [
    {
     "data": {
      "text/plain": [
       "array([-6.70674117e-03, -7.56823410e-03, -1.17062066e-03, -1.49718917e-03,\n",
       "        1.79105453e-04, -4.76932324e-03, -8.65667506e-03, -1.78532439e-02,\n",
       "       -6.80372229e-03, -4.22907675e-03, -1.20640476e-02,  4.66651765e-03,\n",
       "       -5.08561043e-03, -8.24414062e-03,  2.97410469e-04, -1.12069315e-02,\n",
       "       -1.78382597e-02,  1.08258216e-04, -1.21452668e-02, -1.06589120e-03,\n",
       "       -5.84120115e-03, -3.53130321e-04, -5.35921723e-04,  5.12277815e-03,\n",
       "       -1.01162873e-02, -7.80701180e-03, -3.25285835e-03, -9.68053791e-03,\n",
       "       -7.39198885e-03, -2.74267655e-03, -1.47405490e-02, -1.08088097e-02,\n",
       "       -1.29955271e-02, -3.33743325e-03,  6.70157854e-03,  1.63872794e-03,\n",
       "       -1.65786192e-02, -2.89126447e-03, -2.00245203e-03,  1.55795518e-03,\n",
       "       -1.23276845e-02, -8.34100143e-03, -1.18616199e-02,  3.43371025e-03,\n",
       "       -3.84213528e-03, -5.79942161e-03, -1.88797405e-03,  1.90545639e-03,\n",
       "       -8.47485179e-03, -1.24896588e-03, -7.83481437e-03, -3.90515047e-03,\n",
       "       -5.73773123e-03, -3.71601084e-03, -7.56619480e-03, -7.55572391e-03,\n",
       "       -9.55319604e-03, -1.29627886e-02,  6.79794350e-04, -2.97273568e-04,\n",
       "        1.12022414e-02, -8.83801313e-03, -1.03304035e-02,  4.23920898e-03,\n",
       "       -2.39103443e-03,  4.11906276e-03, -1.05206297e-02, -4.60098495e-03,\n",
       "        2.69021072e-04, -6.50695976e-03, -7.37793836e-04, -1.68140141e-03,\n",
       "       -7.72278889e-03, -4.66597946e-03, -1.11457808e-03, -2.31519484e-03,\n",
       "       -1.93075786e-03,  7.44746537e-03, -3.51637500e-03,  3.37693560e-03,\n",
       "       -3.70739753e-03, -7.46818760e-03, -1.18666080e-03,  1.67183972e-03,\n",
       "       -4.29201543e-03, -9.89132269e-03, -5.00336926e-03, -4.74362850e-03,\n",
       "       -4.16091916e-03,  3.34326413e-03, -7.41644398e-03, -4.81044227e-03,\n",
       "        1.19995872e-04,  3.64964431e-03, -5.14532300e-03,  1.46681250e-03,\n",
       "       -4.88640675e-03,  7.65531925e-04, -5.08718884e-03, -1.39855378e-02,\n",
       "       -1.22686021e-02, -2.66811632e-03, -1.66412535e-02,  2.72175100e-03,\n",
       "       -6.48951787e-03,  5.71563435e-03, -1.42816472e-03, -3.83584279e-03,\n",
       "        6.65571362e-04, -8.87822784e-03, -6.57550322e-03,  1.89176501e-03,\n",
       "       -5.64433444e-04, -1.80085138e-03, -3.43994176e-03, -3.57117531e-03,\n",
       "       -6.13678342e-03, -1.51302896e-02, -4.52884308e-04, -9.57883290e-03,\n",
       "       -3.64176543e-03, -8.90508736e-03,  3.54021960e-03, -2.98943847e-03,\n",
       "        8.57530235e-04, -1.41326792e-03, -3.70351911e-03, -7.50932142e-03,\n",
       "       -2.33040592e-03, -6.45580961e-03,  2.25342128e-05,  1.34862859e-03,\n",
       "        4.27309586e-03,  4.81840892e-04, -5.43066383e-03, -4.56390282e-03,\n",
       "        1.88855504e-03, -3.83097168e-03, -7.84263770e-03, -1.38288018e-02,\n",
       "       -4.56035303e-03, -6.87272209e-03, -7.92062445e-03,  3.70523990e-04,\n",
       "       -6.53747874e-03, -3.70248491e-03,  4.72330782e-03, -6.81670249e-03,\n",
       "       -2.44370893e-03, -8.66883608e-03, -2.31578016e-03, -3.76718121e-03,\n",
       "       -8.79073000e-03, -3.04397201e-03, -8.51213940e-03, -3.17814843e-03,\n",
       "        1.74931224e-03, -1.08307664e-02, -6.18401838e-04, -6.99368361e-03,\n",
       "       -8.03692327e-03, -1.87193782e-03, -2.19581535e-03,  3.91361567e-03,\n",
       "       -4.82476812e-03, -5.08847845e-03, -2.64550004e-03,  1.05648859e-03,\n",
       "       -1.08004355e-02, -4.36145507e-03,  1.11399271e-03, -3.50148517e-03,\n",
       "       -1.09913683e-02, -1.52737151e-03, -2.44661750e-03,  6.82778393e-05,\n",
       "       -7.81372857e-03,  3.11205077e-03, -2.50101606e-03, -4.89770625e-03,\n",
       "       -7.02766855e-03, -5.22697044e-03, -1.51033362e-03, -3.23366699e-03,\n",
       "       -2.16860980e-03, -1.63259242e-03, -5.03309684e-03,  2.50658949e-03,\n",
       "       -2.28733603e-03,  3.35346529e-04, -7.06587820e-03,  2.96336842e-03,\n",
       "       -8.76746866e-03, -5.17712062e-03, -1.18410227e-02, -3.63021755e-03,\n",
       "       -8.71499797e-03, -1.05626763e-02, -3.50127846e-03, -5.15879463e-03,\n",
       "       -8.51650926e-04, -5.77429140e-04, -6.96272801e-03,  2.88023735e-04,\n",
       "       -1.63044055e-03, -7.50676685e-03, -4.36470764e-03, -1.96635558e-03,\n",
       "       -1.20396201e-02,  1.53666376e-03,  2.42864340e-03, -3.02707369e-03,\n",
       "       -7.24847627e-03,  1.98399839e-03, -4.56895335e-03, -2.01706851e-03,\n",
       "       -4.50235946e-03,  2.96099647e-03, -6.12815487e-03, -3.35637980e-03,\n",
       "       -3.96397021e-03, -7.74712917e-03, -2.68460003e-03, -1.19199525e-02,\n",
       "       -7.04554894e-03, -1.62639537e-03, -3.49578834e-04, -6.51615678e-03,\n",
       "        4.61306547e-03, -2.47895814e-03, -6.59998171e-03, -4.77342236e-03,\n",
       "       -2.21163170e-03, -3.08642984e-03, -1.31521654e-02,  5.83015761e-05,\n",
       "       -9.68284023e-03, -3.96456335e-03,  2.06213538e-03, -1.94497365e-03,\n",
       "       -5.85203288e-03,  2.09843444e-04, -7.27460214e-03, -7.53530732e-03,\n",
       "       -1.78711397e-02, -5.69177403e-03, -1.66318474e-02, -1.80035920e-03,\n",
       "       -1.39591331e-02,  6.59634859e-03, -9.55783183e-03, -7.56772353e-03,\n",
       "       -1.19317490e-02, -9.15549501e-03, -2.00479203e-02,  4.50753786e-03,\n",
       "       -2.94037729e-03, -3.45332725e-03, -7.95230975e-03, -2.10960107e-03,\n",
       "       -3.13317473e-03, -7.24233357e-03,  1.31296000e-04, -3.03964325e-04,\n",
       "        9.45733603e-05,  1.72629938e-03, -9.29727348e-03, -5.36492247e-04,\n",
       "       -2.66833950e-03, -4.55142653e-03, -7.01966313e-03, -4.74428786e-03,\n",
       "       -7.65797197e-03, -4.28976773e-03,  2.93957558e-03,  4.48485953e-04,\n",
       "       -3.31461886e-03, -3.96631047e-03, -5.20541018e-03, -4.55273625e-03,\n",
       "        2.67616092e-03, -2.72167470e-03,  1.27920938e-03, -9.16849294e-03,\n",
       "       -4.29382460e-03, -1.73688847e-03, -1.99520475e-03, -5.54492996e-03,\n",
       "       -3.70293931e-03,  7.67122284e-04, -1.06976326e-02,  1.74420944e-03,\n",
       "        1.23548876e-04,  2.52076026e-03, -6.76012282e-03, -2.30515074e-03,\n",
       "       -4.89596333e-03, -6.68940843e-03, -8.87135119e-03, -2.24870225e-03,\n",
       "       -3.43635741e-03, -6.54570139e-03,  3.75919866e-03, -6.62339559e-03,\n",
       "       -3.50101245e-03, -1.37176571e-02, -1.23890866e-02, -2.26711314e-03,\n",
       "       -1.14923179e-02, -3.96648516e-03,  9.11612484e-04, -5.33777549e-03,\n",
       "       -1.68284695e-03, -1.28598065e-03,  2.19299720e-03, -3.89979109e-03,\n",
       "       -3.10929837e-03, -2.31749153e-03, -2.97521246e-03, -5.94778691e-03,\n",
       "       -8.38566208e-03, -5.21468505e-03,  3.71705644e-03,  3.30841311e-04,\n",
       "       -4.69491971e-03, -4.09782557e-03, -3.16963562e-03, -4.62864662e-03,\n",
       "       -4.36309186e-03, -5.02595271e-03,  1.59887329e-03, -4.03152285e-03,\n",
       "       -2.70827099e-03, -7.87322632e-03, -1.45662337e-03, -5.22251577e-03,\n",
       "       -8.26192920e-03, -6.00749936e-03, -1.08702160e-02, -5.40452029e-03,\n",
       "       -8.53759967e-03, -1.55927938e-03, -1.01598077e-02, -7.88502505e-04,\n",
       "       -4.81197524e-03, -3.91799473e-04, -1.16296401e-03, -5.33856481e-03,\n",
       "        3.01875783e-03, -7.57767861e-03, -1.24777186e-02, -5.20175361e-03,\n",
       "       -2.60264635e-03, -4.35665802e-03, -2.60131898e-03, -1.67235881e-02,\n",
       "       -7.83114964e-03, -3.71054574e-03,  7.80930279e-05, -3.51604018e-03,\n",
       "       -6.99683312e-03, -1.13788838e-03, -3.19354580e-03, -3.83800723e-03,\n",
       "       -5.70893116e-03, -1.32567846e-03, -3.70866420e-03, -1.36553226e-02,\n",
       "       -9.15719965e-03, -1.14318699e-02, -2.25627513e-03, -4.98396968e-03,\n",
       "       -5.93489268e-03,  3.63313929e-03, -4.54156341e-03, -3.64915637e-03,\n",
       "        3.68201373e-03, -1.10254274e-02, -3.90394435e-03,  4.32576563e-03,\n",
       "       -2.23259493e-03, -2.48724950e-03, -8.79922117e-03, -3.32563983e-03,\n",
       "       -1.10303346e-02, -3.07401662e-03,  8.87635027e-04, -6.72584060e-03,\n",
       "       -1.04320694e-02, -6.57386395e-04, -3.01001843e-03,  5.05298531e-04,\n",
       "       -4.48052739e-03,  2.12393043e-03, -4.48269238e-03, -3.00066917e-03,\n",
       "       -6.09501826e-03, -1.84285526e-03, -1.95739075e-02, -1.28801997e-02,\n",
       "       -9.90815065e-03,  1.56470300e-03, -8.51702764e-03, -5.41617691e-03,\n",
       "       -8.36925279e-03, -7.41393520e-03,  1.17707770e-02, -1.28935928e-02,\n",
       "       -1.32972756e-03, -1.95333238e-03, -1.20211248e-04, -7.25950481e-03,\n",
       "       -9.38520803e-04, -5.80355969e-03, -1.65437176e-02,  6.03664384e-03,\n",
       "       -8.50941823e-03, -1.14123021e-03,  3.08583542e-03, -8.27694827e-03,\n",
       "       -6.36767478e-03,  1.90515506e-04,  2.48219006e-03, -4.79457994e-03,\n",
       "       -9.17703632e-04, -9.73246286e-04, -1.34946142e-04, -4.03152285e-03,\n",
       "       -6.09010863e-03, -8.84799891e-03, -2.30458313e-03, -8.00285297e-03,\n",
       "       -6.96819047e-03, -6.32412524e-03, -8.73503032e-03, -4.03152285e-03,\n",
       "       -3.32991630e-03, -1.15962052e-03, -7.93396664e-03, -9.77040170e-03,\n",
       "       -7.07756436e-03, -4.28471138e-03,  9.04602878e-04, -6.06503745e-03,\n",
       "        8.53272008e-04,  3.63808125e-04,  2.68182731e-03, -5.83190921e-03])"
      ]
     },
     "execution_count": 18,
     "metadata": {},
     "output_type": "execute_result"
    }
   ],
   "source": [
    "# Assemble actual y data (Y_test) with predicted y data (from just above) into two columns in a dataframe:\n",
    "## First I need to get my data out, and see what kind of data it is.\n",
    "\n",
    "results = Y_test.to_frame()\n",
    "results[\"Predicted Return\"] = predictions\n",
    "predictions"
   ]
  },
  {
   "cell_type": "code",
   "execution_count": 19,
   "metadata": {},
   "outputs": [
    {
     "data": {
      "text/html": [
       "<div>\n",
       "<style scoped>\n",
       "    .dataframe tbody tr th:only-of-type {\n",
       "        vertical-align: middle;\n",
       "    }\n",
       "\n",
       "    .dataframe tbody tr th {\n",
       "        vertical-align: top;\n",
       "    }\n",
       "\n",
       "    .dataframe thead th {\n",
       "        text-align: right;\n",
       "    }\n",
       "</style>\n",
       "<table border=\"1\" class=\"dataframe\">\n",
       "  <thead>\n",
       "    <tr style=\"text-align: right;\">\n",
       "      <th></th>\n",
       "      <th>0</th>\n",
       "    </tr>\n",
       "  </thead>\n",
       "  <tbody>\n",
       "    <tr>\n",
       "      <th>0</th>\n",
       "      <td>-0.006707</td>\n",
       "    </tr>\n",
       "    <tr>\n",
       "      <th>1</th>\n",
       "      <td>-0.007568</td>\n",
       "    </tr>\n",
       "    <tr>\n",
       "      <th>2</th>\n",
       "      <td>-0.001171</td>\n",
       "    </tr>\n",
       "    <tr>\n",
       "      <th>3</th>\n",
       "      <td>-0.001497</td>\n",
       "    </tr>\n",
       "    <tr>\n",
       "      <th>4</th>\n",
       "      <td>0.000179</td>\n",
       "    </tr>\n",
       "  </tbody>\n",
       "</table>\n",
       "</div>"
      ],
      "text/plain": [
       "          0\n",
       "0 -0.006707\n",
       "1 -0.007568\n",
       "2 -0.001171\n",
       "3 -0.001497\n",
       "4  0.000179"
      ]
     },
     "execution_count": 19,
     "metadata": {},
     "output_type": "execute_result"
    }
   ],
   "source": [
    "## It's an array.\n",
    "## Now, I need to convert that array to a dataframe using Pandas (Thanks, Google!).\n",
    "\n",
    "predictions_df = pd.DataFrame(predictions)\n",
    "predictions_df.head()"
   ]
  },
  {
   "cell_type": "code",
   "execution_count": 20,
   "metadata": {},
   "outputs": [
    {
     "data": {
      "text/html": [
       "<div>\n",
       "<style scoped>\n",
       "    .dataframe tbody tr th:only-of-type {\n",
       "        vertical-align: middle;\n",
       "    }\n",
       "\n",
       "    .dataframe tbody tr th {\n",
       "        vertical-align: top;\n",
       "    }\n",
       "\n",
       "    .dataframe thead th {\n",
       "        text-align: right;\n",
       "    }\n",
       "</style>\n",
       "<table border=\"1\" class=\"dataframe\">\n",
       "  <thead>\n",
       "    <tr style=\"text-align: right;\">\n",
       "      <th></th>\n",
       "      <th>Predictions</th>\n",
       "    </tr>\n",
       "  </thead>\n",
       "  <tbody>\n",
       "    <tr>\n",
       "      <th>0</th>\n",
       "      <td>-0.006707</td>\n",
       "    </tr>\n",
       "    <tr>\n",
       "      <th>1</th>\n",
       "      <td>-0.007568</td>\n",
       "    </tr>\n",
       "    <tr>\n",
       "      <th>2</th>\n",
       "      <td>-0.001171</td>\n",
       "    </tr>\n",
       "    <tr>\n",
       "      <th>3</th>\n",
       "      <td>-0.001497</td>\n",
       "    </tr>\n",
       "    <tr>\n",
       "      <th>4</th>\n",
       "      <td>0.000179</td>\n",
       "    </tr>\n",
       "  </tbody>\n",
       "</table>\n",
       "</div>"
      ],
      "text/plain": [
       "   Predictions\n",
       "0    -0.006707\n",
       "1    -0.007568\n",
       "2    -0.001171\n",
       "3    -0.001497\n",
       "4     0.000179"
      ]
     },
     "execution_count": 20,
     "metadata": {},
     "output_type": "execute_result"
    }
   ],
   "source": [
    "predictions_df.columns = ['Predictions']\n",
    "predictions_df.head()"
   ]
  },
  {
   "cell_type": "code",
   "execution_count": 21,
   "metadata": {},
   "outputs": [
    {
     "data": {
      "text/plain": [
       "array([<matplotlib.axes._subplots.AxesSubplot object at 0x000001E509A90E88>,\n",
       "       <matplotlib.axes._subplots.AxesSubplot object at 0x000001E50BAECD48>],\n",
       "      dtype=object)"
      ]
     },
     "execution_count": 21,
     "metadata": {},
     "output_type": "execute_result"
    },
    {
     "data": {
      "image/png": "[encoded data removed]",
      "text/plain": [
       "<Figure size 1080x360 with 2 Axes>"
      ]
     },
     "metadata": {
      "needs_background": "light"
     },
     "output_type": "display_data"
    }
   ],
   "source": [
    "# Plot the first 20 predictions vs the true values\n",
    "## Again, basically getting this from the group.\n",
    "\n",
    "results[:20].plot(subplots=True, figsize=(15,5))"
   ]
  },
  {
   "cell_type": "markdown",
   "metadata": {},
   "source": [
    "# Out-of-Sample Performance\n",
    "\n",
    "Evaluate the model using \"out-of-sample\" data (X_test and y_test)"
   ]
  },
  {
   "cell_type": "code",
   "execution_count": 22,
   "metadata": {},
   "outputs": [],
   "source": [
    "## Separating this cell for troubleshooting purposes.\n",
    "\n",
    "from sklearn.metrics import mean_squared_error"
   ]
  },
  {
   "cell_type": "code",
   "execution_count": 25,
   "metadata": {},
   "outputs": [],
   "source": [
    "# Calculate the mean_squared_error (MSE) on actual versus predicted test \"y\" \n",
    "## I'm using the names they're giving us.\n",
    "\n",
    "mse = mean_squared_error(\n",
    "    results[\"Settle\"],\n",
    "    results[\"Predicted Return\"]\n",
    ")"
   ]
  },
  {
   "cell_type": "code",
   "execution_count": 26,
   "metadata": {},
   "outputs": [
    {
     "data": {
      "text/plain": [
       "0.17238552644349286"
      ]
     },
     "execution_count": 26,
     "metadata": {},
     "output_type": "execute_result"
    }
   ],
   "source": [
    "## Let's see what we've got.\n",
    "mse"
   ]
  },
  {
   "cell_type": "code",
   "execution_count": 28,
   "metadata": {},
   "outputs": [
    {
     "data": {
      "text/plain": [
       "0.4151933603075715"
      ]
     },
     "execution_count": 28,
     "metadata": {},
     "output_type": "execute_result"
    }
   ],
   "source": [
    "# Using that mean-squared-error, calculate the root-mean-squared error (RMSE):\n",
    "## Just applying the square root function here, from https://numpy.org/doc/stable/reference/generated/numpy.sqrt.html\n",
    "rmse = np.sqrt(mse)\n",
    "rmse"
   ]
  },
  {
   "cell_type": "markdown",
   "metadata": {},
   "source": [
    "# In-Sample Performance\n",
    "\n",
    "Evaluate the model using in-sample data (X_train and y_train)"
   ]
  },
  {
   "cell_type": "code",
   "execution_count": 40,
   "metadata": {},
   "outputs": [
    {
     "data": {
      "text/html": [
       "<div>\n",
       "<style scoped>\n",
       "    .dataframe tbody tr th:only-of-type {\n",
       "        vertical-align: middle;\n",
       "    }\n",
       "\n",
       "    .dataframe tbody tr th {\n",
       "        vertical-align: top;\n",
       "    }\n",
       "\n",
       "    .dataframe thead th {\n",
       "        text-align: right;\n",
       "    }\n",
       "</style>\n",
       "<table border=\"1\" class=\"dataframe\">\n",
       "  <thead>\n",
       "    <tr style=\"text-align: right;\">\n",
       "      <th></th>\n",
       "      <th>Settle</th>\n",
       "    </tr>\n",
       "    <tr>\n",
       "      <th>Date</th>\n",
       "      <th></th>\n",
       "    </tr>\n",
       "  </thead>\n",
       "  <tbody>\n",
       "    <tr>\n",
       "      <th>2014-02-18</th>\n",
       "      <td>-0.427829</td>\n",
       "    </tr>\n",
       "    <tr>\n",
       "      <th>2014-02-19</th>\n",
       "      <td>-0.020460</td>\n",
       "    </tr>\n",
       "    <tr>\n",
       "      <th>2014-02-20</th>\n",
       "      <td>0.020465</td>\n",
       "    </tr>\n",
       "    <tr>\n",
       "      <th>2014-02-21</th>\n",
       "      <td>-0.204604</td>\n",
       "    </tr>\n",
       "    <tr>\n",
       "      <th>2014-02-24</th>\n",
       "      <td>0.020502</td>\n",
       "    </tr>\n",
       "  </tbody>\n",
       "</table>\n",
       "</div>"
      ],
      "text/plain": [
       "              Settle\n",
       "Date                \n",
       "2014-02-18 -0.427829\n",
       "2014-02-19 -0.020460\n",
       "2014-02-20  0.020465\n",
       "2014-02-21 -0.204604\n",
       "2014-02-24  0.020502"
      ]
     },
     "execution_count": 40,
     "metadata": {},
     "output_type": "execute_result"
    }
   ],
   "source": [
    "# Construct a dataframe using just the \"y\" training data:\n",
    "## Reading ahead, it wants \"in-sample\" predictions, so I'm naming the df that for simplicity\n",
    "\n",
    "in_sample_predictions = Y_train.to_frame()\n",
    "in_sample_predictions.head()"
   ]
  },
  {
   "cell_type": "code",
   "execution_count": 36,
   "metadata": {},
   "outputs": [],
   "source": [
    "# Add a column of \"in-sample\" predictions to that dataframe:\n",
    "in_sample_predictions[\"In-sample Predictions\"] = model.predict(X_train)"
   ]
  },
  {
   "cell_type": "code",
   "execution_count": 38,
   "metadata": {},
   "outputs": [
    {
     "data": {
      "text/plain": [
       "0.32008015896905967"
      ]
     },
     "execution_count": 38,
     "metadata": {},
     "output_type": "execute_result"
    }
   ],
   "source": [
    "# Calculate in-sample mean_squared_error (for comparison to out-of-sample)\n",
    "in_sample_mse = mean_squared_error(\n",
    "    in_sample_predictions[\"Settle\"],\n",
    "    in_sample_predictions[\"In-sample Predictions\"]\n",
    ")\n",
    "\n",
    "## Let's see what that looks like.\n",
    "in_sample_mse"
   ]
  },
  {
   "cell_type": "code",
   "execution_count": 46,
   "metadata": {},
   "outputs": [],
   "source": [
    "## It worked!"
   ]
  },
  {
   "cell_type": "code",
   "execution_count": 34,
   "metadata": {},
   "outputs": [
    {
     "data": {
      "text/plain": [
       "0.5657562717010388"
      ]
     },
     "execution_count": 34,
     "metadata": {},
     "output_type": "execute_result"
    }
   ],
   "source": [
    "# Calculate in-sample root mean_squared_error (for comparison to out-of-sample)\n",
    "in_sample_rmse = np.sqrt(in_sample_mse)\n",
    "in_sample_rmse"
   ]
  },
  {
   "cell_type": "markdown",
   "metadata": {},
   "source": [
    "# Conclusions"
   ]
  },
  {
   "cell_type": "markdown",
   "metadata": {},
   "source": [
    "YOUR CONCLUSIONS HERE!"
   ]
  },
  {
   "cell_type": "code",
   "execution_count": null,
   "metadata": {},
   "outputs": [],
   "source": [
    "## The out-of-sample data gives back .17 and .41, vs. the in-sample that gave back .32 and .56.\n",
    "## My understanding is that lower is better, in this case, so closer to 0 error is preferred.\n",
    "## Out of sample is better."
   ]
  }
 ],
 "metadata": {
  "file_extension": ".py",
  "kernelspec": {
   "display_name": "Python 3",
   "language": "python",
   "name": "python3"
  },
  "language_info": {
   "codemirror_mode": {
    "name": "ipython",
    "version": 3
   },
   "file_extension": ".py",
   "mimetype": "text/x-python",
   "name": "python",
   "nbconvert_exporter": "python",
   "pygments_lexer": "ipython3",
   "version": "3.7.10"
  },
  "mimetype": "text/x-python",
  "name": "python",
  "npconvert_exporter": "python",
  "pygments_lexer": "ipython3",
  "version": 3
 },
 "nbformat": 4,
 "nbformat_minor": 4
}
