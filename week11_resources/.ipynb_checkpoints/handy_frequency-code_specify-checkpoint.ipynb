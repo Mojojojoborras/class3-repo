{
 "cells": [
  {
   "cell_type": "code",
   "execution_count": null,
   "id": "94ce7fe1-739e-4ef9-8249-d246af31cbbd",
   "metadata": {},
   "outputs": [],
   "source": [
    "top_words = money_news_df[\n",
    "    (money_news_df[\"Frequency\"] >= 10) & (money_news_df[\"Frequency\"] <= 30)\n",
    "]"
   ]
  }
 ],
 "metadata": {
  "kernelspec": {
   "display_name": "Python 3",
   "language": "python",
   "name": "python3"
  },
  "language_info": {
   "codemirror_mode": {
    "name": "ipython",
    "version": 3
   },
   "file_extension": ".py",
   "mimetype": "text/x-python",
   "name": "python",
   "nbconvert_exporter": "python",
   "pygments_lexer": "ipython3",
   "version": "3.7.10"
  }
 },
 "nbformat": 4,
 "nbformat_minor": 5
}
