{
 "cells": [
  {
   "cell_type": "code",
   "execution_count": 1,
   "metadata": {},
   "outputs": [],
   "source": [
    "# Initial imports\n",
    "## This came from the Starter Code uploaded to the classe repo.\n",
    "\n",
    "import os\n",
    "import requests\n",
    "import pandas as pd"
   ]
  },
  {
   "cell_type": "code",
   "execution_count": 2,
   "metadata": {},
   "outputs": [],
   "source": [
    "## I was getting some error here, so I split the frame to work on the individual errors \"as they came up\".\n",
    "\n",
    "from dotenv import load_dotenv\n",
    "import alpaca_trade_api as tradeapi"
   ]
  },
  {
   "cell_type": "code",
   "execution_count": 3,
   "metadata": {},
   "outputs": [],
   "source": [
    "## dotenv wasn't working properly; I had to do a pip install and restart the kernel.\n",
    "## It works!"
   ]
  },
  {
   "cell_type": "code",
   "execution_count": 4,
   "metadata": {},
   "outputs": [],
   "source": [
    "from MCForecastTools import MCSimulation\n",
    "\n",
    "%matplotlib inline"
   ]
  },
  {
   "cell_type": "code",
   "execution_count": 5,
   "metadata": {},
   "outputs": [],
   "source": [
    "## MCForecastTools had some errors. Deleted the .py file and re-copied the most recent version from the class repo.\n",
    "## File saved as .py.py; erased the second \".py\".\n",
    "## It works!"
   ]
  },
  {
   "cell_type": "code",
   "execution_count": 6,
   "metadata": {},
   "outputs": [
    {
     "data": {
      "text/plain": [
       "True"
      ]
     },
     "execution_count": 6,
     "metadata": {},
     "output_type": "execute_result"
    }
   ],
   "source": [
    "# Load .env enviroment variables\n",
    "load_dotenv()"
   ]
  },
  {
   "cell_type": "markdown",
   "metadata": {},
   "source": [
    "## Part 1 - Personal Finance Planner\n",
    "\n",
    "In this section of the challenge, you will create a personal finance planner application. To develop the personal finance planner prototype, you should take into account the following assumptions:<br>\n",
    "<ul>\n",
    "<li>The average household income for each member of the credit union is $12,000.</li>\n",
    "<li>Every union member has a savings portfolio composed of cryptocurrencies, stocks and bonds:</li>\n",
    "<li>Assume the following amount of crypto assets: 1.2 BTC and 5.3 ETH.</li>\n",
    "<li>Assume the following amount of shares in stocks and bonds: 50 SPY (stocks) and 200 AGG (bonds).</li>\n",
    "</ul>"
   ]
  },
  {
   "cell_type": "code",
   "execution_count": 7,
   "metadata": {},
   "outputs": [],
   "source": [
    "## copied the instructions (above) from the homework page, so I could avoid going back and forth."
   ]
  },
  {
   "cell_type": "markdown",
   "metadata": {},
   "source": [
    "### Collect Crypto Prices Using the `requests` Library"
   ]
  },
  {
   "cell_type": "code",
   "execution_count": 8,
   "metadata": {},
   "outputs": [
    {
     "data": {
      "text/html": [
       "<div>\n",
       "<style scoped>\n",
       "    .dataframe tbody tr th:only-of-type {\n",
       "        vertical-align: middle;\n",
       "    }\n",
       "\n",
       "    .dataframe tbody tr th {\n",
       "        vertical-align: top;\n",
       "    }\n",
       "\n",
       "    .dataframe thead th {\n",
       "        text-align: right;\n",
       "    }\n",
       "</style>\n",
       "<table border=\"1\" class=\"dataframe\">\n",
       "  <thead>\n",
       "    <tr style=\"text-align: right;\">\n",
       "      <th></th>\n",
       "      <th>Coin_Amounts</th>\n",
       "    </tr>\n",
       "  </thead>\n",
       "  <tbody>\n",
       "    <tr>\n",
       "      <th>BTC</th>\n",
       "      <td>1.2</td>\n",
       "    </tr>\n",
       "    <tr>\n",
       "      <th>ETH</th>\n",
       "      <td>5.3</td>\n",
       "    </tr>\n",
       "  </tbody>\n",
       "</table>\n",
       "</div>"
      ],
      "text/plain": [
       "     Coin_Amounts\n",
       "BTC           1.2\n",
       "ETH           5.3"
      ]
     },
     "execution_count": 8,
     "metadata": {},
     "output_type": "execute_result"
    }
   ],
   "source": [
    "# Set current amount of crypto assets\n",
    "## creating a dataframe with the asset amounts\n",
    "\n",
    "crypto_data = {\n",
    "    \"Coin_Amounts\": [1.2, 5.3]\n",
    "}\n",
    "\n",
    "## from reading ahead, it looks like we're calling the coin prices tickers, also, so I'm going to stick with that terminology.\n",
    "## \n",
    "tickers = [\"BTC\", \"ETH\"]\n",
    "\n",
    "# Create the shares DataFrame\n",
    "df_coins = pd.DataFrame(crypto_data, index=tickers)\n",
    "\n",
    "# Display shares data\n",
    "df_coins"
   ]
  },
  {
   "cell_type": "code",
   "execution_count": 9,
   "metadata": {},
   "outputs": [],
   "source": [
    "# Crypto API URLs\n",
    "btc_url = \"https://api.alternative.me/v2/ticker/Bitcoin/\"\n",
    "eth_url = \"https://api.alternative.me/v2/ticker/Ethereum/\""
   ]
  },
  {
   "cell_type": "code",
   "execution_count": 10,
   "metadata": {},
   "outputs": [
    {
     "name": "stdout",
     "output_type": "stream",
     "text": [
      "{'data': {'1': {'id': 1, 'name': 'Bitcoin', 'symbol': 'BTC', 'website_slug': 'bitcoin', 'rank': 1, 'circulating_supply': 18726125, 'total_supply': 18726125, 'max_supply': 21000000, 'quotes': {'USD': {'price': 37923.0, 'volume_24h': 34303123636, 'market_cap': 714029646392, 'percentage_change_1h': -2.16532367852955, 'percentage_change_24h': 0.974773126305218, 'percentage_change_7d': -1.86246979857843, 'percent_change_1h': -2.16532367852955, 'percent_change_24h': 0.974773126305218, 'percent_change_7d': -1.86246979857843}}, 'last_updated': 1622770168}}, 'metadata': {'timestamp': 1622770168, 'num_cryptocurrencies': 1294, 'error': None}}\n"
     ]
    }
   ],
   "source": [
    "# Fetch current BTC price\n",
    "## I'm going to split this cell so it's easier for me to follow and troubleshoot.\n",
    "\n",
    "btc_price_get = requests.get(btc_url)\n",
    "btc_json = btc_price_get.json()\n",
    "print(btc_json)"
   ]
  },
  {
   "cell_type": "code",
   "execution_count": 11,
   "metadata": {},
   "outputs": [
    {
     "data": {
      "text/plain": [
       "{'data': {'1': {'id': 1,\n",
       "   'name': 'Bitcoin',\n",
       "   'symbol': 'BTC',\n",
       "   'website_slug': 'bitcoin',\n",
       "   'rank': 1,\n",
       "   'circulating_supply': 18726125,\n",
       "   'total_supply': 18726125,\n",
       "   'max_supply': 21000000,\n",
       "   'quotes': {'USD': {'price': 37923.0,\n",
       "     'volume_24h': 34303123636,\n",
       "     'market_cap': 714029646392,\n",
       "     'percentage_change_1h': -2.16532367852955,\n",
       "     'percentage_change_24h': 0.974773126305218,\n",
       "     'percentage_change_7d': -1.86246979857843,\n",
       "     'percent_change_1h': -2.16532367852955,\n",
       "     'percent_change_24h': 0.974773126305218,\n",
       "     'percent_change_7d': -1.86246979857843}},\n",
       "   'last_updated': 1622770168}},\n",
       " 'metadata': {'timestamp': 1622770168,\n",
       "  'num_cryptocurrencies': 1294,\n",
       "  'error': None}}"
      ]
     },
     "execution_count": 11,
     "metadata": {},
     "output_type": "execute_result"
    }
   ],
   "source": [
    "## That's not super helpful/easy to read.\n",
    "## Trying it without the print()\n",
    "btc_json"
   ]
  },
  {
   "cell_type": "code",
   "execution_count": 12,
   "metadata": {},
   "outputs": [
    {
     "name": "stdout",
     "output_type": "stream",
     "text": [
      "37923.0\n"
     ]
    }
   ],
   "source": [
    "## Much better!\n",
    "## Now, I just need to isolate the price.\n",
    "print(btc_json[\"data\"][\"1\"][\"quotes\"][\"USD\"][\"price\"])"
   ]
  },
  {
   "cell_type": "code",
   "execution_count": 13,
   "metadata": {},
   "outputs": [
    {
     "data": {
      "text/plain": [
       "37923.0"
      ]
     },
     "execution_count": 13,
     "metadata": {},
     "output_type": "execute_result"
    }
   ],
   "source": [
    "## That just shows me the price. I need to set a variable for BTC price.\n",
    "btc_price = (btc_json[\"data\"][\"1\"][\"quotes\"][\"USD\"][\"price\"])\n",
    "btc_price"
   ]
  },
  {
   "cell_type": "code",
   "execution_count": 14,
   "metadata": {},
   "outputs": [],
   "source": [
    "## It works!"
   ]
  },
  {
   "cell_type": "code",
   "execution_count": 15,
   "metadata": {},
   "outputs": [
    {
     "data": {
      "text/plain": [
       "{'data': {'1027': {'id': 1027,\n",
       "   'name': 'Ethereum',\n",
       "   'symbol': 'ETH',\n",
       "   'website_slug': 'ethereum',\n",
       "   'rank': 2,\n",
       "   'circulating_supply': 116146531,\n",
       "   'total_supply': 116146531,\n",
       "   'max_supply': 0,\n",
       "   'quotes': {'USD': {'price': 2733.53,\n",
       "     'volume_24h': 36490485565,\n",
       "     'market_cap': 318759041524,\n",
       "     'percentage_change_1h': -2.8518015240251,\n",
       "     'percentage_change_24h': 0.804189516382164,\n",
       "     'percentage_change_7d': -0.344931723823493,\n",
       "     'percent_change_1h': -2.8518015240251,\n",
       "     'percent_change_24h': 0.804189516382164,\n",
       "     'percent_change_7d': -0.344931723823493}},\n",
       "   'last_updated': 1622770135}},\n",
       " 'metadata': {'timestamp': 1622770135,\n",
       "  'num_cryptocurrencies': 1294,\n",
       "  'error': None}}"
      ]
     },
     "execution_count": 15,
     "metadata": {},
     "output_type": "execute_result"
    }
   ],
   "source": [
    "# Fetch current ETH price\n",
    "## Do the same thing I did above for BTC, but change everything to ETH.\n",
    "eth_price_get = requests.get(eth_url)\n",
    "eth_json = eth_price_get.json()\n",
    "eth_json"
   ]
  },
  {
   "cell_type": "code",
   "execution_count": 16,
   "metadata": {},
   "outputs": [
    {
     "data": {
      "text/plain": [
       "2733.53"
      ]
     },
     "execution_count": 16,
     "metadata": {},
     "output_type": "execute_result"
    }
   ],
   "source": [
    "## I got an error, so I split the cells to troubleshoot.\n",
    "## reading eth_json shows that the data structure is the same, but the values aren't identical.\n",
    "## the \"1\" in the BTC json reads \"1027\" here. Making the changes.\n",
    "eth_price = (eth_json[\"data\"][\"1027\"][\"quotes\"][\"USD\"][\"price\"])\n",
    "eth_price"
   ]
  },
  {
   "cell_type": "code",
   "execution_count": 17,
   "metadata": {},
   "outputs": [],
   "source": [
    "## It works!"
   ]
  },
  {
   "cell_type": "code",
   "execution_count": 18,
   "metadata": {},
   "outputs": [
    {
     "data": {
      "text/plain": [
       "45507.6"
      ]
     },
     "execution_count": 18,
     "metadata": {},
     "output_type": "execute_result"
    }
   ],
   "source": [
    "# Compute current value of my crpto\n",
    "## I need to get the amount of coins from my df_coins dataframe, then multiply that by the BTC and ETH prices.\n",
    "## My BT are at index position 0, I can get the values from the Coin_Amounts column at position 0, then multiply it by btc_price to get my btc_value\n",
    "btc_value = df_coins[\"Coin_Amounts\"].values[0] * btc_price\n",
    "btc_value"
   ]
  },
  {
   "cell_type": "code",
   "execution_count": 19,
   "metadata": {},
   "outputs": [
    {
     "data": {
      "text/plain": [
       "14487.709"
      ]
     },
     "execution_count": 19,
     "metadata": {},
     "output_type": "execute_result"
    }
   ],
   "source": [
    "## Now I do the same thing for ETH, which is at position 1.\n",
    "eth_value = df_coins[\"Coin_Amounts\"].values[1] * eth_price\n",
    "eth_value"
   ]
  },
  {
   "cell_type": "code",
   "execution_count": 20,
   "metadata": {},
   "outputs": [
    {
     "data": {
      "text/plain": [
       "14487.71"
      ]
     },
     "execution_count": 20,
     "metadata": {},
     "output_type": "execute_result"
    }
   ],
   "source": [
    "## I don't like that, so I'm rounding it.\n",
    "round(eth_value, 2)"
   ]
  },
  {
   "cell_type": "code",
   "execution_count": 21,
   "metadata": {},
   "outputs": [
    {
     "data": {
      "text/plain": [
       "1.2"
      ]
     },
     "execution_count": 21,
     "metadata": {},
     "output_type": "execute_result"
    }
   ],
   "source": [
    "# Print current crypto wallet balance\n",
    "## Reading ahead, I need to print out the number of shares I have as a variable, not \"just\" a value.\n",
    "## I got the value using df_coins[\"Coin_Amounts\"].values[0] before.\n",
    "## I'm creating a variable called my_btc using the above code to satisfy the starter code.\n",
    "\n",
    "my_btc = df_coins[\"Coin_Amounts\"].values[0]\n",
    "my_btc"
   ]
  },
  {
   "cell_type": "code",
   "execution_count": 22,
   "metadata": {},
   "outputs": [
    {
     "data": {
      "text/plain": [
       "5.3"
      ]
     },
     "execution_count": 22,
     "metadata": {},
     "output_type": "execute_result"
    }
   ],
   "source": [
    "## Now I'll do the same thing for ETH.\n",
    "my_eth = df_coins[\"Coin_Amounts\"].values[1]\n",
    "my_eth"
   ]
  },
  {
   "cell_type": "code",
   "execution_count": 23,
   "metadata": {},
   "outputs": [
    {
     "name": "stdout",
     "output_type": "stream",
     "text": [
      "The current value of your 1.2 BTC is $45507.60.\n"
     ]
    }
   ],
   "source": [
    "## This is from the starter code.\n",
    "print(f\"The current value of your {my_btc} BTC is ${btc_value:0.2f}.\")"
   ]
  },
  {
   "cell_type": "code",
   "execution_count": 24,
   "metadata": {},
   "outputs": [
    {
     "name": "stdout",
     "output_type": "stream",
     "text": [
      "The current value of your 5.3 ETH is $14487.71.\n"
     ]
    }
   ],
   "source": [
    "## This is from the starter code.\n",
    "print(f\"The current value of your {my_eth} ETH is ${eth_value:0.2f}.\")"
   ]
  },
  {
   "cell_type": "code",
   "execution_count": 25,
   "metadata": {},
   "outputs": [
    {
     "name": "stdout",
     "output_type": "stream",
     "text": [
      "The total value of your crypto is currently $59995.31.\n"
     ]
    }
   ],
   "source": [
    "## I want to display a total value of crypto holdings, mainly just for the reps.\n",
    "## I'm adding the 2 value variables.\n",
    "print(f\"The total value of your crypto is currently ${btc_value + eth_value:0.2f}.\")"
   ]
  },
  {
   "cell_type": "markdown",
   "metadata": {},
   "source": [
    "### Collect Investments Data Using Alpaca: `SPY` (stocks) and `AGG` (bonds)\n",
    "\n",
    "Important: Remember to create a .env file in your working directory to store the values of your Alpaca API key and Alpaca secret key.<br>\n",
    "\n",
    "<ul>\n",
    "    <li>Create two variables named my_agg and my_spy and set them equal to 200 and 50, respectively.</li>\n",
    "    <li>Set the Alpaca API key and secret key variables, then create the Alpaca API object using the tradeapi.REST function from the Alpaca SDK.</li>\n",
    "    <li>Format the current date as ISO format. You may change the date set in the starter code to the current date.</li>\n",
    "    <li>Get the current closing prices for SPY and AGG using Alpaca's get_barset() function. Transform the function's response to a Pandas DataFrame and preview the data.</li>\n",
    "    <li>Pick the SPY and AGG close prices from the Alpaca's get_barset() DataFrame response and store them as Python variables. Print the closing values for validation.</li>\n",
    "    <li>Compute the value in dollars of the current amount of shares and print the results.\n",
    "</ul>"
   ]
  },
  {
   "cell_type": "code",
   "execution_count": 26,
   "metadata": {},
   "outputs": [],
   "source": [
    "## First thing, I want to load my api keys.\n",
    "alpaca_api_key = os.getenv(\"ALPACA_API_KEY\")\n",
    "alpaca_secret_key = os.getenv(\"ALPACA_SECRET_KEY\")"
   ]
  },
  {
   "cell_type": "code",
   "execution_count": 27,
   "metadata": {},
   "outputs": [
    {
     "data": {
      "text/html": [
       "<div>\n",
       "<style scoped>\n",
       "    .dataframe tbody tr th:only-of-type {\n",
       "        vertical-align: middle;\n",
       "    }\n",
       "\n",
       "    .dataframe tbody tr th {\n",
       "        vertical-align: top;\n",
       "    }\n",
       "\n",
       "    .dataframe thead th {\n",
       "        text-align: right;\n",
       "    }\n",
       "</style>\n",
       "<table border=\"1\" class=\"dataframe\">\n",
       "  <thead>\n",
       "    <tr style=\"text-align: right;\">\n",
       "      <th></th>\n",
       "      <th>Amounts</th>\n",
       "    </tr>\n",
       "  </thead>\n",
       "  <tbody>\n",
       "    <tr>\n",
       "      <th>AGG</th>\n",
       "      <td>200</td>\n",
       "    </tr>\n",
       "    <tr>\n",
       "      <th>SPY</th>\n",
       "      <td>50</td>\n",
       "    </tr>\n",
       "  </tbody>\n",
       "</table>\n",
       "</div>"
      ],
      "text/plain": [
       "     Amounts\n",
       "AGG      200\n",
       "SPY       50"
      ]
     },
     "execution_count": 27,
     "metadata": {},
     "output_type": "execute_result"
    }
   ],
   "source": [
    "# Current amount of shares\n",
    "## as above, I'm creating a dataframe with the asset amounts\n",
    "\n",
    "aggspy_data = {\n",
    "    \"Amounts\": [200, 50]\n",
    "}\n",
    "\n",
    "## from reading ahead, it looks like we're calling the coin prices tickers, also, so I'm going to stick with that terminology.\n",
    "## \n",
    "aggspy_tickers = [\"AGG\", \"SPY\"]\n",
    "\n",
    "# Create the shares DataFrame\n",
    "df_aggspy = pd.DataFrame(aggspy_data, index=aggspy_tickers)\n",
    "\n",
    "# Display shares data\n",
    "df_aggspy"
   ]
  },
  {
   "cell_type": "code",
   "execution_count": 28,
   "metadata": {},
   "outputs": [],
   "source": [
    "# Set Alpaca API key and secret\n",
    "## Already done (see above)."
   ]
  },
  {
   "cell_type": "code",
   "execution_count": 29,
   "metadata": {},
   "outputs": [],
   "source": [
    "# Create the Alpaca API object\n",
    "alpaca = tradeapi.REST(\n",
    "    alpaca_api_key,\n",
    "    alpaca_secret_key,\n",
    "    api_version=\"v2\")"
   ]
  },
  {
   "cell_type": "code",
   "execution_count": 30,
   "metadata": {},
   "outputs": [
    {
     "name": "stdout",
     "output_type": "stream",
     "text": [
      "2021-06-03T20:32:10.663744\n"
     ]
    }
   ],
   "source": [
    "# Format current date as ISO format\n",
    "## from the student-do, I found today = pd.Timestamp(\"2020-07-14\", tz=\"America/New_York\").isoformat()\n",
    "## that's not the current date, but I found this in a Google search, so I'm going to start here to \"get\" the current date.\n",
    "\n",
    "from datetime import datetime\n",
    "my_date = datetime.now()\n",
    "print(my_date.isoformat())"
   ]
  },
  {
   "cell_type": "code",
   "execution_count": 31,
   "metadata": {},
   "outputs": [
    {
     "name": "stdout",
     "output_type": "stream",
     "text": [
      "['AGG', 'SPY']\n"
     ]
    }
   ],
   "source": [
    "# Set the tickers\n",
    "## already done, above.\n",
    "print(aggspy_tickers)"
   ]
  },
  {
   "cell_type": "code",
   "execution_count": 32,
   "metadata": {},
   "outputs": [],
   "source": [
    "# Set timeframe to '1D' for Alpaca API\n",
    "timeframe = \"1D\""
   ]
  },
  {
   "cell_type": "code",
   "execution_count": 33,
   "metadata": {},
   "outputs": [
    {
     "data": {
      "text/html": [
       "<div>\n",
       "<style scoped>\n",
       "    .dataframe tbody tr th:only-of-type {\n",
       "        vertical-align: middle;\n",
       "    }\n",
       "\n",
       "    .dataframe tbody tr th {\n",
       "        vertical-align: top;\n",
       "    }\n",
       "\n",
       "    .dataframe thead tr th {\n",
       "        text-align: left;\n",
       "    }\n",
       "\n",
       "    .dataframe thead tr:last-of-type th {\n",
       "        text-align: right;\n",
       "    }\n",
       "</style>\n",
       "<table border=\"1\" class=\"dataframe\">\n",
       "  <thead>\n",
       "    <tr>\n",
       "      <th></th>\n",
       "      <th colspan=\"5\" halign=\"left\">AGG</th>\n",
       "      <th colspan=\"5\" halign=\"left\">SPY</th>\n",
       "    </tr>\n",
       "    <tr>\n",
       "      <th></th>\n",
       "      <th>open</th>\n",
       "      <th>high</th>\n",
       "      <th>low</th>\n",
       "      <th>close</th>\n",
       "      <th>volume</th>\n",
       "      <th>open</th>\n",
       "      <th>high</th>\n",
       "      <th>low</th>\n",
       "      <th>close</th>\n",
       "      <th>volume</th>\n",
       "    </tr>\n",
       "    <tr>\n",
       "      <th>time</th>\n",
       "      <th></th>\n",
       "      <th></th>\n",
       "      <th></th>\n",
       "      <th></th>\n",
       "      <th></th>\n",
       "      <th></th>\n",
       "      <th></th>\n",
       "      <th></th>\n",
       "      <th></th>\n",
       "      <th></th>\n",
       "    </tr>\n",
       "  </thead>\n",
       "  <tbody>\n",
       "    <tr>\n",
       "      <th>2021-01-11 00:00:00-05:00</th>\n",
       "      <td>117.02</td>\n",
       "      <td>117.05</td>\n",
       "      <td>116.890</td>\n",
       "      <td>116.890</td>\n",
       "      <td>5047096</td>\n",
       "      <td>377.85</td>\n",
       "      <td>380.58</td>\n",
       "      <td>377.7189</td>\n",
       "      <td>378.74</td>\n",
       "      <td>44814805</td>\n",
       "    </tr>\n",
       "    <tr>\n",
       "      <th>2021-01-12 00:00:00-05:00</th>\n",
       "      <td>116.82</td>\n",
       "      <td>116.99</td>\n",
       "      <td>116.680</td>\n",
       "      <td>116.980</td>\n",
       "      <td>5103382</td>\n",
       "      <td>378.89</td>\n",
       "      <td>379.86</td>\n",
       "      <td>376.3600</td>\n",
       "      <td>378.81</td>\n",
       "      <td>45364896</td>\n",
       "    </tr>\n",
       "    <tr>\n",
       "      <th>2021-01-13 00:00:00-05:00</th>\n",
       "      <td>117.63</td>\n",
       "      <td>117.63</td>\n",
       "      <td>117.080</td>\n",
       "      <td>117.360</td>\n",
       "      <td>5686592</td>\n",
       "      <td>378.69</td>\n",
       "      <td>380.86</td>\n",
       "      <td>377.8500</td>\n",
       "      <td>379.76</td>\n",
       "      <td>38355050</td>\n",
       "    </tr>\n",
       "    <tr>\n",
       "      <th>2021-01-14 00:00:00-05:00</th>\n",
       "      <td>117.37</td>\n",
       "      <td>117.45</td>\n",
       "      <td>117.080</td>\n",
       "      <td>117.150</td>\n",
       "      <td>5311077</td>\n",
       "      <td>380.59</td>\n",
       "      <td>381.13</td>\n",
       "      <td>378.1000</td>\n",
       "      <td>378.45</td>\n",
       "      <td>41045335</td>\n",
       "    </tr>\n",
       "    <tr>\n",
       "      <th>2021-01-15 00:00:00-05:00</th>\n",
       "      <td>117.34</td>\n",
       "      <td>117.36</td>\n",
       "      <td>117.180</td>\n",
       "      <td>117.260</td>\n",
       "      <td>4776104</td>\n",
       "      <td>376.72</td>\n",
       "      <td>377.58</td>\n",
       "      <td>373.7000</td>\n",
       "      <td>375.68</td>\n",
       "      <td>78405054</td>\n",
       "    </tr>\n",
       "    <tr>\n",
       "      <th>...</th>\n",
       "      <td>...</td>\n",
       "      <td>...</td>\n",
       "      <td>...</td>\n",
       "      <td>...</td>\n",
       "      <td>...</td>\n",
       "      <td>...</td>\n",
       "      <td>...</td>\n",
       "      <td>...</td>\n",
       "      <td>...</td>\n",
       "      <td>...</td>\n",
       "    </tr>\n",
       "    <tr>\n",
       "      <th>2021-05-27 00:00:00-04:00</th>\n",
       "      <td>114.61</td>\n",
       "      <td>114.62</td>\n",
       "      <td>114.450</td>\n",
       "      <td>114.545</td>\n",
       "      <td>4826895</td>\n",
       "      <td>420.17</td>\n",
       "      <td>420.72</td>\n",
       "      <td>418.9851</td>\n",
       "      <td>419.69</td>\n",
       "      <td>48411613</td>\n",
       "    </tr>\n",
       "    <tr>\n",
       "      <th>2021-05-28 00:00:00-04:00</th>\n",
       "      <td>114.55</td>\n",
       "      <td>114.68</td>\n",
       "      <td>114.500</td>\n",
       "      <td>114.510</td>\n",
       "      <td>6186451</td>\n",
       "      <td>420.97</td>\n",
       "      <td>421.25</td>\n",
       "      <td>419.7900</td>\n",
       "      <td>420.02</td>\n",
       "      <td>49200328</td>\n",
       "    </tr>\n",
       "    <tr>\n",
       "      <th>2021-06-01 00:00:00-04:00</th>\n",
       "      <td>114.40</td>\n",
       "      <td>114.40</td>\n",
       "      <td>114.164</td>\n",
       "      <td>114.340</td>\n",
       "      <td>5655159</td>\n",
       "      <td>422.57</td>\n",
       "      <td>422.72</td>\n",
       "      <td>419.2000</td>\n",
       "      <td>419.63</td>\n",
       "      <td>47607950</td>\n",
       "    </tr>\n",
       "    <tr>\n",
       "      <th>2021-06-02 00:00:00-04:00</th>\n",
       "      <td>114.45</td>\n",
       "      <td>114.51</td>\n",
       "      <td>114.300</td>\n",
       "      <td>114.485</td>\n",
       "      <td>5649317</td>\n",
       "      <td>420.37</td>\n",
       "      <td>421.23</td>\n",
       "      <td>419.2900</td>\n",
       "      <td>420.38</td>\n",
       "      <td>41250387</td>\n",
       "    </tr>\n",
       "    <tr>\n",
       "      <th>2021-06-03 00:00:00-04:00</th>\n",
       "      <td>114.31</td>\n",
       "      <td>114.46</td>\n",
       "      <td>114.210</td>\n",
       "      <td>114.210</td>\n",
       "      <td>3270096</td>\n",
       "      <td>417.87</td>\n",
       "      <td>419.99</td>\n",
       "      <td>416.2800</td>\n",
       "      <td>418.86</td>\n",
       "      <td>51582905</td>\n",
       "    </tr>\n",
       "  </tbody>\n",
       "</table>\n",
       "<p>100 rows × 10 columns</p>\n",
       "</div>"
      ],
      "text/plain": [
       "                              AGG                                        SPY  \\\n",
       "                             open    high      low    close   volume    open   \n",
       "time                                                                           \n",
       "2021-01-11 00:00:00-05:00  117.02  117.05  116.890  116.890  5047096  377.85   \n",
       "2021-01-12 00:00:00-05:00  116.82  116.99  116.680  116.980  5103382  378.89   \n",
       "2021-01-13 00:00:00-05:00  117.63  117.63  117.080  117.360  5686592  378.69   \n",
       "2021-01-14 00:00:00-05:00  117.37  117.45  117.080  117.150  5311077  380.59   \n",
       "2021-01-15 00:00:00-05:00  117.34  117.36  117.180  117.260  4776104  376.72   \n",
       "...                           ...     ...      ...      ...      ...     ...   \n",
       "2021-05-27 00:00:00-04:00  114.61  114.62  114.450  114.545  4826895  420.17   \n",
       "2021-05-28 00:00:00-04:00  114.55  114.68  114.500  114.510  6186451  420.97   \n",
       "2021-06-01 00:00:00-04:00  114.40  114.40  114.164  114.340  5655159  422.57   \n",
       "2021-06-02 00:00:00-04:00  114.45  114.51  114.300  114.485  5649317  420.37   \n",
       "2021-06-03 00:00:00-04:00  114.31  114.46  114.210  114.210  3270096  417.87   \n",
       "\n",
       "                                                               \n",
       "                             high       low   close    volume  \n",
       "time                                                           \n",
       "2021-01-11 00:00:00-05:00  380.58  377.7189  378.74  44814805  \n",
       "2021-01-12 00:00:00-05:00  379.86  376.3600  378.81  45364896  \n",
       "2021-01-13 00:00:00-05:00  380.86  377.8500  379.76  38355050  \n",
       "2021-01-14 00:00:00-05:00  381.13  378.1000  378.45  41045335  \n",
       "2021-01-15 00:00:00-05:00  377.58  373.7000  375.68  78405054  \n",
       "...                           ...       ...     ...       ...  \n",
       "2021-05-27 00:00:00-04:00  420.72  418.9851  419.69  48411613  \n",
       "2021-05-28 00:00:00-04:00  421.25  419.7900  420.02  49200328  \n",
       "2021-06-01 00:00:00-04:00  422.72  419.2000  419.63  47607950  \n",
       "2021-06-02 00:00:00-04:00  421.23  419.2900  420.38  41250387  \n",
       "2021-06-03 00:00:00-04:00  419.99  416.2800  418.86  51582905  \n",
       "\n",
       "[100 rows x 10 columns]"
      ]
     },
     "execution_count": 33,
     "metadata": {},
     "output_type": "execute_result"
    }
   ],
   "source": [
    "# Get current closing prices for SPY and AGG\n",
    "aggspy_portfolio = alpaca.get_barset(\n",
    "    aggspy_tickers,\n",
    "    timeframe,\n",
    ").df\n",
    "\n",
    "# Preview DataFrame\n",
    "aggspy_portfolio"
   ]
  },
  {
   "cell_type": "code",
   "execution_count": 34,
   "metadata": {},
   "outputs": [
    {
     "data": {
      "text/html": [
       "<div>\n",
       "<style scoped>\n",
       "    .dataframe tbody tr th:only-of-type {\n",
       "        vertical-align: middle;\n",
       "    }\n",
       "\n",
       "    .dataframe tbody tr th {\n",
       "        vertical-align: top;\n",
       "    }\n",
       "\n",
       "    .dataframe thead th {\n",
       "        text-align: right;\n",
       "    }\n",
       "</style>\n",
       "<table border=\"1\" class=\"dataframe\">\n",
       "  <thead>\n",
       "    <tr style=\"text-align: right;\">\n",
       "      <th></th>\n",
       "    </tr>\n",
       "  </thead>\n",
       "  <tbody>\n",
       "  </tbody>\n",
       "</table>\n",
       "</div>"
      ],
      "text/plain": [
       "Empty DataFrame\n",
       "Columns: []\n",
       "Index: []"
      ]
     },
     "execution_count": 34,
     "metadata": {},
     "output_type": "execute_result"
    }
   ],
   "source": [
    "# Pick AGG and SPY close prices\n",
    "## I don't want to mess with the aggspy_portfolio df, so I'm going to create a new df for aggspy closing prices.\n",
    "aggspy_closing_prices = pd.DataFrame()\n",
    "aggspy_closing_prices"
   ]
  },
  {
   "cell_type": "code",
   "execution_count": 35,
   "metadata": {},
   "outputs": [],
   "source": [
    "## It works!\n",
    "## Now, I need to get the closing prices of AGG and SPY\n",
    "aggspy_closing_prices[\"AGG\"] = aggspy_portfolio[\"AGG\"][\"close\"]\n",
    "aggspy_closing_prices[\"SPY\"] = aggspy_portfolio[\"SPY\"][\"close\"]"
   ]
  },
  {
   "cell_type": "code",
   "execution_count": 36,
   "metadata": {},
   "outputs": [
    {
     "data": {
      "text/html": [
       "<div>\n",
       "<style scoped>\n",
       "    .dataframe tbody tr th:only-of-type {\n",
       "        vertical-align: middle;\n",
       "    }\n",
       "\n",
       "    .dataframe tbody tr th {\n",
       "        vertical-align: top;\n",
       "    }\n",
       "\n",
       "    .dataframe thead th {\n",
       "        text-align: right;\n",
       "    }\n",
       "</style>\n",
       "<table border=\"1\" class=\"dataframe\">\n",
       "  <thead>\n",
       "    <tr style=\"text-align: right;\">\n",
       "      <th></th>\n",
       "      <th>AGG</th>\n",
       "      <th>SPY</th>\n",
       "    </tr>\n",
       "    <tr>\n",
       "      <th>time</th>\n",
       "      <th></th>\n",
       "      <th></th>\n",
       "    </tr>\n",
       "  </thead>\n",
       "  <tbody>\n",
       "    <tr>\n",
       "      <th>2021-01-11 00:00:00-05:00</th>\n",
       "      <td>116.89</td>\n",
       "      <td>378.74</td>\n",
       "    </tr>\n",
       "    <tr>\n",
       "      <th>2021-01-12 00:00:00-05:00</th>\n",
       "      <td>116.98</td>\n",
       "      <td>378.81</td>\n",
       "    </tr>\n",
       "    <tr>\n",
       "      <th>2021-01-13 00:00:00-05:00</th>\n",
       "      <td>117.36</td>\n",
       "      <td>379.76</td>\n",
       "    </tr>\n",
       "    <tr>\n",
       "      <th>2021-01-14 00:00:00-05:00</th>\n",
       "      <td>117.15</td>\n",
       "      <td>378.45</td>\n",
       "    </tr>\n",
       "    <tr>\n",
       "      <th>2021-01-15 00:00:00-05:00</th>\n",
       "      <td>117.26</td>\n",
       "      <td>375.68</td>\n",
       "    </tr>\n",
       "  </tbody>\n",
       "</table>\n",
       "</div>"
      ],
      "text/plain": [
       "                              AGG     SPY\n",
       "time                                     \n",
       "2021-01-11 00:00:00-05:00  116.89  378.74\n",
       "2021-01-12 00:00:00-05:00  116.98  378.81\n",
       "2021-01-13 00:00:00-05:00  117.36  379.76\n",
       "2021-01-14 00:00:00-05:00  117.15  378.45\n",
       "2021-01-15 00:00:00-05:00  117.26  375.68"
      ]
     },
     "execution_count": 36,
     "metadata": {},
     "output_type": "execute_result"
    }
   ],
   "source": [
    "## Let's see f that worked.\n",
    "aggspy_closing_prices.head()"
   ]
  },
  {
   "cell_type": "code",
   "execution_count": 37,
   "metadata": {},
   "outputs": [],
   "source": [
    "## It works!"
   ]
  },
  {
   "cell_type": "code",
   "execution_count": 38,
   "metadata": {},
   "outputs": [],
   "source": [
    "## I don't think I need the time element, so I'll drop that from the closing date/index.\n",
    "aggspy_closing_prices.index = aggspy_closing_prices.index.date"
   ]
  },
  {
   "cell_type": "code",
   "execution_count": 39,
   "metadata": {},
   "outputs": [
    {
     "data": {
      "text/html": [
       "<div>\n",
       "<style scoped>\n",
       "    .dataframe tbody tr th:only-of-type {\n",
       "        vertical-align: middle;\n",
       "    }\n",
       "\n",
       "    .dataframe tbody tr th {\n",
       "        vertical-align: top;\n",
       "    }\n",
       "\n",
       "    .dataframe thead th {\n",
       "        text-align: right;\n",
       "    }\n",
       "</style>\n",
       "<table border=\"1\" class=\"dataframe\">\n",
       "  <thead>\n",
       "    <tr style=\"text-align: right;\">\n",
       "      <th></th>\n",
       "      <th>AGG</th>\n",
       "      <th>SPY</th>\n",
       "    </tr>\n",
       "  </thead>\n",
       "  <tbody>\n",
       "    <tr>\n",
       "      <th>2021-01-11</th>\n",
       "      <td>116.89</td>\n",
       "      <td>378.74</td>\n",
       "    </tr>\n",
       "    <tr>\n",
       "      <th>2021-01-12</th>\n",
       "      <td>116.98</td>\n",
       "      <td>378.81</td>\n",
       "    </tr>\n",
       "    <tr>\n",
       "      <th>2021-01-13</th>\n",
       "      <td>117.36</td>\n",
       "      <td>379.76</td>\n",
       "    </tr>\n",
       "    <tr>\n",
       "      <th>2021-01-14</th>\n",
       "      <td>117.15</td>\n",
       "      <td>378.45</td>\n",
       "    </tr>\n",
       "    <tr>\n",
       "      <th>2021-01-15</th>\n",
       "      <td>117.26</td>\n",
       "      <td>375.68</td>\n",
       "    </tr>\n",
       "  </tbody>\n",
       "</table>\n",
       "</div>"
      ],
      "text/plain": [
       "               AGG     SPY\n",
       "2021-01-11  116.89  378.74\n",
       "2021-01-12  116.98  378.81\n",
       "2021-01-13  117.36  379.76\n",
       "2021-01-14  117.15  378.45\n",
       "2021-01-15  117.26  375.68"
      ]
     },
     "execution_count": 39,
     "metadata": {},
     "output_type": "execute_result"
    }
   ],
   "source": [
    "## Let's see if that worked.\n",
    "aggspy_closing_prices.head()"
   ]
  },
  {
   "cell_type": "code",
   "execution_count": 40,
   "metadata": {},
   "outputs": [],
   "source": [
    "## It worked!"
   ]
  },
  {
   "cell_type": "code",
   "execution_count": 41,
   "metadata": {},
   "outputs": [],
   "source": [
    "# Print AGG and SPY close prices\n",
    "## I want the AGG and SPY closing prices at index position 0.\n",
    "## As I did above, I'm going to create a variable from the value at index position 0.\n",
    "\n",
    "agg_close_price = aggspy_closing_prices[\"AGG\"].values[0]\n",
    "spy_close_price = aggspy_closing_prices[\"SPY\"].values[0]"
   ]
  },
  {
   "cell_type": "code",
   "execution_count": 42,
   "metadata": {},
   "outputs": [
    {
     "data": {
      "text/plain": [
       "116.89"
      ]
     },
     "execution_count": 42,
     "metadata": {},
     "output_type": "execute_result"
    }
   ],
   "source": [
    "## Now, to see if that worked.\n",
    "## First, print agg_close_price.\n",
    "agg_close_price"
   ]
  },
  {
   "cell_type": "code",
   "execution_count": 43,
   "metadata": {},
   "outputs": [
    {
     "data": {
      "text/plain": [
       "378.74"
      ]
     },
     "execution_count": 43,
     "metadata": {},
     "output_type": "execute_result"
    }
   ],
   "source": [
    "## Great!\n",
    "## Now, I'll print spy_close_price.\n",
    "spy_close_price"
   ]
  },
  {
   "cell_type": "code",
   "execution_count": 44,
   "metadata": {},
   "outputs": [
    {
     "name": "stdout",
     "output_type": "stream",
     "text": [
      "Current AGG closing price: $116.89.\n",
      "Current SPY closing price: $378.74.\n"
     ]
    }
   ],
   "source": [
    "print(f\"Current AGG closing price: ${agg_close_price}.\")\n",
    "print(f\"Current SPY closing price: ${spy_close_price}.\")"
   ]
  },
  {
   "cell_type": "code",
   "execution_count": 45,
   "metadata": {},
   "outputs": [
    {
     "data": {
      "text/plain": [
       "200"
      ]
     },
     "execution_count": 45,
     "metadata": {},
     "output_type": "execute_result"
    }
   ],
   "source": [
    "# Compute the current value of shares\n",
    "## Reading ahead, I need to print out the number of shares I have as a variable, not \"just\" a value.\n",
    "## I got the value using df_aggspy[\"Amounts\"].values[0] before (edited from the crypto section).\n",
    "## I'm creating a variable called my_agg using the above code to satisfy the starter code.\n",
    "\n",
    "my_agg = df_aggspy[\"Amounts\"].values[0]\n",
    "my_agg"
   ]
  },
  {
   "cell_type": "code",
   "execution_count": 46,
   "metadata": {},
   "outputs": [
    {
     "data": {
      "text/plain": [
       "50"
      ]
     },
     "execution_count": 46,
     "metadata": {},
     "output_type": "execute_result"
    }
   ],
   "source": [
    "## Now, I do the same thing for SPY.\n",
    "\n",
    "my_spy = df_aggspy[\"Amounts\"].values[1]\n",
    "my_spy"
   ]
  },
  {
   "cell_type": "code",
   "execution_count": 47,
   "metadata": {},
   "outputs": [
    {
     "data": {
      "text/plain": [
       "23378.0"
      ]
     },
     "execution_count": 47,
     "metadata": {},
     "output_type": "execute_result"
    }
   ],
   "source": [
    "## Now, I create a variable called my_spy_value that reflects my # of shares * closing price.\n",
    "## First, I calculate for AGG.\n",
    "my_agg_value = my_agg * agg_close_price\n",
    "my_agg_value"
   ]
  },
  {
   "cell_type": "code",
   "execution_count": 48,
   "metadata": {},
   "outputs": [
    {
     "data": {
      "text/plain": [
       "18937.0"
      ]
     },
     "execution_count": 48,
     "metadata": {},
     "output_type": "execute_result"
    }
   ],
   "source": [
    "## Now for SPY.\n",
    "my_spy_value = my_spy * spy_close_price\n",
    "my_spy_value"
   ]
  },
  {
   "cell_type": "code",
   "execution_count": 49,
   "metadata": {},
   "outputs": [
    {
     "name": "stdout",
     "output_type": "stream",
     "text": [
      "The current value of your 50 SPY shares is $18937.00.\n",
      "The current value of your 200 AGG shares is $23378.00.\n"
     ]
    }
   ],
   "source": [
    "# Print current value of share\n",
    "print(f\"The current value of your {my_spy} SPY shares is ${my_spy_value:0.2f}.\")\n",
    "print(f\"The current value of your {my_agg} AGG shares is ${my_agg_value:0.2f}.\")"
   ]
  },
  {
   "cell_type": "code",
   "execution_count": 50,
   "metadata": {},
   "outputs": [
    {
     "name": "stdout",
     "output_type": "stream",
     "text": [
      "The total value of your stocks and bonds is currently $42315.00.\n"
     ]
    }
   ],
   "source": [
    "## I want to display a total value of AGG and SPY holdings, mainly just for the reps.\n",
    "## I'm adding the 2 value variables.\n",
    "print(f\"The total value of your stocks and bonds is currently ${my_agg_value + my_spy_value:0.2f}.\")"
   ]
  },
  {
   "cell_type": "markdown",
   "metadata": {},
   "source": [
    "### Savings Health Analysis"
   ]
  },
  {
   "cell_type": "code",
   "execution_count": 51,
   "metadata": {},
   "outputs": [],
   "source": [
    "## Copied from the HW assignment.\n",
    "## In this section, you will assess the financial health of the credit union's members."
   ]
  },
  {
   "cell_type": "code",
   "execution_count": 52,
   "metadata": {},
   "outputs": [],
   "source": [
    "# Set monthly household income\n",
    "## Create a variable called monthly_income and set its value to 12000.\n",
    "monthly_income = 12000"
   ]
  },
  {
   "cell_type": "code",
   "execution_count": 53,
   "metadata": {},
   "outputs": [],
   "source": [
    "# Create savings DataFrame\n",
    "## To analyze savings health, create a DataFrame called df_savings with two rows.\n",
    "## Store the total value in dollars of the crypto assets in the first row and the total value of the shares in the second row.\n",
    "## Hint: The df_savings DataFrame should have one column named amount and two rows where crypto and shares are the index values.\n",
    "\n",
    "## I need to create the information that will go into df_savings.\n",
    "\n",
    "savings = {\n",
    "    \"Amounts\": [btc_value + eth_value, my_agg_value + my_spy_value]\n",
    "}\n",
    "\n",
    "## Now I need to set the assets.\n",
    "\n",
    "assets = [\"Crypto\",\"Shares\"]"
   ]
  },
  {
   "cell_type": "code",
   "execution_count": 54,
   "metadata": {},
   "outputs": [
    {
     "data": {
      "text/html": [
       "<div>\n",
       "<style scoped>\n",
       "    .dataframe tbody tr th:only-of-type {\n",
       "        vertical-align: middle;\n",
       "    }\n",
       "\n",
       "    .dataframe tbody tr th {\n",
       "        vertical-align: top;\n",
       "    }\n",
       "\n",
       "    .dataframe thead th {\n",
       "        text-align: right;\n",
       "    }\n",
       "</style>\n",
       "<table border=\"1\" class=\"dataframe\">\n",
       "  <thead>\n",
       "    <tr style=\"text-align: right;\">\n",
       "      <th></th>\n",
       "      <th>Amounts</th>\n",
       "    </tr>\n",
       "  </thead>\n",
       "  <tbody>\n",
       "    <tr>\n",
       "      <th>Crypto</th>\n",
       "      <td>59995.309</td>\n",
       "    </tr>\n",
       "    <tr>\n",
       "      <th>Shares</th>\n",
       "      <td>42315.000</td>\n",
       "    </tr>\n",
       "  </tbody>\n",
       "</table>\n",
       "</div>"
      ],
      "text/plain": [
       "          Amounts\n",
       "Crypto  59995.309\n",
       "Shares  42315.000"
      ]
     },
     "execution_count": 54,
     "metadata": {},
     "output_type": "execute_result"
    }
   ],
   "source": [
    "# Display savings DataFrame\n",
    "df_savings = pd.DataFrame(savings, index = assets)\n",
    "df_savings"
   ]
  },
  {
   "cell_type": "code",
   "execution_count": 55,
   "metadata": {},
   "outputs": [
    {
     "data": {
      "image/png": "[encoded data removed]",
      "text/plain": [
       "<Figure size 432x288 with 1 Axes>"
      ]
     },
     "metadata": {},
     "output_type": "display_data"
    }
   ],
   "source": [
    "# Plot savings pie chart\n",
    "df_savings.plot.pie(y = \"Amounts\", title = \"Visualizing Your Savings\");"
   ]
  },
  {
   "cell_type": "code",
   "execution_count": 56,
   "metadata": {},
   "outputs": [
    {
     "data": {
      "text/plain": [
       "36000"
      ]
     },
     "execution_count": 56,
     "metadata": {},
     "output_type": "execute_result"
    }
   ],
   "source": [
    "# Set ideal emergency fund.\n",
    "## According to the assignment: An ideal emergency fund should be equal to 3x your monthly income.\n",
    "emergency_fund = monthly_income * 3\n",
    "emergency_fund"
   ]
  },
  {
   "cell_type": "code",
   "execution_count": 57,
   "metadata": {},
   "outputs": [],
   "source": [
    "# Calculate total amount of savings\n",
    "## I need to add the amounts together from my df_savings df.\n",
    "## I'm going to use the .sum function.\n",
    "\n",
    "total_savings = df_savings.sum().item()"
   ]
  },
  {
   "cell_type": "code",
   "execution_count": 58,
   "metadata": {},
   "outputs": [
    {
     "data": {
      "text/plain": [
       "102310.30900000001"
      ]
     },
     "execution_count": 58,
     "metadata": {},
     "output_type": "execute_result"
    }
   ],
   "source": [
    "## Now, to see if it worked.\n",
    "\n",
    "total_savings"
   ]
  },
  {
   "cell_type": "code",
   "execution_count": 59,
   "metadata": {},
   "outputs": [],
   "source": [
    "## It works!"
   ]
  },
  {
   "cell_type": "code",
   "execution_count": 60,
   "metadata": {},
   "outputs": [
    {
     "name": "stdout",
     "output_type": "stream",
     "text": [
      "You have enough money in your emergency fund.\n"
     ]
    }
   ],
   "source": [
    "# Validate saving health\n",
    "## From the Homework:  Use if conditional statements to validate if the current savings are enough for an emergency fund.\n",
    "\n",
    "if total_savings > emergency_fund:\n",
    "    print(\"You have enough money in your emergency fund.\")\n",
    "else:\n",
    "    print(f\"You do not have enough in your emergency fund. You still neeed to save {round(emergency_fund - total_savings, 2)}.\")"
   ]
  },
  {
   "cell_type": "code",
   "execution_count": 61,
   "metadata": {},
   "outputs": [],
   "source": [
    "## It works!"
   ]
  },
  {
   "cell_type": "markdown",
   "metadata": {},
   "source": [
    "## Part 2 - Retirement Planning\n",
    "\n",
    "### Monte Carlo Simulation"
   ]
  },
  {
   "cell_type": "code",
   "execution_count": 62,
   "metadata": {},
   "outputs": [],
   "source": [
    "# Set start and end dates of five years back from today.\n",
    "# Sample results may vary from the solution based on the time frame chosen.\n",
    "## Setting the starter code to 5 years abck from current date (01JUN21).\n",
    "start_date = pd.Timestamp('2016-06-01', tz='America/New_York').isoformat()\n",
    "end_date = pd.Timestamp('2021-06-01', tz='America/New_York').isoformat()"
   ]
  },
  {
   "cell_type": "code",
   "execution_count": 63,
   "metadata": {},
   "outputs": [
    {
     "data": {
      "text/plain": [
       "['AGG', 'SPY']"
      ]
     },
     "execution_count": 63,
     "metadata": {},
     "output_type": "execute_result"
    }
   ],
   "source": [
    "# Get 5 years' worth of historical data for SPY and AGG\n",
    "## From above, we already have this in a variable called aggspy_tickers.\n",
    "## Let's make sure it's still there.\n",
    "aggspy_tickers"
   ]
  },
  {
   "cell_type": "code",
   "execution_count": 64,
   "metadata": {},
   "outputs": [],
   "source": [
    "## Still there!"
   ]
  },
  {
   "cell_type": "code",
   "execution_count": 65,
   "metadata": {},
   "outputs": [
    {
     "data": {
      "text/plain": [
       "'1D'"
      ]
     },
     "execution_count": 65,
     "metadata": {},
     "output_type": "execute_result"
    }
   ],
   "source": [
    "## Now, like above, I need to see if my variable \"timeframe\" is still set to 1 day.\n",
    "timeframe"
   ]
  },
  {
   "cell_type": "code",
   "execution_count": 66,
   "metadata": {},
   "outputs": [],
   "source": [
    "## Still there!"
   ]
  },
  {
   "cell_type": "code",
   "execution_count": 67,
   "metadata": {},
   "outputs": [],
   "source": [
    "## Now, I need to get the last 5 years of data. \n",
    "## I kept getting errors using 1260 days, because my free account is only good for 1000 days, so I just ran with that.\n",
    "## From reading ahead in the starter code, I need to name this df_stock_data.\n",
    "## I found get_barset on Google.\n",
    "\n",
    "df_stock_data = alpaca.get_barset(\n",
    "    aggspy_tickers,\n",
    "    timeframe,\n",
    "    start=start_date,\n",
    "    end=end_date,\n",
    "    limit=1000,\n",
    ").df"
   ]
  },
  {
   "cell_type": "code",
   "execution_count": 68,
   "metadata": {},
   "outputs": [
    {
     "data": {
      "text/html": [
       "<div>\n",
       "<style scoped>\n",
       "    .dataframe tbody tr th:only-of-type {\n",
       "        vertical-align: middle;\n",
       "    }\n",
       "\n",
       "    .dataframe tbody tr th {\n",
       "        vertical-align: top;\n",
       "    }\n",
       "\n",
       "    .dataframe thead tr th {\n",
       "        text-align: left;\n",
       "    }\n",
       "\n",
       "    .dataframe thead tr:last-of-type th {\n",
       "        text-align: right;\n",
       "    }\n",
       "</style>\n",
       "<table border=\"1\" class=\"dataframe\">\n",
       "  <thead>\n",
       "    <tr>\n",
       "      <th></th>\n",
       "      <th colspan=\"5\" halign=\"left\">AGG</th>\n",
       "      <th colspan=\"5\" halign=\"left\">SPY</th>\n",
       "    </tr>\n",
       "    <tr>\n",
       "      <th></th>\n",
       "      <th>open</th>\n",
       "      <th>high</th>\n",
       "      <th>low</th>\n",
       "      <th>close</th>\n",
       "      <th>volume</th>\n",
       "      <th>open</th>\n",
       "      <th>high</th>\n",
       "      <th>low</th>\n",
       "      <th>close</th>\n",
       "      <th>volume</th>\n",
       "    </tr>\n",
       "    <tr>\n",
       "      <th>time</th>\n",
       "      <th></th>\n",
       "      <th></th>\n",
       "      <th></th>\n",
       "      <th></th>\n",
       "      <th></th>\n",
       "      <th></th>\n",
       "      <th></th>\n",
       "      <th></th>\n",
       "      <th></th>\n",
       "      <th></th>\n",
       "    </tr>\n",
       "  </thead>\n",
       "  <tbody>\n",
       "    <tr>\n",
       "      <th>2017-06-09 00:00:00-04:00</th>\n",
       "      <td>109.51</td>\n",
       "      <td>109.6300</td>\n",
       "      <td>109.46</td>\n",
       "      <td>109.560</td>\n",
       "      <td>1356020.0</td>\n",
       "      <td>NaN</td>\n",
       "      <td>NaN</td>\n",
       "      <td>NaN</td>\n",
       "      <td>NaN</td>\n",
       "      <td>NaN</td>\n",
       "    </tr>\n",
       "    <tr>\n",
       "      <th>2017-06-12 00:00:00-04:00</th>\n",
       "      <td>109.51</td>\n",
       "      <td>109.6958</td>\n",
       "      <td>109.47</td>\n",
       "      <td>109.555</td>\n",
       "      <td>1184601.0</td>\n",
       "      <td>243.14</td>\n",
       "      <td>243.42</td>\n",
       "      <td>242.3800</td>\n",
       "      <td>243.34</td>\n",
       "      <td>57096569.0</td>\n",
       "    </tr>\n",
       "    <tr>\n",
       "      <th>2017-06-13 00:00:00-04:00</th>\n",
       "      <td>109.43</td>\n",
       "      <td>109.6000</td>\n",
       "      <td>109.43</td>\n",
       "      <td>109.580</td>\n",
       "      <td>1324388.0</td>\n",
       "      <td>243.99</td>\n",
       "      <td>244.61</td>\n",
       "      <td>243.5799</td>\n",
       "      <td>244.52</td>\n",
       "      <td>43470532.0</td>\n",
       "    </tr>\n",
       "    <tr>\n",
       "      <th>2017-06-14 00:00:00-04:00</th>\n",
       "      <td>110.00</td>\n",
       "      <td>110.1800</td>\n",
       "      <td>109.85</td>\n",
       "      <td>109.950</td>\n",
       "      <td>2304819.0</td>\n",
       "      <td>244.86</td>\n",
       "      <td>244.87</td>\n",
       "      <td>243.2900</td>\n",
       "      <td>244.26</td>\n",
       "      <td>55098826.0</td>\n",
       "    </tr>\n",
       "    <tr>\n",
       "      <th>2017-06-15 00:00:00-04:00</th>\n",
       "      <td>109.90</td>\n",
       "      <td>109.9000</td>\n",
       "      <td>109.78</td>\n",
       "      <td>109.870</td>\n",
       "      <td>1938779.0</td>\n",
       "      <td>242.68</td>\n",
       "      <td>243.91</td>\n",
       "      <td>242.3600</td>\n",
       "      <td>243.79</td>\n",
       "      <td>51523068.0</td>\n",
       "    </tr>\n",
       "  </tbody>\n",
       "</table>\n",
       "</div>"
      ],
      "text/plain": [
       "                              AGG                                        \\\n",
       "                             open      high     low    close     volume   \n",
       "time                                                                      \n",
       "2017-06-09 00:00:00-04:00  109.51  109.6300  109.46  109.560  1356020.0   \n",
       "2017-06-12 00:00:00-04:00  109.51  109.6958  109.47  109.555  1184601.0   \n",
       "2017-06-13 00:00:00-04:00  109.43  109.6000  109.43  109.580  1324388.0   \n",
       "2017-06-14 00:00:00-04:00  110.00  110.1800  109.85  109.950  2304819.0   \n",
       "2017-06-15 00:00:00-04:00  109.90  109.9000  109.78  109.870  1938779.0   \n",
       "\n",
       "                              SPY                                        \n",
       "                             open    high       low   close      volume  \n",
       "time                                                                     \n",
       "2017-06-09 00:00:00-04:00     NaN     NaN       NaN     NaN         NaN  \n",
       "2017-06-12 00:00:00-04:00  243.14  243.42  242.3800  243.34  57096569.0  \n",
       "2017-06-13 00:00:00-04:00  243.99  244.61  243.5799  244.52  43470532.0  \n",
       "2017-06-14 00:00:00-04:00  244.86  244.87  243.2900  244.26  55098826.0  \n",
       "2017-06-15 00:00:00-04:00  242.68  243.91  242.3600  243.79  51523068.0  "
      ]
     },
     "execution_count": 68,
     "metadata": {},
     "output_type": "execute_result"
    }
   ],
   "source": [
    "# Display sample data\n",
    "## \"See if it worked,\" in other words.\n",
    "df_stock_data.head()"
   ]
  },
  {
   "cell_type": "code",
   "execution_count": 69,
   "metadata": {},
   "outputs": [],
   "source": [
    "# Configuring a Monte Carlo simulation to forecast 30 years cumulative returns\n",
    "## Most of this was copied from the student dos, with the variables changed to suit this exercise.\n",
    "## From the assignment page, I'm to use a 40/60 portfolio using the AGG SPY tickers.\n",
    "## Making sure to convert the API output to a DataFrame and preview the output.\n",
    "\n",
    "MC_30yr = MCSimulation(\n",
    "    portfolio_data = df_stock_data,\n",
    "    weights = [.40,.60],\n",
    "    num_simulation = 500,\n",
    "    num_trading_days = 252*30\n",
    ")"
   ]
  },
  {
   "cell_type": "code",
   "execution_count": 70,
   "metadata": {},
   "outputs": [
    {
     "data": {
      "text/html": [
       "<div>\n",
       "<style scoped>\n",
       "    .dataframe tbody tr th:only-of-type {\n",
       "        vertical-align: middle;\n",
       "    }\n",
       "\n",
       "    .dataframe tbody tr th {\n",
       "        vertical-align: top;\n",
       "    }\n",
       "\n",
       "    .dataframe thead tr th {\n",
       "        text-align: left;\n",
       "    }\n",
       "\n",
       "    .dataframe thead tr:last-of-type th {\n",
       "        text-align: right;\n",
       "    }\n",
       "</style>\n",
       "<table border=\"1\" class=\"dataframe\">\n",
       "  <thead>\n",
       "    <tr>\n",
       "      <th></th>\n",
       "      <th colspan=\"6\" halign=\"left\">AGG</th>\n",
       "      <th colspan=\"6\" halign=\"left\">SPY</th>\n",
       "    </tr>\n",
       "    <tr>\n",
       "      <th></th>\n",
       "      <th>open</th>\n",
       "      <th>high</th>\n",
       "      <th>low</th>\n",
       "      <th>close</th>\n",
       "      <th>volume</th>\n",
       "      <th>daily_return</th>\n",
       "      <th>open</th>\n",
       "      <th>high</th>\n",
       "      <th>low</th>\n",
       "      <th>close</th>\n",
       "      <th>volume</th>\n",
       "      <th>daily_return</th>\n",
       "    </tr>\n",
       "    <tr>\n",
       "      <th>time</th>\n",
       "      <th></th>\n",
       "      <th></th>\n",
       "      <th></th>\n",
       "      <th></th>\n",
       "      <th></th>\n",
       "      <th></th>\n",
       "      <th></th>\n",
       "      <th></th>\n",
       "      <th></th>\n",
       "      <th></th>\n",
       "      <th></th>\n",
       "      <th></th>\n",
       "    </tr>\n",
       "  </thead>\n",
       "  <tbody>\n",
       "    <tr>\n",
       "      <th>2017-06-09 00:00:00-04:00</th>\n",
       "      <td>109.51</td>\n",
       "      <td>109.6300</td>\n",
       "      <td>109.46</td>\n",
       "      <td>109.560</td>\n",
       "      <td>1356020.0</td>\n",
       "      <td>NaN</td>\n",
       "      <td>NaN</td>\n",
       "      <td>NaN</td>\n",
       "      <td>NaN</td>\n",
       "      <td>NaN</td>\n",
       "      <td>NaN</td>\n",
       "      <td>NaN</td>\n",
       "    </tr>\n",
       "    <tr>\n",
       "      <th>2017-06-12 00:00:00-04:00</th>\n",
       "      <td>109.51</td>\n",
       "      <td>109.6958</td>\n",
       "      <td>109.47</td>\n",
       "      <td>109.555</td>\n",
       "      <td>1184601.0</td>\n",
       "      <td>-0.000046</td>\n",
       "      <td>243.14</td>\n",
       "      <td>243.42</td>\n",
       "      <td>242.3800</td>\n",
       "      <td>243.34</td>\n",
       "      <td>57096569.0</td>\n",
       "      <td>NaN</td>\n",
       "    </tr>\n",
       "    <tr>\n",
       "      <th>2017-06-13 00:00:00-04:00</th>\n",
       "      <td>109.43</td>\n",
       "      <td>109.6000</td>\n",
       "      <td>109.43</td>\n",
       "      <td>109.580</td>\n",
       "      <td>1324388.0</td>\n",
       "      <td>0.000228</td>\n",
       "      <td>243.99</td>\n",
       "      <td>244.61</td>\n",
       "      <td>243.5799</td>\n",
       "      <td>244.52</td>\n",
       "      <td>43470532.0</td>\n",
       "      <td>0.004849</td>\n",
       "    </tr>\n",
       "    <tr>\n",
       "      <th>2017-06-14 00:00:00-04:00</th>\n",
       "      <td>110.00</td>\n",
       "      <td>110.1800</td>\n",
       "      <td>109.85</td>\n",
       "      <td>109.950</td>\n",
       "      <td>2304819.0</td>\n",
       "      <td>0.003377</td>\n",
       "      <td>244.86</td>\n",
       "      <td>244.87</td>\n",
       "      <td>243.2900</td>\n",
       "      <td>244.26</td>\n",
       "      <td>55098826.0</td>\n",
       "      <td>-0.001063</td>\n",
       "    </tr>\n",
       "    <tr>\n",
       "      <th>2017-06-15 00:00:00-04:00</th>\n",
       "      <td>109.90</td>\n",
       "      <td>109.9000</td>\n",
       "      <td>109.78</td>\n",
       "      <td>109.870</td>\n",
       "      <td>1938779.0</td>\n",
       "      <td>-0.000728</td>\n",
       "      <td>242.68</td>\n",
       "      <td>243.91</td>\n",
       "      <td>242.3600</td>\n",
       "      <td>243.79</td>\n",
       "      <td>51523068.0</td>\n",
       "      <td>-0.001924</td>\n",
       "    </tr>\n",
       "  </tbody>\n",
       "</table>\n",
       "</div>"
      ],
      "text/plain": [
       "                              AGG                                        \\\n",
       "                             open      high     low    close     volume   \n",
       "time                                                                      \n",
       "2017-06-09 00:00:00-04:00  109.51  109.6300  109.46  109.560  1356020.0   \n",
       "2017-06-12 00:00:00-04:00  109.51  109.6958  109.47  109.555  1184601.0   \n",
       "2017-06-13 00:00:00-04:00  109.43  109.6000  109.43  109.580  1324388.0   \n",
       "2017-06-14 00:00:00-04:00  110.00  110.1800  109.85  109.950  2304819.0   \n",
       "2017-06-15 00:00:00-04:00  109.90  109.9000  109.78  109.870  1938779.0   \n",
       "\n",
       "                                           SPY                            \\\n",
       "                          daily_return    open    high       low   close   \n",
       "time                                                                       \n",
       "2017-06-09 00:00:00-04:00          NaN     NaN     NaN       NaN     NaN   \n",
       "2017-06-12 00:00:00-04:00    -0.000046  243.14  243.42  242.3800  243.34   \n",
       "2017-06-13 00:00:00-04:00     0.000228  243.99  244.61  243.5799  244.52   \n",
       "2017-06-14 00:00:00-04:00     0.003377  244.86  244.87  243.2900  244.26   \n",
       "2017-06-15 00:00:00-04:00    -0.000728  242.68  243.91  242.3600  243.79   \n",
       "\n",
       "                                                    \n",
       "                               volume daily_return  \n",
       "time                                                \n",
       "2017-06-09 00:00:00-04:00         NaN          NaN  \n",
       "2017-06-12 00:00:00-04:00  57096569.0          NaN  \n",
       "2017-06-13 00:00:00-04:00  43470532.0     0.004849  \n",
       "2017-06-14 00:00:00-04:00  55098826.0    -0.001063  \n",
       "2017-06-15 00:00:00-04:00  51523068.0    -0.001924  "
      ]
     },
     "execution_count": 70,
     "metadata": {},
     "output_type": "execute_result"
    }
   ],
   "source": [
    "# Printing the simulation input data\n",
    "## I had to ask for help on this one, I was just typing \"MC_30yr\" without the .portfolio_data\n",
    "## added .portfolio_data, and it looks \"correct\" now.\n",
    "MC_30yr.portfolio_data.head()"
   ]
  },
  {
   "cell_type": "code",
   "execution_count": 71,
   "metadata": {},
   "outputs": [
    {
     "name": "stdout",
     "output_type": "stream",
     "text": [
      "Running Monte Carlo simulation number 0.\n",
      "Running Monte Carlo simulation number 10.\n",
      "Running Monte Carlo simulation number 20.\n",
      "Running Monte Carlo simulation number 30.\n",
      "Running Monte Carlo simulation number 40.\n",
      "Running Monte Carlo simulation number 50.\n",
      "Running Monte Carlo simulation number 60.\n",
      "Running Monte Carlo simulation number 70.\n",
      "Running Monte Carlo simulation number 80.\n",
      "Running Monte Carlo simulation number 90.\n",
      "Running Monte Carlo simulation number 100.\n",
      "Running Monte Carlo simulation number 110.\n",
      "Running Monte Carlo simulation number 120.\n",
      "Running Monte Carlo simulation number 130.\n",
      "Running Monte Carlo simulation number 140.\n",
      "Running Monte Carlo simulation number 150.\n",
      "Running Monte Carlo simulation number 160.\n",
      "Running Monte Carlo simulation number 170.\n",
      "Running Monte Carlo simulation number 180.\n",
      "Running Monte Carlo simulation number 190.\n",
      "Running Monte Carlo simulation number 200.\n",
      "Running Monte Carlo simulation number 210.\n",
      "Running Monte Carlo simulation number 220.\n",
      "Running Monte Carlo simulation number 230.\n",
      "Running Monte Carlo simulation number 240.\n",
      "Running Monte Carlo simulation number 250.\n",
      "Running Monte Carlo simulation number 260.\n",
      "Running Monte Carlo simulation number 270.\n",
      "Running Monte Carlo simulation number 280.\n",
      "Running Monte Carlo simulation number 290.\n",
      "Running Monte Carlo simulation number 300.\n",
      "Running Monte Carlo simulation number 310.\n",
      "Running Monte Carlo simulation number 320.\n",
      "Running Monte Carlo simulation number 330.\n",
      "Running Monte Carlo simulation number 340.\n",
      "Running Monte Carlo simulation number 350.\n",
      "Running Monte Carlo simulation number 360.\n",
      "Running Monte Carlo simulation number 370.\n",
      "Running Monte Carlo simulation number 380.\n",
      "Running Monte Carlo simulation number 390.\n",
      "Running Monte Carlo simulation number 400.\n",
      "Running Monte Carlo simulation number 410.\n",
      "Running Monte Carlo simulation number 420.\n",
      "Running Monte Carlo simulation number 430.\n",
      "Running Monte Carlo simulation number 440.\n",
      "Running Monte Carlo simulation number 450.\n",
      "Running Monte Carlo simulation number 460.\n",
      "Running Monte Carlo simulation number 470.\n",
      "Running Monte Carlo simulation number 480.\n",
      "Running Monte Carlo simulation number 490.\n"
     ]
    },
    {
     "data": {
      "text/html": [
       "<div>\n",
       "<style scoped>\n",
       "    .dataframe tbody tr th:only-of-type {\n",
       "        vertical-align: middle;\n",
       "    }\n",
       "\n",
       "    .dataframe tbody tr th {\n",
       "        vertical-align: top;\n",
       "    }\n",
       "\n",
       "    .dataframe thead th {\n",
       "        text-align: right;\n",
       "    }\n",
       "</style>\n",
       "<table border=\"1\" class=\"dataframe\">\n",
       "  <thead>\n",
       "    <tr style=\"text-align: right;\">\n",
       "      <th></th>\n",
       "      <th>0</th>\n",
       "      <th>1</th>\n",
       "      <th>2</th>\n",
       "      <th>3</th>\n",
       "      <th>4</th>\n",
       "      <th>5</th>\n",
       "      <th>6</th>\n",
       "      <th>7</th>\n",
       "      <th>8</th>\n",
       "      <th>9</th>\n",
       "      <th>...</th>\n",
       "      <th>490</th>\n",
       "      <th>491</th>\n",
       "      <th>492</th>\n",
       "      <th>493</th>\n",
       "      <th>494</th>\n",
       "      <th>495</th>\n",
       "      <th>496</th>\n",
       "      <th>497</th>\n",
       "      <th>498</th>\n",
       "      <th>499</th>\n",
       "    </tr>\n",
       "  </thead>\n",
       "  <tbody>\n",
       "    <tr>\n",
       "      <th>0</th>\n",
       "      <td>1.000000</td>\n",
       "      <td>1.000000</td>\n",
       "      <td>1.000000</td>\n",
       "      <td>1.000000</td>\n",
       "      <td>1.000000</td>\n",
       "      <td>1.000000</td>\n",
       "      <td>1.000000</td>\n",
       "      <td>1.000000</td>\n",
       "      <td>1.000000</td>\n",
       "      <td>1.000000</td>\n",
       "      <td>...</td>\n",
       "      <td>1.000000</td>\n",
       "      <td>1.000000</td>\n",
       "      <td>1.000000</td>\n",
       "      <td>1.000000</td>\n",
       "      <td>1.000000</td>\n",
       "      <td>1.000000</td>\n",
       "      <td>1.000000</td>\n",
       "      <td>1.000000</td>\n",
       "      <td>1.000000</td>\n",
       "      <td>1.000000</td>\n",
       "    </tr>\n",
       "    <tr>\n",
       "      <th>1</th>\n",
       "      <td>0.997380</td>\n",
       "      <td>0.997968</td>\n",
       "      <td>0.999178</td>\n",
       "      <td>1.010805</td>\n",
       "      <td>1.002920</td>\n",
       "      <td>0.980124</td>\n",
       "      <td>0.997879</td>\n",
       "      <td>0.994384</td>\n",
       "      <td>0.995964</td>\n",
       "      <td>0.997136</td>\n",
       "      <td>...</td>\n",
       "      <td>1.006744</td>\n",
       "      <td>0.999634</td>\n",
       "      <td>0.992480</td>\n",
       "      <td>0.997204</td>\n",
       "      <td>1.004745</td>\n",
       "      <td>0.991084</td>\n",
       "      <td>1.000902</td>\n",
       "      <td>1.007710</td>\n",
       "      <td>1.009821</td>\n",
       "      <td>0.996765</td>\n",
       "    </tr>\n",
       "    <tr>\n",
       "      <th>2</th>\n",
       "      <td>0.998915</td>\n",
       "      <td>1.003135</td>\n",
       "      <td>1.000974</td>\n",
       "      <td>0.997080</td>\n",
       "      <td>1.003241</td>\n",
       "      <td>0.987534</td>\n",
       "      <td>1.007176</td>\n",
       "      <td>0.991603</td>\n",
       "      <td>1.005569</td>\n",
       "      <td>0.985808</td>\n",
       "      <td>...</td>\n",
       "      <td>1.010336</td>\n",
       "      <td>0.997714</td>\n",
       "      <td>0.980855</td>\n",
       "      <td>0.991819</td>\n",
       "      <td>0.994023</td>\n",
       "      <td>0.993076</td>\n",
       "      <td>1.010444</td>\n",
       "      <td>1.008766</td>\n",
       "      <td>1.022340</td>\n",
       "      <td>1.007047</td>\n",
       "    </tr>\n",
       "    <tr>\n",
       "      <th>3</th>\n",
       "      <td>1.010619</td>\n",
       "      <td>1.001951</td>\n",
       "      <td>1.004065</td>\n",
       "      <td>0.994022</td>\n",
       "      <td>1.001089</td>\n",
       "      <td>1.001842</td>\n",
       "      <td>1.003516</td>\n",
       "      <td>0.970614</td>\n",
       "      <td>1.006014</td>\n",
       "      <td>0.987891</td>\n",
       "      <td>...</td>\n",
       "      <td>1.010325</td>\n",
       "      <td>1.003292</td>\n",
       "      <td>0.986406</td>\n",
       "      <td>0.989619</td>\n",
       "      <td>0.997777</td>\n",
       "      <td>0.997695</td>\n",
       "      <td>1.009696</td>\n",
       "      <td>1.026286</td>\n",
       "      <td>1.016494</td>\n",
       "      <td>1.010544</td>\n",
       "    </tr>\n",
       "    <tr>\n",
       "      <th>4</th>\n",
       "      <td>1.021537</td>\n",
       "      <td>0.999062</td>\n",
       "      <td>1.001799</td>\n",
       "      <td>0.995967</td>\n",
       "      <td>1.006927</td>\n",
       "      <td>1.008612</td>\n",
       "      <td>1.007863</td>\n",
       "      <td>0.971618</td>\n",
       "      <td>1.013767</td>\n",
       "      <td>0.985214</td>\n",
       "      <td>...</td>\n",
       "      <td>1.007093</td>\n",
       "      <td>1.006584</td>\n",
       "      <td>0.977227</td>\n",
       "      <td>0.982019</td>\n",
       "      <td>0.996505</td>\n",
       "      <td>1.007140</td>\n",
       "      <td>0.998094</td>\n",
       "      <td>1.028893</td>\n",
       "      <td>0.998705</td>\n",
       "      <td>1.013233</td>\n",
       "    </tr>\n",
       "    <tr>\n",
       "      <th>...</th>\n",
       "      <td>...</td>\n",
       "      <td>...</td>\n",
       "      <td>...</td>\n",
       "      <td>...</td>\n",
       "      <td>...</td>\n",
       "      <td>...</td>\n",
       "      <td>...</td>\n",
       "      <td>...</td>\n",
       "      <td>...</td>\n",
       "      <td>...</td>\n",
       "      <td>...</td>\n",
       "      <td>...</td>\n",
       "      <td>...</td>\n",
       "      <td>...</td>\n",
       "      <td>...</td>\n",
       "      <td>...</td>\n",
       "      <td>...</td>\n",
       "      <td>...</td>\n",
       "      <td>...</td>\n",
       "      <td>...</td>\n",
       "      <td>...</td>\n",
       "    </tr>\n",
       "    <tr>\n",
       "      <th>7556</th>\n",
       "      <td>16.356110</td>\n",
       "      <td>27.152974</td>\n",
       "      <td>57.882081</td>\n",
       "      <td>23.577301</td>\n",
       "      <td>11.937127</td>\n",
       "      <td>21.514312</td>\n",
       "      <td>26.763417</td>\n",
       "      <td>36.222111</td>\n",
       "      <td>21.025464</td>\n",
       "      <td>8.884916</td>\n",
       "      <td>...</td>\n",
       "      <td>32.871114</td>\n",
       "      <td>14.428430</td>\n",
       "      <td>53.380877</td>\n",
       "      <td>12.144720</td>\n",
       "      <td>23.171771</td>\n",
       "      <td>8.994652</td>\n",
       "      <td>13.635591</td>\n",
       "      <td>6.803151</td>\n",
       "      <td>13.010356</td>\n",
       "      <td>8.606885</td>\n",
       "    </tr>\n",
       "    <tr>\n",
       "      <th>7557</th>\n",
       "      <td>16.426135</td>\n",
       "      <td>27.002721</td>\n",
       "      <td>58.096788</td>\n",
       "      <td>23.422730</td>\n",
       "      <td>11.995193</td>\n",
       "      <td>21.686289</td>\n",
       "      <td>27.041572</td>\n",
       "      <td>36.573568</td>\n",
       "      <td>21.124660</td>\n",
       "      <td>8.839263</td>\n",
       "      <td>...</td>\n",
       "      <td>32.814509</td>\n",
       "      <td>14.571289</td>\n",
       "      <td>53.234616</td>\n",
       "      <td>12.318692</td>\n",
       "      <td>23.037591</td>\n",
       "      <td>8.967101</td>\n",
       "      <td>13.452977</td>\n",
       "      <td>6.809260</td>\n",
       "      <td>12.958151</td>\n",
       "      <td>8.632072</td>\n",
       "    </tr>\n",
       "    <tr>\n",
       "      <th>7558</th>\n",
       "      <td>16.469854</td>\n",
       "      <td>26.924460</td>\n",
       "      <td>58.466413</td>\n",
       "      <td>23.662628</td>\n",
       "      <td>12.031616</td>\n",
       "      <td>21.555503</td>\n",
       "      <td>27.139704</td>\n",
       "      <td>37.097580</td>\n",
       "      <td>21.101672</td>\n",
       "      <td>8.868467</td>\n",
       "      <td>...</td>\n",
       "      <td>33.070501</td>\n",
       "      <td>14.398253</td>\n",
       "      <td>52.485395</td>\n",
       "      <td>12.446049</td>\n",
       "      <td>22.907675</td>\n",
       "      <td>8.997836</td>\n",
       "      <td>13.260076</td>\n",
       "      <td>6.844584</td>\n",
       "      <td>12.977460</td>\n",
       "      <td>8.649843</td>\n",
       "    </tr>\n",
       "    <tr>\n",
       "      <th>7559</th>\n",
       "      <td>16.449534</td>\n",
       "      <td>26.992187</td>\n",
       "      <td>57.551950</td>\n",
       "      <td>23.602567</td>\n",
       "      <td>12.144676</td>\n",
       "      <td>21.337900</td>\n",
       "      <td>27.205234</td>\n",
       "      <td>36.814273</td>\n",
       "      <td>21.466171</td>\n",
       "      <td>9.012312</td>\n",
       "      <td>...</td>\n",
       "      <td>32.930837</td>\n",
       "      <td>14.391536</td>\n",
       "      <td>51.664116</td>\n",
       "      <td>12.487972</td>\n",
       "      <td>23.095508</td>\n",
       "      <td>9.046992</td>\n",
       "      <td>13.258099</td>\n",
       "      <td>6.877926</td>\n",
       "      <td>12.967764</td>\n",
       "      <td>8.570218</td>\n",
       "    </tr>\n",
       "    <tr>\n",
       "      <th>7560</th>\n",
       "      <td>16.551077</td>\n",
       "      <td>27.072918</td>\n",
       "      <td>57.674182</td>\n",
       "      <td>23.879224</td>\n",
       "      <td>12.146226</td>\n",
       "      <td>21.315011</td>\n",
       "      <td>26.886384</td>\n",
       "      <td>37.088090</td>\n",
       "      <td>21.559592</td>\n",
       "      <td>9.021404</td>\n",
       "      <td>...</td>\n",
       "      <td>33.295712</td>\n",
       "      <td>14.590980</td>\n",
       "      <td>51.594154</td>\n",
       "      <td>12.538888</td>\n",
       "      <td>23.057552</td>\n",
       "      <td>8.927042</td>\n",
       "      <td>13.337847</td>\n",
       "      <td>6.939558</td>\n",
       "      <td>12.906874</td>\n",
       "      <td>8.556140</td>\n",
       "    </tr>\n",
       "  </tbody>\n",
       "</table>\n",
       "<p>7561 rows × 500 columns</p>\n",
       "</div>"
      ],
      "text/plain": [
       "            0          1          2          3          4          5    \\\n",
       "0      1.000000   1.000000   1.000000   1.000000   1.000000   1.000000   \n",
       "1      0.997380   0.997968   0.999178   1.010805   1.002920   0.980124   \n",
       "2      0.998915   1.003135   1.000974   0.997080   1.003241   0.987534   \n",
       "3      1.010619   1.001951   1.004065   0.994022   1.001089   1.001842   \n",
       "4      1.021537   0.999062   1.001799   0.995967   1.006927   1.008612   \n",
       "...         ...        ...        ...        ...        ...        ...   \n",
       "7556  16.356110  27.152974  57.882081  23.577301  11.937127  21.514312   \n",
       "7557  16.426135  27.002721  58.096788  23.422730  11.995193  21.686289   \n",
       "7558  16.469854  26.924460  58.466413  23.662628  12.031616  21.555503   \n",
       "7559  16.449534  26.992187  57.551950  23.602567  12.144676  21.337900   \n",
       "7560  16.551077  27.072918  57.674182  23.879224  12.146226  21.315011   \n",
       "\n",
       "            6          7          8         9    ...        490        491  \\\n",
       "0      1.000000   1.000000   1.000000  1.000000  ...   1.000000   1.000000   \n",
       "1      0.997879   0.994384   0.995964  0.997136  ...   1.006744   0.999634   \n",
       "2      1.007176   0.991603   1.005569  0.985808  ...   1.010336   0.997714   \n",
       "3      1.003516   0.970614   1.006014  0.987891  ...   1.010325   1.003292   \n",
       "4      1.007863   0.971618   1.013767  0.985214  ...   1.007093   1.006584   \n",
       "...         ...        ...        ...       ...  ...        ...        ...   \n",
       "7556  26.763417  36.222111  21.025464  8.884916  ...  32.871114  14.428430   \n",
       "7557  27.041572  36.573568  21.124660  8.839263  ...  32.814509  14.571289   \n",
       "7558  27.139704  37.097580  21.101672  8.868467  ...  33.070501  14.398253   \n",
       "7559  27.205234  36.814273  21.466171  9.012312  ...  32.930837  14.391536   \n",
       "7560  26.886384  37.088090  21.559592  9.021404  ...  33.295712  14.590980   \n",
       "\n",
       "            492        493        494       495        496       497  \\\n",
       "0      1.000000   1.000000   1.000000  1.000000   1.000000  1.000000   \n",
       "1      0.992480   0.997204   1.004745  0.991084   1.000902  1.007710   \n",
       "2      0.980855   0.991819   0.994023  0.993076   1.010444  1.008766   \n",
       "3      0.986406   0.989619   0.997777  0.997695   1.009696  1.026286   \n",
       "4      0.977227   0.982019   0.996505  1.007140   0.998094  1.028893   \n",
       "...         ...        ...        ...       ...        ...       ...   \n",
       "7556  53.380877  12.144720  23.171771  8.994652  13.635591  6.803151   \n",
       "7557  53.234616  12.318692  23.037591  8.967101  13.452977  6.809260   \n",
       "7558  52.485395  12.446049  22.907675  8.997836  13.260076  6.844584   \n",
       "7559  51.664116  12.487972  23.095508  9.046992  13.258099  6.877926   \n",
       "7560  51.594154  12.538888  23.057552  8.927042  13.337847  6.939558   \n",
       "\n",
       "            498       499  \n",
       "0      1.000000  1.000000  \n",
       "1      1.009821  0.996765  \n",
       "2      1.022340  1.007047  \n",
       "3      1.016494  1.010544  \n",
       "4      0.998705  1.013233  \n",
       "...         ...       ...  \n",
       "7556  13.010356  8.606885  \n",
       "7557  12.958151  8.632072  \n",
       "7558  12.977460  8.649843  \n",
       "7559  12.967764  8.570218  \n",
       "7560  12.906874  8.556140  \n",
       "\n",
       "[7561 rows x 500 columns]"
      ]
     },
     "execution_count": 71,
     "metadata": {},
     "output_type": "execute_result"
    }
   ],
   "source": [
    "# Running a Monte Carlo simulation to forecast 30 years cumulative returns\n",
    "## Again, this is almost directly copied from the student dos.\n",
    "\n",
    "MC_30yr.calc_cumulative_return()"
   ]
  },
  {
   "cell_type": "code",
   "execution_count": 72,
   "metadata": {},
   "outputs": [
    {
     "data": {
      "image/png": "[encoded data removed]",
      "text/plain": [
       "<Figure size 432x288 with 1 Axes>"
      ]
     },
     "metadata": {
      "needs_background": "light"
     },
     "output_type": "display_data"
    }
   ],
   "source": [
    "# Plot simulation outcomes\n",
    "## Again, right out of the student dos.\n",
    "## I had to Google how to get it to sshow bigger with figure/figsize. Gave up on that.\n",
    "## tried line_plot = MC_30yr.plot_simulation(figsize=(10, 5)), but that didn't work.\n",
    "## Gave up on it. (You can zoom in- LOL!)\n",
    "\n",
    "line_plot = MC_30yr.plot_simulation()"
   ]
  },
  {
   "cell_type": "code",
   "execution_count": 73,
   "metadata": {},
   "outputs": [
    {
     "data": {
      "image/png": "[encoded data removed]",
      "text/plain": [
       "<Figure size 432x288 with 1 Axes>"
      ]
     },
     "metadata": {
      "needs_background": "light"
     },
     "output_type": "display_data"
    }
   ],
   "source": [
    "# Plot probability distribution and confidence intervals\n",
    "## Plotting probability distribution and confidence intervals.\n",
    "distribution = MC_30yr.plot_distribution()"
   ]
  },
  {
   "cell_type": "markdown",
   "metadata": {},
   "source": [
    "### Retirement Analysis"
   ]
  },
  {
   "cell_type": "code",
   "execution_count": 74,
   "metadata": {},
   "outputs": [],
   "source": [
    "# Fetch summary statistics from the Monte Carlo simulation results.\n",
    "## From speaking with the TAs, it looks like this is supposed to be the cumulative returns summary.\n",
    "## Found this function on Google.\n",
    "\n",
    "MC_30yr_cumret = MC_30yr.summarize_cumulative_return()"
   ]
  },
  {
   "cell_type": "code",
   "execution_count": 75,
   "metadata": {},
   "outputs": [
    {
     "data": {
      "text/plain": [
       "count           500.000000\n",
       "mean             21.102389\n",
       "std              16.620512\n",
       "min               2.274454\n",
       "25%              10.370422\n",
       "50%              16.709328\n",
       "75%              26.121305\n",
       "max             168.205357\n",
       "95% CI Lower      3.902479\n",
       "95% CI Upper     64.847487\n",
       "Name: 7560, dtype: float64"
      ]
     },
     "execution_count": 75,
     "metadata": {},
     "output_type": "execute_result"
    }
   ],
   "source": [
    "## Let's see if that works.\n",
    "MC_30yr_cumret"
   ]
  },
  {
   "cell_type": "code",
   "execution_count": 76,
   "metadata": {},
   "outputs": [],
   "source": [
    "## It works!"
   ]
  },
  {
   "cell_type": "markdown",
   "metadata": {},
   "source": [
    "### Calculate the expected portfolio return at the 95% lower and upper confidence intervals based on a `$20,000` initial investment."
   ]
  },
  {
   "cell_type": "code",
   "execution_count": 77,
   "metadata": {},
   "outputs": [],
   "source": [
    "# Set initial investment\n",
    "## From the starter code, we know this is $20,000\n",
    "investment = 20000\n",
    "\n",
    "# Use the lower and upper `95%` confidence intervals to calculate the range of the possible outcomes of our $20,000\n",
    "## This is right out of the classwork, again.\n",
    "## We want the data from the cumret data at position 8 and 9 (because it starts at position 0)\n",
    "## These are dollars and cents, so I'll round to 2 decimals.\n",
    "\n",
    "investment_95low = round(MC_30yr_cumret[8] * investment,2)\n",
    "investment_95high = round(MC_30yr_cumret[9] * investment,2)"
   ]
  },
  {
   "cell_type": "code",
   "execution_count": 78,
   "metadata": {},
   "outputs": [
    {
     "name": "stdout",
     "output_type": "stream",
     "text": [
      "1296949.74\n"
     ]
    }
   ],
   "source": [
    "## Let's see if that works.\n",
    "## First investment_95high...\n",
    "print(investment_95high)"
   ]
  },
  {
   "cell_type": "code",
   "execution_count": 79,
   "metadata": {},
   "outputs": [
    {
     "data": {
      "text/plain": [
       "78049.58"
      ]
     },
     "execution_count": 79,
     "metadata": {},
     "output_type": "execute_result"
    }
   ],
   "source": [
    "## ... now, investment_95low.\n",
    "investment_95low"
   ]
  },
  {
   "cell_type": "code",
   "execution_count": 80,
   "metadata": {},
   "outputs": [
    {
     "name": "stdout",
     "output_type": "stream",
     "text": [
      "Given an initial investment of $20000, there is a 95% chance this portfolio will be worth between $78049.58 and $1296949.74 in 30 years.\n"
     ]
    }
   ],
   "source": [
    "# Print results\n",
    "print(f\"Given an initial investment of ${investment}, there is a 95% chance this portfolio will be worth between ${investment_95low} and ${investment_95high} in 30 years.\")"
   ]
  },
  {
   "cell_type": "markdown",
   "metadata": {},
   "source": [
    "### Calculate the expected portfolio return at the `95%` lower and upper confidence intervals based on a `50%` increase in the initial investment."
   ]
  },
  {
   "cell_type": "code",
   "execution_count": 81,
   "metadata": {},
   "outputs": [
    {
     "data": {
      "text/plain": [
       "30000.0"
      ]
     },
     "execution_count": 81,
     "metadata": {},
     "output_type": "execute_result"
    }
   ],
   "source": [
    "## From the homework assignment:\n",
    "## Calculate the expected portfolio return at the 95% lower and upper confidence intervals based on a 50% increase in the initial investment.\n",
    "\n",
    "## First, I need to calculate the new investment (to get \"50% more\", I need to multiply by 1.5)\n",
    "new_investment = investment * 1.5\n",
    "new_investment"
   ]
  },
  {
   "cell_type": "code",
   "execution_count": 82,
   "metadata": {},
   "outputs": [],
   "source": [
    "# Use the lower and upper `95%` confidence intervals to calculate the range of the possible outcomes of our $30,000\n",
    "## Same as above, ust using the new_investment variable.\n",
    "\n",
    "new_investment_95low = round(MC_30yr_cumret[8] * new_investment,2)\n",
    "new_investment_95high = round(MC_30yr_cumret[9] * new_investment,2)"
   ]
  },
  {
   "cell_type": "code",
   "execution_count": 83,
   "metadata": {},
   "outputs": [
    {
     "data": {
      "text/plain": [
       "1945424.61"
      ]
     },
     "execution_count": 83,
     "metadata": {},
     "output_type": "execute_result"
    }
   ],
   "source": [
    "## Let's look at those numbers.\n",
    "## First, new_investment_95high ...\n",
    "new_investment_95high"
   ]
  },
  {
   "cell_type": "code",
   "execution_count": 84,
   "metadata": {},
   "outputs": [
    {
     "data": {
      "text/plain": [
       "78049.58"
      ]
     },
     "execution_count": 84,
     "metadata": {},
     "output_type": "execute_result"
    }
   ],
   "source": [
    "## ... now, investment_95low.\n",
    "investment_95low"
   ]
  },
  {
   "cell_type": "code",
   "execution_count": 85,
   "metadata": {},
   "outputs": [
    {
     "name": "stdout",
     "output_type": "stream",
     "text": [
      "Given an initial investment of $30000.0, there is a 95% chance this portfolio will be worth between $117074.38 and $1945424.61 in 30 years.\n"
     ]
    }
   ],
   "source": [
    "# Print results\n",
    "print(f\"Given an initial investment of ${new_investment}, there is a 95% chance this portfolio will be worth between ${new_investment_95low} and ${new_investment_95high} in 30 years.\")"
   ]
  },
  {
   "cell_type": "code",
   "execution_count": 86,
   "metadata": {},
   "outputs": [],
   "source": [
    "## It works!"
   ]
  }
 ],
 "metadata": {
  "kernelspec": {
   "display_name": "Python 3",
   "language": "python",
   "name": "python3"
  },
  "language_info": {
   "codemirror_mode": {
    "name": "ipython",
    "version": 3
   },
   "file_extension": ".py",
   "mimetype": "text/x-python",
   "name": "python",
   "nbconvert_exporter": "python",
   "pygments_lexer": "ipython3",
   "version": "3.7.10"
  }
 },
 "nbformat": 4,
 "nbformat_minor": 4
}
