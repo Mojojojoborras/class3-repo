{
 "cells": [
  {
   "cell_type": "code",
   "execution_count": 1,
   "metadata": {},
   "outputs": [],
   "source": [
    "# Initial imports\n",
    "## This came from the Starter Code uploaded to the classe repo.\n",
    "\n",
    "import os\n",
    "import requests\n",
    "import pandas as pd"
   ]
  },
  {
   "cell_type": "code",
   "execution_count": 2,
   "metadata": {},
   "outputs": [],
   "source": [
    "## I was getting some error here, so I split the frame to work on the individual errors \"as they came up\".\n",
    "\n",
    "from dotenv import load_dotenv\n",
    "import alpaca_trade_api as tradeapi"
   ]
  },
  {
   "cell_type": "code",
   "execution_count": 3,
   "metadata": {},
   "outputs": [],
   "source": [
    "## dotenv wasn't working properly; I had to do a pip install and restart the kernel.\n",
    "## It works!"
   ]
  },
  {
   "cell_type": "code",
   "execution_count": 4,
   "metadata": {},
   "outputs": [],
   "source": [
    "from MCForecastTools import MCSimulation\n",
    "\n",
    "%matplotlib inline"
   ]
  },
  {
   "cell_type": "code",
   "execution_count": 5,
   "metadata": {},
   "outputs": [],
   "source": [
    "## MCForecastTools had some errors. Deleted the .py file and re-copied the most recent version from the class repo.\n",
    "## File saved as .py.py; erased the second \".py\".\n",
    "## It works!"
   ]
  },
  {
   "cell_type": "code",
   "execution_count": 6,
   "metadata": {},
   "outputs": [
    {
     "data": {
      "text/plain": [
       "True"
      ]
     },
     "execution_count": 6,
     "metadata": {},
     "output_type": "execute_result"
    }
   ],
   "source": [
    "# Load .env enviroment variables\n",
    "load_dotenv()"
   ]
  },
  {
   "cell_type": "markdown",
   "metadata": {},
   "source": [
    "## Part 1 - Personal Finance Planner\n",
    "\n",
    "In this section of the challenge, you will create a personal finance planner application. To develop the personal finance planner prototype, you should take into account the following assumptions:<br>\n",
    "<ul>\n",
    "<li>The average household income for each member of the credit union is $12,000.</li>\n",
    "<li>Every union member has a savings portfolio composed of cryptocurrencies, stocks and bonds:</li>\n",
    "<li>Assume the following amount of crypto assets: 1.2 BTC and 5.3 ETH.</li>\n",
    "<li>Assume the following amount of shares in stocks and bonds: 50 SPY (stocks) and 200 AGG (bonds).</li>\n",
    "</ul>"
   ]
  },
  {
   "cell_type": "code",
   "execution_count": 7,
   "metadata": {},
   "outputs": [],
   "source": [
    "## copied the instructions (above) from the homework page, so I could avoid going back and forth."
   ]
  },
  {
   "cell_type": "markdown",
   "metadata": {},
   "source": [
    "### Collect Crypto Prices Using the `requests` Library"
   ]
  },
  {
   "cell_type": "code",
   "execution_count": 8,
   "metadata": {},
   "outputs": [
    {
     "data": {
      "text/html": [
       "<div>\n",
       "<style scoped>\n",
       "    .dataframe tbody tr th:only-of-type {\n",
       "        vertical-align: middle;\n",
       "    }\n",
       "\n",
       "    .dataframe tbody tr th {\n",
       "        vertical-align: top;\n",
       "    }\n",
       "\n",
       "    .dataframe thead th {\n",
       "        text-align: right;\n",
       "    }\n",
       "</style>\n",
       "<table border=\"1\" class=\"dataframe\">\n",
       "  <thead>\n",
       "    <tr style=\"text-align: right;\">\n",
       "      <th></th>\n",
       "      <th>Coin_Amounts</th>\n",
       "    </tr>\n",
       "  </thead>\n",
       "  <tbody>\n",
       "    <tr>\n",
       "      <th>BTC</th>\n",
       "      <td>1.2</td>\n",
       "    </tr>\n",
       "    <tr>\n",
       "      <th>ETH</th>\n",
       "      <td>5.3</td>\n",
       "    </tr>\n",
       "  </tbody>\n",
       "</table>\n",
       "</div>"
      ],
      "text/plain": [
       "     Coin_Amounts\n",
       "BTC           1.2\n",
       "ETH           5.3"
      ]
     },
     "execution_count": 8,
     "metadata": {},
     "output_type": "execute_result"
    }
   ],
   "source": [
    "# Set current amount of crypto assets\n",
    "## creating a dataframe with the asset amounts\n",
    "\n",
    "crypto_data = {\n",
    "    \"Coin_Amounts\": [1.2, 5.3]\n",
    "}\n",
    "\n",
    "## from reading ahead, it looks like we're calling the coin prices tickers, also, so I'm going to stick with that terminology.\n",
    "## \n",
    "tickers = [\"BTC\", \"ETH\"]\n",
    "\n",
    "# Create the shares DataFrame\n",
    "df_coins = pd.DataFrame(crypto_data, index=tickers)\n",
    "\n",
    "# Display shares data\n",
    "df_coins"
   ]
  },
  {
   "cell_type": "code",
   "execution_count": 9,
   "metadata": {},
   "outputs": [],
   "source": [
    "# Crypto API URLs\n",
    "btc_url = \"https://api.alternative.me/v2/ticker/Bitcoin/\"\n",
    "eth_url = \"https://api.alternative.me/v2/ticker/Ethereum/\""
   ]
  },
  {
   "cell_type": "code",
   "execution_count": 10,
   "metadata": {},
   "outputs": [
    {
     "name": "stdout",
     "output_type": "stream",
     "text": [
      "{'data': {'1': {'id': 1, 'name': 'Bitcoin', 'symbol': 'BTC', 'website_slug': 'bitcoin', 'rank': 1, 'circulating_supply': 18726081, 'total_supply': 18726081, 'max_supply': 21000000, 'quotes': {'USD': {'price': 39151.0, 'volume_24h': 33396718845, 'market_cap': 733150718114, 'percentage_change_1h': 0.587157940288033, 'percentage_change_24h': 4.11998501692288, 'percentage_change_7d': -0.648662640773782, 'percent_change_1h': 0.587157940288033, 'percent_change_24h': 4.11998501692288, 'percent_change_7d': -0.648662640773782}}, 'last_updated': 1622764770}}, 'metadata': {'timestamp': 1622764770, 'num_cryptocurrencies': 1294, 'error': None}}\n"
     ]
    }
   ],
   "source": [
    "# Fetch current BTC price\n",
    "## I'm going to split this cell so it's easier for me to follow and troubleshoot.\n",
    "\n",
    "btc_price_get = requests.get(btc_url)\n",
    "btc_json = btc_price_get.json()\n",
    "print(btc_json)"
   ]
  },
  {
   "cell_type": "code",
   "execution_count": 11,
   "metadata": {},
   "outputs": [
    {
     "data": {
      "text/plain": [
       "{'data': {'1': {'id': 1,\n",
       "   'name': 'Bitcoin',\n",
       "   'symbol': 'BTC',\n",
       "   'website_slug': 'bitcoin',\n",
       "   'rank': 1,\n",
       "   'circulating_supply': 18726081,\n",
       "   'total_supply': 18726081,\n",
       "   'max_supply': 21000000,\n",
       "   'quotes': {'USD': {'price': 39151.0,\n",
       "     'volume_24h': 33396718845,\n",
       "     'market_cap': 733150718114,\n",
       "     'percentage_change_1h': 0.587157940288033,\n",
       "     'percentage_change_24h': 4.11998501692288,\n",
       "     'percentage_change_7d': -0.648662640773782,\n",
       "     'percent_change_1h': 0.587157940288033,\n",
       "     'percent_change_24h': 4.11998501692288,\n",
       "     'percent_change_7d': -0.648662640773782}},\n",
       "   'last_updated': 1622764770}},\n",
       " 'metadata': {'timestamp': 1622764770,\n",
       "  'num_cryptocurrencies': 1294,\n",
       "  'error': None}}"
      ]
     },
     "execution_count": 11,
     "metadata": {},
     "output_type": "execute_result"
    }
   ],
   "source": [
    "## That's not super helpful/easy to read.\n",
    "## Trying it without the print()\n",
    "btc_json"
   ]
  },
  {
   "cell_type": "code",
   "execution_count": 12,
   "metadata": {},
   "outputs": [
    {
     "name": "stdout",
     "output_type": "stream",
     "text": [
      "39151.0\n"
     ]
    }
   ],
   "source": [
    "## Much better!\n",
    "## Now, I just need to isolate the price.\n",
    "print(btc_json[\"data\"][\"1\"][\"quotes\"][\"USD\"][\"price\"])"
   ]
  },
  {
   "cell_type": "code",
   "execution_count": 13,
   "metadata": {},
   "outputs": [
    {
     "data": {
      "text/plain": [
       "39151.0"
      ]
     },
     "execution_count": 13,
     "metadata": {},
     "output_type": "execute_result"
    }
   ],
   "source": [
    "## That just shows me the price. I need to set a variable for BTC price.\n",
    "btc_price = (btc_json[\"data\"][\"1\"][\"quotes\"][\"USD\"][\"price\"])\n",
    "btc_price"
   ]
  },
  {
   "cell_type": "code",
   "execution_count": 14,
   "metadata": {},
   "outputs": [],
   "source": [
    "## It works!"
   ]
  },
  {
   "cell_type": "code",
   "execution_count": 15,
   "metadata": {},
   "outputs": [
    {
     "data": {
      "text/plain": [
       "{'data': {'1027': {'id': 1027,\n",
       "   'name': 'Ethereum',\n",
       "   'symbol': 'ETH',\n",
       "   'website_slug': 'ethereum',\n",
       "   'rank': 2,\n",
       "   'circulating_supply': 116145675,\n",
       "   'total_supply': 116145675,\n",
       "   'max_supply': 0,\n",
       "   'quotes': {'USD': {'price': 2858.28,\n",
       "     'volume_24h': 38104663185,\n",
       "     'market_cap': 333964598115,\n",
       "     'percentage_change_1h': 0.434288180365903,\n",
       "     'percentage_change_24h': 5.35719884675607,\n",
       "     'percentage_change_7d': -0.839786465451128,\n",
       "     'percent_change_1h': 0.434288180365903,\n",
       "     'percent_change_24h': 5.35719884675607,\n",
       "     'percent_change_7d': -0.839786465451128}},\n",
       "   'last_updated': 1622764764}},\n",
       " 'metadata': {'timestamp': 1622764764,\n",
       "  'num_cryptocurrencies': 1294,\n",
       "  'error': None}}"
      ]
     },
     "execution_count": 15,
     "metadata": {},
     "output_type": "execute_result"
    }
   ],
   "source": [
    "# Fetch current ETH price\n",
    "## Do the same thing I did above for BTC, but change everything to ETH.\n",
    "eth_price_get = requests.get(eth_url)\n",
    "eth_json = eth_price_get.json()\n",
    "eth_json"
   ]
  },
  {
   "cell_type": "code",
   "execution_count": 16,
   "metadata": {},
   "outputs": [
    {
     "data": {
      "text/plain": [
       "2858.28"
      ]
     },
     "execution_count": 16,
     "metadata": {},
     "output_type": "execute_result"
    }
   ],
   "source": [
    "## I got an error, so I split the cells to troubleshoot.\n",
    "## reading eth_json shows that the data structure is the same, but the values aren't identical.\n",
    "## the \"1\" in the BTC json reads \"1027\" here. Making the changes.\n",
    "eth_price = (eth_json[\"data\"][\"1027\"][\"quotes\"][\"USD\"][\"price\"])\n",
    "eth_price"
   ]
  },
  {
   "cell_type": "code",
   "execution_count": 17,
   "metadata": {},
   "outputs": [],
   "source": [
    "## It works!"
   ]
  },
  {
   "cell_type": "code",
   "execution_count": 18,
   "metadata": {},
   "outputs": [
    {
     "data": {
      "text/plain": [
       "46981.2"
      ]
     },
     "execution_count": 18,
     "metadata": {},
     "output_type": "execute_result"
    }
   ],
   "source": [
    "# Compute current value of my crpto\n",
    "## I need to get the amount of coins from my df_coins dataframe, then multiply that by the BTC and ETH prices.\n",
    "## My BT are at index position 0, I can get the values from the Coin_Amounts column at position 0, then multiply it by btc_price to get my btc_value\n",
    "btc_value = df_coins[\"Coin_Amounts\"].values[0] * btc_price\n",
    "btc_value"
   ]
  },
  {
   "cell_type": "code",
   "execution_count": 19,
   "metadata": {},
   "outputs": [
    {
     "data": {
      "text/plain": [
       "15148.884"
      ]
     },
     "execution_count": 19,
     "metadata": {},
     "output_type": "execute_result"
    }
   ],
   "source": [
    "## Now I do the same thing for ETH, which is at position 1.\n",
    "eth_value = df_coins[\"Coin_Amounts\"].values[1] * eth_price\n",
    "eth_value"
   ]
  },
  {
   "cell_type": "code",
   "execution_count": 20,
   "metadata": {},
   "outputs": [
    {
     "data": {
      "text/plain": [
       "15148.88"
      ]
     },
     "execution_count": 20,
     "metadata": {},
     "output_type": "execute_result"
    }
   ],
   "source": [
    "## I don't like that, so I'm rounding it.\n",
    "round(eth_value, 2)"
   ]
  },
  {
   "cell_type": "code",
   "execution_count": 21,
   "metadata": {},
   "outputs": [
    {
     "data": {
      "text/plain": [
       "1.2"
      ]
     },
     "execution_count": 21,
     "metadata": {},
     "output_type": "execute_result"
    }
   ],
   "source": [
    "# Print current crypto wallet balance\n",
    "## Reading ahead, I need to print out the number of shares I have as a variable, not \"just\" a value.\n",
    "## I got the value using df_coins[\"Coin_Amounts\"].values[0] before.\n",
    "## I'm creating a variable called my_btc using the above code to satisfy the starter code.\n",
    "\n",
    "my_btc = df_coins[\"Coin_Amounts\"].values[0]\n",
    "my_btc"
   ]
  },
  {
   "cell_type": "code",
   "execution_count": 22,
   "metadata": {},
   "outputs": [
    {
     "data": {
      "text/plain": [
       "5.3"
      ]
     },
     "execution_count": 22,
     "metadata": {},
     "output_type": "execute_result"
    }
   ],
   "source": [
    "## Now I'll do the same thing for ETH.\n",
    "my_eth = df_coins[\"Coin_Amounts\"].values[1]\n",
    "my_eth"
   ]
  },
  {
   "cell_type": "code",
   "execution_count": 23,
   "metadata": {},
   "outputs": [
    {
     "name": "stdout",
     "output_type": "stream",
     "text": [
      "The current value of your 1.2 BTC is $46981.20.\n"
     ]
    }
   ],
   "source": [
    "## This is from the starter code.\n",
    "print(f\"The current value of your {my_btc} BTC is ${btc_value:0.2f}.\")"
   ]
  },
  {
   "cell_type": "code",
   "execution_count": 24,
   "metadata": {},
   "outputs": [
    {
     "name": "stdout",
     "output_type": "stream",
     "text": [
      "The current value of your 5.3 ETH is $15148.88.\n"
     ]
    }
   ],
   "source": [
    "## This is from the starter code.\n",
    "print(f\"The current value of your {my_eth} ETH is ${eth_value:0.2f}.\")"
   ]
  },
  {
   "cell_type": "code",
   "execution_count": 25,
   "metadata": {},
   "outputs": [
    {
     "name": "stdout",
     "output_type": "stream",
     "text": [
      "The total value of your crypto is currently $62130.08.\n"
     ]
    }
   ],
   "source": [
    "## I want to display a total value of crypto holdings, mainly just for the reps.\n",
    "## I'm adding the 2 value variables.\n",
    "print(f\"The total value of your crypto is currently ${btc_value + eth_value:0.2f}.\")"
   ]
  },
  {
   "cell_type": "markdown",
   "metadata": {},
   "source": [
    "### Collect Investments Data Using Alpaca: `SPY` (stocks) and `AGG` (bonds)\n",
    "\n",
    "Important: Remember to create a .env file in your working directory to store the values of your Alpaca API key and Alpaca secret key.<br>\n",
    "\n",
    "<ul>\n",
    "    <li>Create two variables named my_agg and my_spy and set them equal to 200 and 50, respectively.</li>\n",
    "    <li>Set the Alpaca API key and secret key variables, then create the Alpaca API object using the tradeapi.REST function from the Alpaca SDK.</li>\n",
    "    <li>Format the current date as ISO format. You may change the date set in the starter code to the current date.</li>\n",
    "    <li>Get the current closing prices for SPY and AGG using Alpaca's get_barset() function. Transform the function's response to a Pandas DataFrame and preview the data.</li>\n",
    "    <li>Pick the SPY and AGG close prices from the Alpaca's get_barset() DataFrame response and store them as Python variables. Print the closing values for validation.</li>\n",
    "    <li>Compute the value in dollars of the current amount of shares and print the results.\n",
    "</ul>"
   ]
  },
  {
   "cell_type": "code",
   "execution_count": 26,
   "metadata": {},
   "outputs": [],
   "source": [
    "## First thing, I want to load my api keys.\n",
    "alpaca_api_key = os.getenv(\"ALPACA_API_KEY\")\n",
    "alpaca_secret_key = os.getenv(\"ALPACA_SECRET_KEY\")"
   ]
  },
  {
   "cell_type": "code",
   "execution_count": 27,
   "metadata": {},
   "outputs": [
    {
     "data": {
      "text/html": [
       "<div>\n",
       "<style scoped>\n",
       "    .dataframe tbody tr th:only-of-type {\n",
       "        vertical-align: middle;\n",
       "    }\n",
       "\n",
       "    .dataframe tbody tr th {\n",
       "        vertical-align: top;\n",
       "    }\n",
       "\n",
       "    .dataframe thead th {\n",
       "        text-align: right;\n",
       "    }\n",
       "</style>\n",
       "<table border=\"1\" class=\"dataframe\">\n",
       "  <thead>\n",
       "    <tr style=\"text-align: right;\">\n",
       "      <th></th>\n",
       "      <th>Amounts</th>\n",
       "    </tr>\n",
       "  </thead>\n",
       "  <tbody>\n",
       "    <tr>\n",
       "      <th>AGG</th>\n",
       "      <td>200</td>\n",
       "    </tr>\n",
       "    <tr>\n",
       "      <th>SPY</th>\n",
       "      <td>50</td>\n",
       "    </tr>\n",
       "  </tbody>\n",
       "</table>\n",
       "</div>"
      ],
      "text/plain": [
       "     Amounts\n",
       "AGG      200\n",
       "SPY       50"
      ]
     },
     "execution_count": 27,
     "metadata": {},
     "output_type": "execute_result"
    }
   ],
   "source": [
    "# Current amount of shares\n",
    "## as above, I'm creating a dataframe with the asset amounts\n",
    "\n",
    "aggspy_data = {\n",
    "    \"Amounts\": [200, 50]\n",
    "}\n",
    "\n",
    "## from reading ahead, it looks like we're calling the coin prices tickers, also, so I'm going to stick with that terminology.\n",
    "## \n",
    "aggspy_tickers = [\"AGG\", \"SPY\"]\n",
    "\n",
    "# Create the shares DataFrame\n",
    "df_aggspy = pd.DataFrame(aggspy_data, index=aggspy_tickers)\n",
    "\n",
    "# Display shares data\n",
    "df_aggspy"
   ]
  },
  {
   "cell_type": "code",
   "execution_count": 28,
   "metadata": {},
   "outputs": [],
   "source": [
    "# Set Alpaca API key and secret\n",
    "## Already done (see above)."
   ]
  },
  {
   "cell_type": "code",
   "execution_count": 29,
   "metadata": {},
   "outputs": [],
   "source": [
    "# Create the Alpaca API object\n",
    "alpaca = tradeapi.REST(\n",
    "    alpaca_api_key,\n",
    "    alpaca_secret_key,\n",
    "    api_version=\"v2\")"
   ]
  },
  {
   "cell_type": "code",
   "execution_count": 30,
   "metadata": {},
   "outputs": [
    {
     "name": "stdout",
     "output_type": "stream",
     "text": [
      "2021-06-03T19:05:06.287004\n"
     ]
    }
   ],
   "source": [
    "# Format current date as ISO format\n",
    "## from the student-do, I found today = pd.Timestamp(\"2020-07-14\", tz=\"America/New_York\").isoformat()\n",
    "## that's not the current date, but I found this in a Google search, so I'm going to start here to \"get\" the current date.\n",
    "\n",
    "from datetime import datetime\n",
    "my_date = datetime.now()\n",
    "print(my_date.isoformat())"
   ]
  },
  {
   "cell_type": "code",
   "execution_count": 31,
   "metadata": {},
   "outputs": [
    {
     "name": "stdout",
     "output_type": "stream",
     "text": [
      "['AGG', 'SPY']\n"
     ]
    }
   ],
   "source": [
    "# Set the tickers\n",
    "## already done, above.\n",
    "print(aggspy_tickers)"
   ]
  },
  {
   "cell_type": "code",
   "execution_count": 32,
   "metadata": {},
   "outputs": [],
   "source": [
    "# Set timeframe to '1D' for Alpaca API\n",
    "timeframe = \"1D\""
   ]
  },
  {
   "cell_type": "code",
   "execution_count": 33,
   "metadata": {},
   "outputs": [
    {
     "data": {
      "text/html": [
       "<div>\n",
       "<style scoped>\n",
       "    .dataframe tbody tr th:only-of-type {\n",
       "        vertical-align: middle;\n",
       "    }\n",
       "\n",
       "    .dataframe tbody tr th {\n",
       "        vertical-align: top;\n",
       "    }\n",
       "\n",
       "    .dataframe thead tr th {\n",
       "        text-align: left;\n",
       "    }\n",
       "\n",
       "    .dataframe thead tr:last-of-type th {\n",
       "        text-align: right;\n",
       "    }\n",
       "</style>\n",
       "<table border=\"1\" class=\"dataframe\">\n",
       "  <thead>\n",
       "    <tr>\n",
       "      <th></th>\n",
       "      <th colspan=\"5\" halign=\"left\">AGG</th>\n",
       "      <th colspan=\"5\" halign=\"left\">SPY</th>\n",
       "    </tr>\n",
       "    <tr>\n",
       "      <th></th>\n",
       "      <th>open</th>\n",
       "      <th>high</th>\n",
       "      <th>low</th>\n",
       "      <th>close</th>\n",
       "      <th>volume</th>\n",
       "      <th>open</th>\n",
       "      <th>high</th>\n",
       "      <th>low</th>\n",
       "      <th>close</th>\n",
       "      <th>volume</th>\n",
       "    </tr>\n",
       "    <tr>\n",
       "      <th>time</th>\n",
       "      <th></th>\n",
       "      <th></th>\n",
       "      <th></th>\n",
       "      <th></th>\n",
       "      <th></th>\n",
       "      <th></th>\n",
       "      <th></th>\n",
       "      <th></th>\n",
       "      <th></th>\n",
       "      <th></th>\n",
       "    </tr>\n",
       "  </thead>\n",
       "  <tbody>\n",
       "    <tr>\n",
       "      <th>2021-01-11 00:00:00-05:00</th>\n",
       "      <td>117.02</td>\n",
       "      <td>117.05</td>\n",
       "      <td>116.890</td>\n",
       "      <td>116.890</td>\n",
       "      <td>5047096</td>\n",
       "      <td>377.85</td>\n",
       "      <td>380.58</td>\n",
       "      <td>377.7189</td>\n",
       "      <td>378.74</td>\n",
       "      <td>44814805</td>\n",
       "    </tr>\n",
       "    <tr>\n",
       "      <th>2021-01-12 00:00:00-05:00</th>\n",
       "      <td>116.82</td>\n",
       "      <td>116.99</td>\n",
       "      <td>116.680</td>\n",
       "      <td>116.980</td>\n",
       "      <td>5103382</td>\n",
       "      <td>378.89</td>\n",
       "      <td>379.86</td>\n",
       "      <td>376.3600</td>\n",
       "      <td>378.81</td>\n",
       "      <td>45364896</td>\n",
       "    </tr>\n",
       "    <tr>\n",
       "      <th>2021-01-13 00:00:00-05:00</th>\n",
       "      <td>117.63</td>\n",
       "      <td>117.63</td>\n",
       "      <td>117.080</td>\n",
       "      <td>117.360</td>\n",
       "      <td>5686592</td>\n",
       "      <td>378.69</td>\n",
       "      <td>380.86</td>\n",
       "      <td>377.8500</td>\n",
       "      <td>379.76</td>\n",
       "      <td>38355050</td>\n",
       "    </tr>\n",
       "    <tr>\n",
       "      <th>2021-01-14 00:00:00-05:00</th>\n",
       "      <td>117.37</td>\n",
       "      <td>117.45</td>\n",
       "      <td>117.080</td>\n",
       "      <td>117.150</td>\n",
       "      <td>5311077</td>\n",
       "      <td>380.59</td>\n",
       "      <td>381.13</td>\n",
       "      <td>378.1000</td>\n",
       "      <td>378.45</td>\n",
       "      <td>41045335</td>\n",
       "    </tr>\n",
       "    <tr>\n",
       "      <th>2021-01-15 00:00:00-05:00</th>\n",
       "      <td>117.34</td>\n",
       "      <td>117.36</td>\n",
       "      <td>117.180</td>\n",
       "      <td>117.260</td>\n",
       "      <td>4776104</td>\n",
       "      <td>376.72</td>\n",
       "      <td>377.58</td>\n",
       "      <td>373.7000</td>\n",
       "      <td>375.68</td>\n",
       "      <td>78405054</td>\n",
       "    </tr>\n",
       "    <tr>\n",
       "      <th>...</th>\n",
       "      <td>...</td>\n",
       "      <td>...</td>\n",
       "      <td>...</td>\n",
       "      <td>...</td>\n",
       "      <td>...</td>\n",
       "      <td>...</td>\n",
       "      <td>...</td>\n",
       "      <td>...</td>\n",
       "      <td>...</td>\n",
       "      <td>...</td>\n",
       "    </tr>\n",
       "    <tr>\n",
       "      <th>2021-05-27 00:00:00-04:00</th>\n",
       "      <td>114.61</td>\n",
       "      <td>114.62</td>\n",
       "      <td>114.450</td>\n",
       "      <td>114.545</td>\n",
       "      <td>4826895</td>\n",
       "      <td>420.17</td>\n",
       "      <td>420.72</td>\n",
       "      <td>418.9851</td>\n",
       "      <td>419.69</td>\n",
       "      <td>48411613</td>\n",
       "    </tr>\n",
       "    <tr>\n",
       "      <th>2021-05-28 00:00:00-04:00</th>\n",
       "      <td>114.55</td>\n",
       "      <td>114.68</td>\n",
       "      <td>114.500</td>\n",
       "      <td>114.510</td>\n",
       "      <td>6186451</td>\n",
       "      <td>420.97</td>\n",
       "      <td>421.25</td>\n",
       "      <td>419.7900</td>\n",
       "      <td>420.02</td>\n",
       "      <td>49200328</td>\n",
       "    </tr>\n",
       "    <tr>\n",
       "      <th>2021-06-01 00:00:00-04:00</th>\n",
       "      <td>114.40</td>\n",
       "      <td>114.40</td>\n",
       "      <td>114.164</td>\n",
       "      <td>114.340</td>\n",
       "      <td>5655159</td>\n",
       "      <td>422.57</td>\n",
       "      <td>422.72</td>\n",
       "      <td>419.2000</td>\n",
       "      <td>419.63</td>\n",
       "      <td>47607950</td>\n",
       "    </tr>\n",
       "    <tr>\n",
       "      <th>2021-06-02 00:00:00-04:00</th>\n",
       "      <td>114.45</td>\n",
       "      <td>114.51</td>\n",
       "      <td>114.300</td>\n",
       "      <td>114.485</td>\n",
       "      <td>5649317</td>\n",
       "      <td>420.37</td>\n",
       "      <td>421.23</td>\n",
       "      <td>419.2900</td>\n",
       "      <td>420.38</td>\n",
       "      <td>41250387</td>\n",
       "    </tr>\n",
       "    <tr>\n",
       "      <th>2021-06-03 00:00:00-04:00</th>\n",
       "      <td>114.31</td>\n",
       "      <td>114.46</td>\n",
       "      <td>114.210</td>\n",
       "      <td>114.210</td>\n",
       "      <td>3270096</td>\n",
       "      <td>417.87</td>\n",
       "      <td>419.99</td>\n",
       "      <td>416.2800</td>\n",
       "      <td>418.86</td>\n",
       "      <td>51582905</td>\n",
       "    </tr>\n",
       "  </tbody>\n",
       "</table>\n",
       "<p>100 rows × 10 columns</p>\n",
       "</div>"
      ],
      "text/plain": [
       "                              AGG                                        SPY  \\\n",
       "                             open    high      low    close   volume    open   \n",
       "time                                                                           \n",
       "2021-01-11 00:00:00-05:00  117.02  117.05  116.890  116.890  5047096  377.85   \n",
       "2021-01-12 00:00:00-05:00  116.82  116.99  116.680  116.980  5103382  378.89   \n",
       "2021-01-13 00:00:00-05:00  117.63  117.63  117.080  117.360  5686592  378.69   \n",
       "2021-01-14 00:00:00-05:00  117.37  117.45  117.080  117.150  5311077  380.59   \n",
       "2021-01-15 00:00:00-05:00  117.34  117.36  117.180  117.260  4776104  376.72   \n",
       "...                           ...     ...      ...      ...      ...     ...   \n",
       "2021-05-27 00:00:00-04:00  114.61  114.62  114.450  114.545  4826895  420.17   \n",
       "2021-05-28 00:00:00-04:00  114.55  114.68  114.500  114.510  6186451  420.97   \n",
       "2021-06-01 00:00:00-04:00  114.40  114.40  114.164  114.340  5655159  422.57   \n",
       "2021-06-02 00:00:00-04:00  114.45  114.51  114.300  114.485  5649317  420.37   \n",
       "2021-06-03 00:00:00-04:00  114.31  114.46  114.210  114.210  3270096  417.87   \n",
       "\n",
       "                                                               \n",
       "                             high       low   close    volume  \n",
       "time                                                           \n",
       "2021-01-11 00:00:00-05:00  380.58  377.7189  378.74  44814805  \n",
       "2021-01-12 00:00:00-05:00  379.86  376.3600  378.81  45364896  \n",
       "2021-01-13 00:00:00-05:00  380.86  377.8500  379.76  38355050  \n",
       "2021-01-14 00:00:00-05:00  381.13  378.1000  378.45  41045335  \n",
       "2021-01-15 00:00:00-05:00  377.58  373.7000  375.68  78405054  \n",
       "...                           ...       ...     ...       ...  \n",
       "2021-05-27 00:00:00-04:00  420.72  418.9851  419.69  48411613  \n",
       "2021-05-28 00:00:00-04:00  421.25  419.7900  420.02  49200328  \n",
       "2021-06-01 00:00:00-04:00  422.72  419.2000  419.63  47607950  \n",
       "2021-06-02 00:00:00-04:00  421.23  419.2900  420.38  41250387  \n",
       "2021-06-03 00:00:00-04:00  419.99  416.2800  418.86  51582905  \n",
       "\n",
       "[100 rows x 10 columns]"
      ]
     },
     "execution_count": 33,
     "metadata": {},
     "output_type": "execute_result"
    }
   ],
   "source": [
    "# Get current closing prices for SPY and AGG\n",
    "aggspy_portfolio = alpaca.get_barset(\n",
    "    aggspy_tickers,\n",
    "    timeframe,\n",
    ").df\n",
    "\n",
    "# Preview DataFrame\n",
    "aggspy_portfolio"
   ]
  },
  {
   "cell_type": "code",
   "execution_count": 34,
   "metadata": {},
   "outputs": [
    {
     "data": {
      "text/html": [
       "<div>\n",
       "<style scoped>\n",
       "    .dataframe tbody tr th:only-of-type {\n",
       "        vertical-align: middle;\n",
       "    }\n",
       "\n",
       "    .dataframe tbody tr th {\n",
       "        vertical-align: top;\n",
       "    }\n",
       "\n",
       "    .dataframe thead th {\n",
       "        text-align: right;\n",
       "    }\n",
       "</style>\n",
       "<table border=\"1\" class=\"dataframe\">\n",
       "  <thead>\n",
       "    <tr style=\"text-align: right;\">\n",
       "      <th></th>\n",
       "    </tr>\n",
       "  </thead>\n",
       "  <tbody>\n",
       "  </tbody>\n",
       "</table>\n",
       "</div>"
      ],
      "text/plain": [
       "Empty DataFrame\n",
       "Columns: []\n",
       "Index: []"
      ]
     },
     "execution_count": 34,
     "metadata": {},
     "output_type": "execute_result"
    }
   ],
   "source": [
    "# Pick AGG and SPY close prices\n",
    "## I don't want to mess with the aggspy_portfolio df, so I'm going to create a new df for aggspy closing prices.\n",
    "aggspy_closing_prices = pd.DataFrame()\n",
    "aggspy_closing_prices"
   ]
  },
  {
   "cell_type": "code",
   "execution_count": 35,
   "metadata": {},
   "outputs": [],
   "source": [
    "## It works!\n",
    "## Now, I need to get the closing prices of AGG and SPY\n",
    "aggspy_closing_prices[\"AGG\"] = aggspy_portfolio[\"AGG\"][\"close\"]\n",
    "aggspy_closing_prices[\"SPY\"] = aggspy_portfolio[\"SPY\"][\"close\"]"
   ]
  },
  {
   "cell_type": "code",
   "execution_count": 36,
   "metadata": {},
   "outputs": [
    {
     "data": {
      "text/html": [
       "<div>\n",
       "<style scoped>\n",
       "    .dataframe tbody tr th:only-of-type {\n",
       "        vertical-align: middle;\n",
       "    }\n",
       "\n",
       "    .dataframe tbody tr th {\n",
       "        vertical-align: top;\n",
       "    }\n",
       "\n",
       "    .dataframe thead th {\n",
       "        text-align: right;\n",
       "    }\n",
       "</style>\n",
       "<table border=\"1\" class=\"dataframe\">\n",
       "  <thead>\n",
       "    <tr style=\"text-align: right;\">\n",
       "      <th></th>\n",
       "      <th>AGG</th>\n",
       "      <th>SPY</th>\n",
       "    </tr>\n",
       "    <tr>\n",
       "      <th>time</th>\n",
       "      <th></th>\n",
       "      <th></th>\n",
       "    </tr>\n",
       "  </thead>\n",
       "  <tbody>\n",
       "    <tr>\n",
       "      <th>2021-01-11 00:00:00-05:00</th>\n",
       "      <td>116.89</td>\n",
       "      <td>378.74</td>\n",
       "    </tr>\n",
       "    <tr>\n",
       "      <th>2021-01-12 00:00:00-05:00</th>\n",
       "      <td>116.98</td>\n",
       "      <td>378.81</td>\n",
       "    </tr>\n",
       "    <tr>\n",
       "      <th>2021-01-13 00:00:00-05:00</th>\n",
       "      <td>117.36</td>\n",
       "      <td>379.76</td>\n",
       "    </tr>\n",
       "    <tr>\n",
       "      <th>2021-01-14 00:00:00-05:00</th>\n",
       "      <td>117.15</td>\n",
       "      <td>378.45</td>\n",
       "    </tr>\n",
       "    <tr>\n",
       "      <th>2021-01-15 00:00:00-05:00</th>\n",
       "      <td>117.26</td>\n",
       "      <td>375.68</td>\n",
       "    </tr>\n",
       "  </tbody>\n",
       "</table>\n",
       "</div>"
      ],
      "text/plain": [
       "                              AGG     SPY\n",
       "time                                     \n",
       "2021-01-11 00:00:00-05:00  116.89  378.74\n",
       "2021-01-12 00:00:00-05:00  116.98  378.81\n",
       "2021-01-13 00:00:00-05:00  117.36  379.76\n",
       "2021-01-14 00:00:00-05:00  117.15  378.45\n",
       "2021-01-15 00:00:00-05:00  117.26  375.68"
      ]
     },
     "execution_count": 36,
     "metadata": {},
     "output_type": "execute_result"
    }
   ],
   "source": [
    "## Let's see f that worked.\n",
    "aggspy_closing_prices.head()"
   ]
  },
  {
   "cell_type": "code",
   "execution_count": 37,
   "metadata": {},
   "outputs": [],
   "source": [
    "## It works!"
   ]
  },
  {
   "cell_type": "code",
   "execution_count": 38,
   "metadata": {},
   "outputs": [],
   "source": [
    "## I don't think I need the time element, so I'll drop that from the closing date/index.\n",
    "aggspy_closing_prices.index = aggspy_closing_prices.index.date"
   ]
  },
  {
   "cell_type": "code",
   "execution_count": 39,
   "metadata": {},
   "outputs": [
    {
     "data": {
      "text/html": [
       "<div>\n",
       "<style scoped>\n",
       "    .dataframe tbody tr th:only-of-type {\n",
       "        vertical-align: middle;\n",
       "    }\n",
       "\n",
       "    .dataframe tbody tr th {\n",
       "        vertical-align: top;\n",
       "    }\n",
       "\n",
       "    .dataframe thead th {\n",
       "        text-align: right;\n",
       "    }\n",
       "</style>\n",
       "<table border=\"1\" class=\"dataframe\">\n",
       "  <thead>\n",
       "    <tr style=\"text-align: right;\">\n",
       "      <th></th>\n",
       "      <th>AGG</th>\n",
       "      <th>SPY</th>\n",
       "    </tr>\n",
       "  </thead>\n",
       "  <tbody>\n",
       "    <tr>\n",
       "      <th>2021-01-11</th>\n",
       "      <td>116.89</td>\n",
       "      <td>378.74</td>\n",
       "    </tr>\n",
       "    <tr>\n",
       "      <th>2021-01-12</th>\n",
       "      <td>116.98</td>\n",
       "      <td>378.81</td>\n",
       "    </tr>\n",
       "    <tr>\n",
       "      <th>2021-01-13</th>\n",
       "      <td>117.36</td>\n",
       "      <td>379.76</td>\n",
       "    </tr>\n",
       "    <tr>\n",
       "      <th>2021-01-14</th>\n",
       "      <td>117.15</td>\n",
       "      <td>378.45</td>\n",
       "    </tr>\n",
       "    <tr>\n",
       "      <th>2021-01-15</th>\n",
       "      <td>117.26</td>\n",
       "      <td>375.68</td>\n",
       "    </tr>\n",
       "  </tbody>\n",
       "</table>\n",
       "</div>"
      ],
      "text/plain": [
       "               AGG     SPY\n",
       "2021-01-11  116.89  378.74\n",
       "2021-01-12  116.98  378.81\n",
       "2021-01-13  117.36  379.76\n",
       "2021-01-14  117.15  378.45\n",
       "2021-01-15  117.26  375.68"
      ]
     },
     "execution_count": 39,
     "metadata": {},
     "output_type": "execute_result"
    }
   ],
   "source": [
    "## Let's see if that worked.\n",
    "aggspy_closing_prices.head()"
   ]
  },
  {
   "cell_type": "code",
   "execution_count": 40,
   "metadata": {},
   "outputs": [],
   "source": [
    "## It worked!"
   ]
  },
  {
   "cell_type": "code",
   "execution_count": 41,
   "metadata": {},
   "outputs": [],
   "source": [
    "# Print AGG and SPY close prices\n",
    "## I want the AGG and SPY closing prices at index position 0.\n",
    "## As I did above, I'm going to create a variable from the value at index position 0.\n",
    "\n",
    "agg_close_price = aggspy_closing_prices[\"AGG\"].values[0]\n",
    "spy_close_price = aggspy_closing_prices[\"SPY\"].values[0]"
   ]
  },
  {
   "cell_type": "code",
   "execution_count": 42,
   "metadata": {},
   "outputs": [
    {
     "data": {
      "text/plain": [
       "116.89"
      ]
     },
     "execution_count": 42,
     "metadata": {},
     "output_type": "execute_result"
    }
   ],
   "source": [
    "## Now, to see if that worked.\n",
    "## First, print agg_close_price.\n",
    "agg_close_price"
   ]
  },
  {
   "cell_type": "code",
   "execution_count": 43,
   "metadata": {},
   "outputs": [
    {
     "data": {
      "text/plain": [
       "378.74"
      ]
     },
     "execution_count": 43,
     "metadata": {},
     "output_type": "execute_result"
    }
   ],
   "source": [
    "## Great!\n",
    "## Now, I'll print spy_close_price.\n",
    "spy_close_price"
   ]
  },
  {
   "cell_type": "code",
   "execution_count": 44,
   "metadata": {},
   "outputs": [
    {
     "name": "stdout",
     "output_type": "stream",
     "text": [
      "Current AGG closing price: $116.89.\n",
      "Current SPY closing price: $378.74.\n"
     ]
    }
   ],
   "source": [
    "print(f\"Current AGG closing price: ${agg_close_price}.\")\n",
    "print(f\"Current SPY closing price: ${spy_close_price}.\")"
   ]
  },
  {
   "cell_type": "code",
   "execution_count": 45,
   "metadata": {},
   "outputs": [
    {
     "data": {
      "text/plain": [
       "200"
      ]
     },
     "execution_count": 45,
     "metadata": {},
     "output_type": "execute_result"
    }
   ],
   "source": [
    "# Compute the current value of shares\n",
    "## Reading ahead, I need to print out the number of shares I have as a variable, not \"just\" a value.\n",
    "## I got the value using df_aggspy[\"Amounts\"].values[0] before (edited from the crypto section).\n",
    "## I'm creating a variable called my_agg using the above code to satisfy the starter code.\n",
    "\n",
    "my_agg = df_aggspy[\"Amounts\"].values[0]\n",
    "my_agg"
   ]
  },
  {
   "cell_type": "code",
   "execution_count": 46,
   "metadata": {},
   "outputs": [
    {
     "data": {
      "text/plain": [
       "50"
      ]
     },
     "execution_count": 46,
     "metadata": {},
     "output_type": "execute_result"
    }
   ],
   "source": [
    "## Now, I do the same thing for SPY.\n",
    "\n",
    "my_spy = df_aggspy[\"Amounts\"].values[1]\n",
    "my_spy"
   ]
  },
  {
   "cell_type": "code",
   "execution_count": 47,
   "metadata": {},
   "outputs": [
    {
     "data": {
      "text/plain": [
       "23378.0"
      ]
     },
     "execution_count": 47,
     "metadata": {},
     "output_type": "execute_result"
    }
   ],
   "source": [
    "## Now, I create a variable called my_spy_value that reflects my # of shares * closing price.\n",
    "## First, I calculate for AGG.\n",
    "my_agg_value = my_agg * agg_close_price\n",
    "my_agg_value"
   ]
  },
  {
   "cell_type": "code",
   "execution_count": 48,
   "metadata": {},
   "outputs": [
    {
     "data": {
      "text/plain": [
       "18937.0"
      ]
     },
     "execution_count": 48,
     "metadata": {},
     "output_type": "execute_result"
    }
   ],
   "source": [
    "## Now for SPY.\n",
    "my_spy_value = my_spy * spy_close_price\n",
    "my_spy_value"
   ]
  },
  {
   "cell_type": "code",
   "execution_count": 49,
   "metadata": {},
   "outputs": [
    {
     "name": "stdout",
     "output_type": "stream",
     "text": [
      "The current value of your 50 SPY shares is $18937.00.\n",
      "The current value of your 200 AGG shares is $23378.00.\n"
     ]
    }
   ],
   "source": [
    "# Print current value of share\n",
    "print(f\"The current value of your {my_spy} SPY shares is ${my_spy_value:0.2f}.\")\n",
    "print(f\"The current value of your {my_agg} AGG shares is ${my_agg_value:0.2f}.\")"
   ]
  },
  {
   "cell_type": "code",
   "execution_count": 50,
   "metadata": {},
   "outputs": [
    {
     "name": "stdout",
     "output_type": "stream",
     "text": [
      "The total value of your stocks and bonds is currently $42315.00.\n"
     ]
    }
   ],
   "source": [
    "## I want to display a total value of AGG and SPY holdings, mainly just for the reps.\n",
    "## I'm adding the 2 value variables.\n",
    "print(f\"The total value of your stocks and bonds is currently ${my_agg_value + my_spy_value:0.2f}.\")"
   ]
  },
  {
   "cell_type": "markdown",
   "metadata": {},
   "source": [
    "### Savings Health Analysis"
   ]
  },
  {
   "cell_type": "code",
   "execution_count": 51,
   "metadata": {},
   "outputs": [],
   "source": [
    "## Copied from the HW assignment.\n",
    "## In this section, you will assess the financial health of the credit union's members."
   ]
  },
  {
   "cell_type": "code",
   "execution_count": 52,
   "metadata": {},
   "outputs": [],
   "source": [
    "# Set monthly household income\n",
    "## Create a variable called monthly_income and set its value to 12000.\n",
    "monthly_income = 12000"
   ]
  },
  {
   "cell_type": "code",
   "execution_count": 59,
   "metadata": {},
   "outputs": [],
   "source": [
    "# Create savings DataFrame\n",
    "## To analyze savings health, create a DataFrame called df_savings with two rows.\n",
    "## Store the total value in dollars of the crypto assets in the first row and the total value of the shares in the second row.\n",
    "## Hint: The df_savings DataFrame should have one column named amount and two rows where crypto and shares are the index values.\n",
    "\n",
    "## I need to create the information that will go into df_savings.\n",
    "\n",
    "savings = {\n",
    "    \"Amounts\": [btc_value + eth_value, my_agg_value + my_spy_value]\n",
    "}\n",
    "\n",
    "## Now I need to set the assets.\n",
    "\n",
    "assets = [\"Crypto\",\"Shares\"]"
   ]
  },
  {
   "cell_type": "code",
   "execution_count": 60,
   "metadata": {},
   "outputs": [
    {
     "data": {
      "text/html": [
       "<div>\n",
       "<style scoped>\n",
       "    .dataframe tbody tr th:only-of-type {\n",
       "        vertical-align: middle;\n",
       "    }\n",
       "\n",
       "    .dataframe tbody tr th {\n",
       "        vertical-align: top;\n",
       "    }\n",
       "\n",
       "    .dataframe thead th {\n",
       "        text-align: right;\n",
       "    }\n",
       "</style>\n",
       "<table border=\"1\" class=\"dataframe\">\n",
       "  <thead>\n",
       "    <tr style=\"text-align: right;\">\n",
       "      <th></th>\n",
       "      <th>Amounts</th>\n",
       "    </tr>\n",
       "  </thead>\n",
       "  <tbody>\n",
       "    <tr>\n",
       "      <th>Crypto</th>\n",
       "      <td>62130.084</td>\n",
       "    </tr>\n",
       "    <tr>\n",
       "      <th>Shares</th>\n",
       "      <td>42315.000</td>\n",
       "    </tr>\n",
       "  </tbody>\n",
       "</table>\n",
       "</div>"
      ],
      "text/plain": [
       "          Amounts\n",
       "Crypto  62130.084\n",
       "Shares  42315.000"
      ]
     },
     "execution_count": 60,
     "metadata": {},
     "output_type": "execute_result"
    }
   ],
   "source": [
    "# Display savings DataFrame\n",
    "df_savings = pd.DataFrame(savings, index = assets)\n",
    "df_savings"
   ]
  },
  {
   "cell_type": "code",
   "execution_count": 61,
   "metadata": {},
   "outputs": [
    {
     "data": {
      "image/png": "[encoded data removed]",
      "text/plain": [
       "<Figure size 432x288 with 1 Axes>"
      ]
     },
     "metadata": {},
     "output_type": "display_data"
    }
   ],
   "source": [
    "# Plot savings pie chart\n",
    "df_savings.plot.pie(y = \"Amounts\", title = \"Visualizing Your Savings\");"
   ]
  },
  {
   "cell_type": "code",
   "execution_count": 62,
   "metadata": {},
   "outputs": [
    {
     "data": {
      "text/plain": [
       "36000"
      ]
     },
     "execution_count": 62,
     "metadata": {},
     "output_type": "execute_result"
    }
   ],
   "source": [
    "# Set ideal emergency fund.\n",
    "## According to the assignment: An ideal emergency fund should be equal to 3x your monthly income.\n",
    "emergency_fund = monthly_income * 3\n",
    "emergency_fund"
   ]
  },
  {
   "cell_type": "code",
   "execution_count": 63,
   "metadata": {},
   "outputs": [],
   "source": [
    "# Calculate total amount of savings\n",
    "## I need to add the amounts together from my df_savings df.\n",
    "## I'm going to use the .sum function.\n",
    "\n",
    "total_savings = df_savings.sum().item()"
   ]
  },
  {
   "cell_type": "code",
   "execution_count": 64,
   "metadata": {},
   "outputs": [
    {
     "data": {
      "text/plain": [
       "104445.084"
      ]
     },
     "execution_count": 64,
     "metadata": {},
     "output_type": "execute_result"
    }
   ],
   "source": [
    "## Now, to see if it worked.\n",
    "\n",
    "total_savings"
   ]
  },
  {
   "cell_type": "code",
   "execution_count": 56,
   "metadata": {},
   "outputs": [],
   "source": [
    "## It works!"
   ]
  },
  {
   "cell_type": "code",
   "execution_count": 66,
   "metadata": {},
   "outputs": [
    {
     "name": "stdout",
     "output_type": "stream",
     "text": [
      "You have enough money in your emergency fund.\n"
     ]
    }
   ],
   "source": [
    "# Validate saving health\n",
    "## From the Homework:  Use if conditional statements to validate if the current savings are enough for an emergency fund.\n",
    "\n",
    "if total_savings > emergency_fund:\n",
    "    print(\"You have enough money in your emergency fund.\")\n",
    "else:\n",
    "    print(f\"You do not have enough in your emergency fund. You still neeed to save {round(emergency_fund - total_savings, 2)}.\")"
   ]
  },
  {
   "cell_type": "code",
   "execution_count": 67,
   "metadata": {},
   "outputs": [],
   "source": [
    "## It works!"
   ]
  },
  {
   "cell_type": "markdown",
   "metadata": {},
   "source": [
    "## Part 2 - Retirement Planning\n",
    "\n",
    "### Monte Carlo Simulation"
   ]
  },
  {
   "cell_type": "code",
   "execution_count": 57,
   "metadata": {},
   "outputs": [],
   "source": [
    "# Set start and end dates of five years back from today.\n",
    "# Sample results may vary from the solution based on the time frame chosen\n",
    "start_date = pd.Timestamp('2015-08-07', tz='America/New_York').isoformat()\n",
    "end_date = pd.Timestamp('2020-08-07', tz='America/New_York').isoformat()"
   ]
  },
  {
   "cell_type": "code",
   "execution_count": 58,
   "metadata": {},
   "outputs": [
    {
     "ename": "NameError",
     "evalue": "name 'df_stock_data' is not defined",
     "output_type": "error",
     "traceback": [
      "\u001b[1;31m---------------------------------------------------------------------------\u001b[0m",
      "\u001b[1;31mNameError\u001b[0m                                 Traceback (most recent call last)",
      "\u001b[1;32m<ipython-input-58-d985ba8ee8ed>\u001b[0m in \u001b[0;36m<module>\u001b[1;34m\u001b[0m\n\u001b[0;32m      3\u001b[0m \u001b[1;33m\u001b[0m\u001b[0m\n\u001b[0;32m      4\u001b[0m \u001b[1;31m# Display sample data\u001b[0m\u001b[1;33m\u001b[0m\u001b[1;33m\u001b[0m\u001b[1;33m\u001b[0m\u001b[0m\n\u001b[1;32m----> 5\u001b[1;33m \u001b[0mdf_stock_data\u001b[0m\u001b[1;33m.\u001b[0m\u001b[0mhead\u001b[0m\u001b[1;33m(\u001b[0m\u001b[1;33m)\u001b[0m\u001b[1;33m\u001b[0m\u001b[1;33m\u001b[0m\u001b[0m\n\u001b[0m",
      "\u001b[1;31mNameError\u001b[0m: name 'df_stock_data' is not defined"
     ]
    }
   ],
   "source": [
    "# Get 5 years' worth of historical data for SPY and AGG\n",
    "# YOUR CODE HERE!\n",
    "\n",
    "# Display sample data\n",
    "df_stock_data.head()"
   ]
  },
  {
   "cell_type": "code",
   "execution_count": null,
   "metadata": {},
   "outputs": [],
   "source": [
    "# Configuring a Monte Carlo simulation to forecast 30 years cumulative returns\n",
    "# YOUR CODE HERE!"
   ]
  },
  {
   "cell_type": "code",
   "execution_count": null,
   "metadata": {},
   "outputs": [],
   "source": [
    "# Printing the simulation input data\n",
    "# YOUR CODE HERE!"
   ]
  },
  {
   "cell_type": "code",
   "execution_count": null,
   "metadata": {},
   "outputs": [],
   "source": [
    "# Running a Monte Carlo simulation to forecast 30 years cumulative returns\n",
    "# YOUR CODE HERE!"
   ]
  },
  {
   "cell_type": "code",
   "execution_count": null,
   "metadata": {},
   "outputs": [],
   "source": [
    "# Plot simulation outcomes\n",
    "# YOUR CODE HERE!"
   ]
  },
  {
   "cell_type": "code",
   "execution_count": null,
   "metadata": {},
   "outputs": [],
   "source": [
    "# Plot probability distribution and confidence intervals\n",
    "# YOUR CODE HERE!"
   ]
  },
  {
   "cell_type": "markdown",
   "metadata": {},
   "source": [
    "### Retirement Analysis"
   ]
  },
  {
   "cell_type": "code",
   "execution_count": null,
   "metadata": {},
   "outputs": [],
   "source": [
    "# Fetch summary statistics from the Monte Carlo simulation results\n",
    "# YOUR CODE HERE!\n",
    "\n",
    "# Print summary statistics\n",
    "# YOUR CODE HERE!"
   ]
  },
  {
   "cell_type": "markdown",
   "metadata": {},
   "source": [
    "### Calculate the expected portfolio return at the 95% lower and upper confidence intervals based on a `$20,000` initial investment."
   ]
  },
  {
   "cell_type": "code",
   "execution_count": null,
   "metadata": {},
   "outputs": [],
   "source": [
    "# Set initial investment\n",
    "initial_investment = 20000\n",
    "\n",
    "# Use the lower and upper `95%` confidence intervals to calculate the range of the possible outcomes of our $20,000\n",
    "# YOUR CODE HERE!\n",
    "\n",
    "# Print results\n",
    "print(f\"There is a 95% chance that an initial investment of ${initial_investment} in the portfolio\"\n",
    "      f\" over the next 30 years will end within in the range of\"\n",
    "      f\" ${ci_lower} and ${ci_upper}\")"
   ]
  },
  {
   "cell_type": "markdown",
   "metadata": {},
   "source": [
    "### Calculate the expected portfolio return at the `95%` lower and upper confidence intervals based on a `50%` increase in the initial investment."
   ]
  },
  {
   "cell_type": "code",
   "execution_count": null,
   "metadata": {},
   "outputs": [],
   "source": [
    "# Set initial investment\n",
    "initial_investment = 20000 * 1.5\n",
    "\n",
    "# Use the lower and upper `95%` confidence intervals to calculate the range of the possible outcomes of our $30,000\n",
    "# YOUR CODE HERE!\n",
    "\n",
    "# Print results\n",
    "print(f\"There is a 95% chance that an initial investment of ${initial_investment} in the portfolio\"\n",
    "      f\" over the next 30 years will end within in the range of\"\n",
    "      f\" ${ci_lower} and ${ci_upper}\")"
   ]
  }
 ],
 "metadata": {
  "kernelspec": {
   "display_name": "Python 3",
   "language": "python",
   "name": "python3"
  },
  "language_info": {
   "codemirror_mode": {
    "name": "ipython",
    "version": 3
   },
   "file_extension": ".py",
   "mimetype": "text/x-python",
   "name": "python",
   "nbconvert_exporter": "python",
   "pygments_lexer": "ipython3",
   "version": "3.7.10"
  }
 },
 "nbformat": 4,
 "nbformat_minor": 4
}
