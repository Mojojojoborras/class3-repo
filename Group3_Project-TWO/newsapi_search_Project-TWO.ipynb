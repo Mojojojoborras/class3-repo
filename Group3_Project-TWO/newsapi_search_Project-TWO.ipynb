{
 "cells": [
  {
   "cell_type": "markdown",
   "id": "5e98bbce-4af1-424e-a046-9d7376f1b270",
   "metadata": {},
   "source": [
    "### Group3_Project-TWO | News API\n",
    "<hr />\n",
    "Looking for signal in the noise using News APIsl; limited to 100 days.<br>\n",
    "\n",
    "&nbsp;\n",
    "<ul>\n",
    "<font size=\"1\" color=\"silver\">10AUG2021</font><br>\n",
    "<p>Working on some of the logic here in case we want to go down the path of displaying a recent sentiment summary for a given ticker.\n",
    "</ul>\n",
    "&nbsp;\n",
    "<ul>\n",
    "<font size=\"1\" color=\"silver\">14AUG2021</font><br>\n",
    "<p>Made changes to the logic so that a simple \"find and replace\" could deliver today's sentiment on any given ticker in our S&amp;P data frame.\n",
    "</ul>"
   ]
  },
  {
   "cell_type": "code",
   "execution_count": 1,
   "id": "9487ece0-6c3c-4bf9-b380-04b8ba15acc7",
   "metadata": {},
   "outputs": [],
   "source": [
    "## I just put this into everything now so I don't wast time reading the warnings.\n",
    "\n",
    "import warnings\n",
    "warnings.filterwarnings('ignore')"
   ]
  },
  {
   "cell_type": "code",
   "execution_count": 2,
   "id": "784c777d-4ab3-40b5-a82d-2e94d29a6f76",
   "metadata": {},
   "outputs": [],
   "source": [
    "## --- Most of this is from the crypto sentiment HW."
   ]
  },
  {
   "cell_type": "code",
   "execution_count": 3,
   "id": "7f219d9c-58d9-432c-8170-81d17460e594",
   "metadata": {},
   "outputs": [],
   "source": [
    "## Doing some initial imports from the crypto_sentiment HW.\n",
    "\n",
    "import os\n",
    "import pandas as pd\n",
    "from dotenv import load_dotenv"
   ]
  },
  {
   "cell_type": "code",
   "execution_count": 4,
   "id": "0253d4b3-79fd-47db-a795-1df12327b8a5",
   "metadata": {},
   "outputs": [
    {
     "name": "stdout",
     "output_type": "stream",
     "text": [
      "Requirement already satisfied: nltk in c:\\users\\rotar\\anaconda3\\lib\\site-packages (3.6.2)\n",
      "Requirement already satisfied: regex in c:\\users\\rotar\\anaconda3\\lib\\site-packages (from nltk) (2021.4.4)\n",
      "Requirement already satisfied: tqdm in c:\\users\\rotar\\anaconda3\\lib\\site-packages (from nltk) (4.61.1)\n",
      "Requirement already satisfied: joblib in c:\\users\\rotar\\anaconda3\\lib\\site-packages (from nltk) (1.0.1)\n",
      "Requirement already satisfied: click in c:\\users\\rotar\\anaconda3\\lib\\site-packages (from nltk) (7.1.2)\n"
     ]
    }
   ],
   "source": [
    "!pip install nltk"
   ]
  },
  {
   "cell_type": "code",
   "execution_count": 5,
   "id": "de62fb04-ef4b-4112-a31b-b99f41d7803f",
   "metadata": {},
   "outputs": [],
   "source": [
    "import nltk as nltk\n",
    "\n",
    "## nltk.download('vader_lexicon')\n",
    "from nltk.sentiment.vader import SentimentIntensityAnalyzer\n",
    "analyzer = SentimentIntensityAnalyzer()\n",
    "\n",
    "%matplotlib inline"
   ]
  },
  {
   "cell_type": "code",
   "execution_count": 6,
   "id": "73d12512-9b18-4780-a369-6297a41bdb65",
   "metadata": {},
   "outputs": [
    {
     "name": "stdout",
     "output_type": "stream",
     "text": [
      "Requirement already satisfied: python-dotenv in c:\\users\\rotar\\anaconda3\\lib\\site-packages (0.17.1)\n"
     ]
    }
   ],
   "source": [
    "## I had trouble getting my base environment to read my API keys.\n",
    "## Trying pip install python-dotenv to make sure it can see the .env file.\n",
    "\n",
    "!pip install python-dotenv"
   ]
  },
  {
   "cell_type": "code",
   "execution_count": 7,
   "id": "2e2a2814-a30f-4d38-aaaa-0f238e5e37fb",
   "metadata": {},
   "outputs": [],
   "source": [
    "## So far, so good.\n",
    "\n",
    "from newsapi import NewsApiClient"
   ]
  },
  {
   "cell_type": "code",
   "execution_count": 8,
   "id": "5e805046-4a5b-4942-823e-9dbf6620a9df",
   "metadata": {},
   "outputs": [],
   "source": [
    "%load_ext dotenv\n",
    "%dotenv"
   ]
  },
  {
   "cell_type": "code",
   "execution_count": 9,
   "id": "997caee6-8716-4af0-b8bd-d232b27b2658",
   "metadata": {},
   "outputs": [],
   "source": [
    "# Read your api key environment variable\n",
    "\n",
    "newsapi_key = os.getenv(\"NEWSAPI_ORG_KEY\")"
   ]
  },
  {
   "cell_type": "code",
   "execution_count": 10,
   "id": "bf82a5ed-0c70-4338-9f50-653048361643",
   "metadata": {},
   "outputs": [
    {
     "data": {
      "text/plain": [
       "<newsapi.newsapi_client.NewsApiClient at 0x241fae2fc10>"
      ]
     },
     "execution_count": 10,
     "metadata": {},
     "output_type": "execute_result"
    }
   ],
   "source": [
    "newsapi = NewsApiClient(api_key=newsapi_key)\n",
    "newsapi"
   ]
  },
  {
   "cell_type": "code",
   "execution_count": 11,
   "id": "95d0ac64-24e2-4c6a-af8a-fb66a538dff7",
   "metadata": {},
   "outputs": [],
   "source": [
    "# Fetch the relevant news articles\n",
    "## Study group says we're sorting by \"relevancy\"; sounds right.\n",
    "## Naming this one tezos_articles, because I'm using for articles about Tezos.\n",
    "\n",
    "gm_articles = newsapi.get_everything(\n",
    "    q=\"gm\", language=\"en\", sort_by=\"relevancy\"\n",
    "    )"
   ]
  },
  {
   "cell_type": "code",
   "execution_count": 12,
   "id": "99430ca1-595c-47c3-8cd6-cb0abd583c62",
   "metadata": {},
   "outputs": [
    {
     "data": {
      "text/plain": [
       "[{'source': {'id': 'techcrunch', 'name': 'TechCrunch'},\n",
       "  'author': 'Kirsten Korosec',\n",
       "  'title': 'GM is bringing its upgraded hands-free Super Cruise driving system to six vehicles in 2022',\n",
       "  'description': 'GM is rolling out three major upgrades including automatic lanes changes and towing support to its hands-free driver assistance system Super Cruise and making it available in six vehicles, including the 2022 all-new GMC Hummer EV pickup truck. While GM has st…',\n",
       "  'url': 'http://techcrunch.com/2021/07/22/gm-is-bringing-its-upgraded-hands-free-super-cruise-driving-system-to-six-vehicles-in-2022/',\n",
       "  'urlToImage': 'https://techcrunch.com/wp-content/uploads/2021/07/2021-Cadillac-Escalade-Super-Cruise-109.jpg?w=600',\n",
       "  'publishedAt': '2021-07-23T04:00:16Z',\n",
       "  'content': 'GM is rolling out three major upgrades including automatic lanes changes and towing support to its hands-free driver assistance system Super Cruise and making it available in six vehicles, including … [+3095 chars]'}]"
      ]
     },
     "execution_count": 12,
     "metadata": {},
     "output_type": "execute_result"
    }
   ],
   "source": [
    "## Let's see if that worked.\n",
    "## Show some sample articles.\n",
    "\n",
    "gm_articles[\"articles\"][:1]"
   ]
  },
  {
   "cell_type": "code",
   "execution_count": 13,
   "id": "90a3a964-f173-494c-b667-c4183dec51f1",
   "metadata": {},
   "outputs": [
    {
     "name": "stdout",
     "output_type": "stream",
     "text": [
      "4581\n"
     ]
    }
   ],
   "source": [
    "## Let's make a variable to count the results.\n",
    "\n",
    "gm_total = gm_articles[\"totalResults\"]\n",
    "print(gm_total)"
   ]
  },
  {
   "cell_type": "code",
   "execution_count": 14,
   "id": "8ea1b637-841d-46d9-8dee-ad307f6155e3",
   "metadata": {},
   "outputs": [
    {
     "name": "stdout",
     "output_type": "stream",
     "text": [
      "There were 4581 articles written about gm in our News API range.\n"
     ]
    }
   ],
   "source": [
    "## Now I'll print an f-string (for later).\n",
    "print(f\"There were {gm_total} articles written about gm in our News API range.\")"
   ]
  },
  {
   "cell_type": "code",
   "execution_count": 15,
   "id": "bc4f35d9-20ae-41d1-bd51-007a8f249f38",
   "metadata": {},
   "outputs": [],
   "source": [
    "## So far, so good!"
   ]
  },
  {
   "cell_type": "code",
   "execution_count": 16,
   "id": "9826805d-98e0-4ae4-984a-977849805c7f",
   "metadata": {},
   "outputs": [],
   "source": [
    "# Creating the ticker sentiment scores DataFrame\n",
    "## This came with a *TON* of help from the study group and copy/pasting from class work.\n",
    "\n",
    "gm_sentiment = []\n",
    "\n",
    "for article in gm_articles[\"articles\"]:\n",
    "    try:\n",
    "        text = article[\"content\"]\n",
    "        sentiment = analyzer.polarity_scores(text)\n",
    "        pos = sentiment[\"pos\"]\n",
    "        neu = sentiment[\"neu\"]\n",
    "        neg = sentiment[\"neg\"]\n",
    "        \n",
    "        gm_sentiment.append({\n",
    "            \"positive\": pos,\n",
    "            \"negative\": neg,\n",
    "            \"neutral\": neu,\n",
    "            \"text\": text\n",
    "        })\n",
    "        \n",
    "    except AttributeError:\n",
    "        pass"
   ]
  },
  {
   "cell_type": "code",
   "execution_count": 17,
   "id": "3ca9c97b-509f-47fa-b5fc-cf6cdd7b23d4",
   "metadata": {},
   "outputs": [
    {
     "data": {
      "text/html": [
       "<div>\n",
       "<style scoped>\n",
       "    .dataframe tbody tr th:only-of-type {\n",
       "        vertical-align: middle;\n",
       "    }\n",
       "\n",
       "    .dataframe tbody tr th {\n",
       "        vertical-align: top;\n",
       "    }\n",
       "\n",
       "    .dataframe thead th {\n",
       "        text-align: right;\n",
       "    }\n",
       "</style>\n",
       "<table border=\"1\" class=\"dataframe\">\n",
       "  <thead>\n",
       "    <tr style=\"text-align: right;\">\n",
       "      <th></th>\n",
       "      <th>positive</th>\n",
       "      <th>negative</th>\n",
       "      <th>neutral</th>\n",
       "      <th>text</th>\n",
       "    </tr>\n",
       "  </thead>\n",
       "  <tbody>\n",
       "    <tr>\n",
       "      <th>0</th>\n",
       "      <td>0.180</td>\n",
       "      <td>0.0</td>\n",
       "      <td>0.820</td>\n",
       "      <td>GM is rolling out three major upgrades includi...</td>\n",
       "    </tr>\n",
       "    <tr>\n",
       "      <th>1</th>\n",
       "      <td>0.000</td>\n",
       "      <td>0.0</td>\n",
       "      <td>1.000</td>\n",
       "      <td>GM will add a full-size electric pickup truck ...</td>\n",
       "    </tr>\n",
       "    <tr>\n",
       "      <th>2</th>\n",
       "      <td>0.000</td>\n",
       "      <td>0.0</td>\n",
       "      <td>1.000</td>\n",
       "      <td>GM is working on another electric pickup truck...</td>\n",
       "    </tr>\n",
       "    <tr>\n",
       "      <th>3</th>\n",
       "      <td>0.000</td>\n",
       "      <td>0.0</td>\n",
       "      <td>1.000</td>\n",
       "      <td>The twice-issued recall for 2017 to 2019 Chevr...</td>\n",
       "    </tr>\n",
       "    <tr>\n",
       "      <th>4</th>\n",
       "      <td>0.069</td>\n",
       "      <td>0.0</td>\n",
       "      <td>0.931</td>\n",
       "      <td>General Motors said Wednesday it is adding to ...</td>\n",
       "    </tr>\n",
       "  </tbody>\n",
       "</table>\n",
       "</div>"
      ],
      "text/plain": [
       "   positive  negative  neutral  \\\n",
       "0     0.180       0.0    0.820   \n",
       "1     0.000       0.0    1.000   \n",
       "2     0.000       0.0    1.000   \n",
       "3     0.000       0.0    1.000   \n",
       "4     0.069       0.0    0.931   \n",
       "\n",
       "                                                text  \n",
       "0  GM is rolling out three major upgrades includi...  \n",
       "1  GM will add a full-size electric pickup truck ...  \n",
       "2  GM is working on another electric pickup truck...  \n",
       "3  The twice-issued recall for 2017 to 2019 Chevr...  \n",
       "4  General Motors said Wednesday it is adding to ...  "
      ]
     },
     "execution_count": 17,
     "metadata": {},
     "output_type": "execute_result"
    }
   ],
   "source": [
    "gm_sentiment_df = pd.DataFrame(gm_sentiment)\n",
    "gm_sentiment_df.head()"
   ]
  },
  {
   "cell_type": "code",
   "execution_count": 18,
   "id": "be20423e-8f8a-4598-9e40-8a7ebf925ac7",
   "metadata": {},
   "outputs": [
    {
     "data": {
      "text/html": [
       "<div>\n",
       "<style scoped>\n",
       "    .dataframe tbody tr th:only-of-type {\n",
       "        vertical-align: middle;\n",
       "    }\n",
       "\n",
       "    .dataframe tbody tr th {\n",
       "        vertical-align: top;\n",
       "    }\n",
       "\n",
       "    .dataframe thead th {\n",
       "        text-align: right;\n",
       "    }\n",
       "</style>\n",
       "<table border=\"1\" class=\"dataframe\">\n",
       "  <thead>\n",
       "    <tr style=\"text-align: right;\">\n",
       "      <th></th>\n",
       "      <th>positive</th>\n",
       "      <th>negative</th>\n",
       "      <th>neutral</th>\n",
       "    </tr>\n",
       "  </thead>\n",
       "  <tbody>\n",
       "    <tr>\n",
       "      <th>count</th>\n",
       "      <td>20.000000</td>\n",
       "      <td>20.000000</td>\n",
       "      <td>20.000000</td>\n",
       "    </tr>\n",
       "    <tr>\n",
       "      <th>mean</th>\n",
       "      <td>0.057100</td>\n",
       "      <td>0.019400</td>\n",
       "      <td>0.923500</td>\n",
       "    </tr>\n",
       "    <tr>\n",
       "      <th>std</th>\n",
       "      <td>0.083139</td>\n",
       "      <td>0.045335</td>\n",
       "      <td>0.101899</td>\n",
       "    </tr>\n",
       "    <tr>\n",
       "      <th>min</th>\n",
       "      <td>0.000000</td>\n",
       "      <td>0.000000</td>\n",
       "      <td>0.652000</td>\n",
       "    </tr>\n",
       "    <tr>\n",
       "      <th>25%</th>\n",
       "      <td>0.000000</td>\n",
       "      <td>0.000000</td>\n",
       "      <td>0.861000</td>\n",
       "    </tr>\n",
       "    <tr>\n",
       "      <th>50%</th>\n",
       "      <td>0.000000</td>\n",
       "      <td>0.000000</td>\n",
       "      <td>0.970000</td>\n",
       "    </tr>\n",
       "    <tr>\n",
       "      <th>75%</th>\n",
       "      <td>0.087250</td>\n",
       "      <td>0.000000</td>\n",
       "      <td>1.000000</td>\n",
       "    </tr>\n",
       "    <tr>\n",
       "      <th>max</th>\n",
       "      <td>0.240000</td>\n",
       "      <td>0.158000</td>\n",
       "      <td>1.000000</td>\n",
       "    </tr>\n",
       "  </tbody>\n",
       "</table>\n",
       "</div>"
      ],
      "text/plain": [
       "        positive   negative    neutral\n",
       "count  20.000000  20.000000  20.000000\n",
       "mean    0.057100   0.019400   0.923500\n",
       "std     0.083139   0.045335   0.101899\n",
       "min     0.000000   0.000000   0.652000\n",
       "25%     0.000000   0.000000   0.861000\n",
       "50%     0.000000   0.000000   0.970000\n",
       "75%     0.087250   0.000000   1.000000\n",
       "max     0.240000   0.158000   1.000000"
      ]
     },
     "execution_count": 18,
     "metadata": {},
     "output_type": "execute_result"
    }
   ],
   "source": [
    "## Describe the ticker Sentiment\n",
    "\n",
    "gm_sentiment_df.describe()"
   ]
  },
  {
   "cell_type": "code",
   "execution_count": 19,
   "id": "697a0e7c-26fc-44ab-822f-c31e5f1069cf",
   "metadata": {},
   "outputs": [
    {
     "data": {
      "text/html": [
       "<div>\n",
       "<style scoped>\n",
       "    .dataframe tbody tr th:only-of-type {\n",
       "        vertical-align: middle;\n",
       "    }\n",
       "\n",
       "    .dataframe tbody tr th {\n",
       "        vertical-align: top;\n",
       "    }\n",
       "\n",
       "    .dataframe thead th {\n",
       "        text-align: right;\n",
       "    }\n",
       "</style>\n",
       "<table border=\"1\" class=\"dataframe\">\n",
       "  <thead>\n",
       "    <tr style=\"text-align: right;\">\n",
       "      <th></th>\n",
       "      <th>positive</th>\n",
       "      <th>negative</th>\n",
       "      <th>neutral</th>\n",
       "    </tr>\n",
       "  </thead>\n",
       "  <tbody>\n",
       "    <tr>\n",
       "      <th>count</th>\n",
       "      <td>20.000000</td>\n",
       "      <td>20.000000</td>\n",
       "      <td>20.000000</td>\n",
       "    </tr>\n",
       "    <tr>\n",
       "      <th>mean</th>\n",
       "      <td>0.057100</td>\n",
       "      <td>0.019400</td>\n",
       "      <td>0.923500</td>\n",
       "    </tr>\n",
       "    <tr>\n",
       "      <th>std</th>\n",
       "      <td>0.083139</td>\n",
       "      <td>0.045335</td>\n",
       "      <td>0.101899</td>\n",
       "    </tr>\n",
       "    <tr>\n",
       "      <th>min</th>\n",
       "      <td>0.000000</td>\n",
       "      <td>0.000000</td>\n",
       "      <td>0.652000</td>\n",
       "    </tr>\n",
       "    <tr>\n",
       "      <th>25%</th>\n",
       "      <td>0.000000</td>\n",
       "      <td>0.000000</td>\n",
       "      <td>0.861000</td>\n",
       "    </tr>\n",
       "    <tr>\n",
       "      <th>50%</th>\n",
       "      <td>0.000000</td>\n",
       "      <td>0.000000</td>\n",
       "      <td>0.970000</td>\n",
       "    </tr>\n",
       "    <tr>\n",
       "      <th>75%</th>\n",
       "      <td>0.087250</td>\n",
       "      <td>0.000000</td>\n",
       "      <td>1.000000</td>\n",
       "    </tr>\n",
       "    <tr>\n",
       "      <th>max</th>\n",
       "      <td>0.240000</td>\n",
       "      <td>0.158000</td>\n",
       "      <td>1.000000</td>\n",
       "    </tr>\n",
       "  </tbody>\n",
       "</table>\n",
       "</div>"
      ],
      "text/plain": [
       "        positive   negative    neutral\n",
       "count  20.000000  20.000000  20.000000\n",
       "mean    0.057100   0.019400   0.923500\n",
       "std     0.083139   0.045335   0.101899\n",
       "min     0.000000   0.000000   0.652000\n",
       "25%     0.000000   0.000000   0.861000\n",
       "50%     0.000000   0.000000   0.970000\n",
       "75%     0.087250   0.000000   1.000000\n",
       "max     0.240000   0.158000   1.000000"
      ]
     },
     "execution_count": 19,
     "metadata": {},
     "output_type": "execute_result"
    }
   ],
   "source": [
    "## Converting the description to a df.\n",
    "\n",
    "gm_described_df = gm_sentiment_df.describe()\n",
    "gm_described_df"
   ]
  },
  {
   "cell_type": "code",
   "execution_count": 20,
   "id": "6d91b224-2ec9-4529-a384-d82f4bd55521",
   "metadata": {},
   "outputs": [
    {
     "data": {
      "text/plain": [
       "0.0571"
      ]
     },
     "execution_count": 20,
     "metadata": {},
     "output_type": "execute_result"
    }
   ],
   "source": [
    "gm_described_df['positive']['mean']"
   ]
  },
  {
   "cell_type": "code",
   "execution_count": 21,
   "id": "79accb17-bbe4-4652-a12c-a699e17ca368",
   "metadata": {},
   "outputs": [
    {
     "name": "stdout",
     "output_type": "stream",
     "text": [
      "There were 4581 articles written about gm in our range; of those, 6.0% of the articles were positive, 2.0% were negative, and 92.0% were neutral.\n"
     ]
    }
   ],
   "source": [
    "## This is the logic for generating the \"answers\" to some of the questions.\n",
    "\n",
    "gm_pos = round(gm_described_df['positive']['mean'],2)*100\n",
    "gm_neg = round(gm_described_df['negative']['mean'],2)*100\n",
    "gm_neu = round(gm_described_df['neutral']['mean'],2)*100\n",
    "print(f\"There were {gm_total} articles written about gm in our range; of those, {gm_pos}% of the articles were positive, {gm_neg}% were negative, and {gm_neu}% were neutral.\")"
   ]
  },
  {
   "cell_type": "markdown",
   "id": "0bedce96-658d-46d2-94e0-7e39ac18fcb8",
   "metadata": {},
   "source": [
    "<br>\n",
    "<hr />"
   ]
  },
  {
   "cell_type": "code",
   "execution_count": 22,
   "id": "ef017e8c-32d3-46cf-a1b5-5601a715098f",
   "metadata": {},
   "outputs": [],
   "source": [
    "## Below this line is \"scratch paper\"."
   ]
  },
  {
   "cell_type": "code",
   "execution_count": 23,
   "id": "6739564f-7aa8-488d-8fc2-f58ba38dc642",
   "metadata": {},
   "outputs": [],
   "source": [
    "## --- ## --- ## --- ##"
   ]
  },
  {
   "cell_type": "code",
   "execution_count": 24,
   "id": "bb3b1afd-5ab4-4f94-9eb0-044ed0c0c607",
   "metadata": {},
   "outputs": [],
   "source": [
    "## This is work I was doing to isolate the volume of chatter as articles per day.\n",
    "\n",
    "## fomoco_articles = newsapi.get_everything(q='ford motor company',\n",
    "##    from_param='2021-07-10',\n",
    "##    to='2021-08-10',\n",
    "##    language='en',\n",
    "##  sort_by='relevancy',\n",
    "##  page=1\n",
    "##  )"
   ]
  },
  {
   "cell_type": "code",
   "execution_count": 25,
   "id": "48ac9900-553f-4975-8eef-df9011c1a66c",
   "metadata": {},
   "outputs": [],
   "source": [
    "## fomoco_articles['articles'][0]['publishedAt']"
   ]
  },
  {
   "cell_type": "code",
   "execution_count": 26,
   "id": "30208ec6-ac85-4a2d-8d13-0be2309bf11c",
   "metadata": {},
   "outputs": [],
   "source": [
    "## for i in range(0,len(fomoco_articles['articles'])):\n",
    "##"
   ]
  },
  {
   "cell_type": "code",
   "execution_count": 27,
   "id": "d380d771-dd8a-42d5-93f3-b614f6067235",
   "metadata": {},
   "outputs": [],
   "source": [
    "## print(fomoco_articles['articles'][i]['publishedAt'])"
   ]
  }
 ],
 "metadata": {
  "kernelspec": {
   "display_name": "Python 3",
   "language": "python",
   "name": "python3"
  },
  "language_info": {
   "codemirror_mode": {
    "name": "ipython",
    "version": 3
   },
   "file_extension": ".py",
   "mimetype": "text/x-python",
   "name": "python",
   "nbconvert_exporter": "python",
   "pygments_lexer": "ipython3",
   "version": "3.8.5"
  }
 },
 "nbformat": 4,
 "nbformat_minor": 5
}
