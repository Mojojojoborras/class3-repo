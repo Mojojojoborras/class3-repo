{
 "cells": [
  {
   "cell_type": "markdown",
   "metadata": {},
   "source": [
    "# LSTM Stock Predictor Using Closing Prices\n",
    "\n",
    "In this notebook, we will:\n",
    "\n",
    "1. Prepare the data for training and testing\n",
    "2. Build and train a custom LSTM RNN\n",
    "3. Evaluate the performance of the model"
   ]
  },
  {
   "cell_type": "markdown",
   "metadata": {},
   "source": [
    "## Data Preparation\n",
    "\n",
    "In this section, we will need to prepare the training and testing data for the model. The model will use a rolling 10 day window to predict the 11th day closing price.\n",
    "\n",
    "We need to:\n",
    "1. Use the `window_data` function to generate the X and y values for the model.\n",
    "2. Split the data into 70% training and 30% testing\n",
    "3. Apply the MinMaxScaler to the X and y values\n",
    "4. Reshape the X_train and X_test data for the model. Note: The required input format for the LSTM is:\n",
    "\n",
    "```python\n",
    "reshape((X_train.shape[0], X_train.shape[1], 1))\n",
    "```"
   ]
  },
  {
   "cell_type": "code",
   "execution_count": 31,
   "metadata": {},
   "outputs": [],
   "source": [
    "## From the starter code.\n",
    "\n",
    "import numpy as np\n",
    "import pandas as pd\n",
    "import hvplot.pandas\n",
    "import requests\n",
    "import matplotlib.pyplot as plt\n",
    "import plotly.express as px\n",
    "from sklearn.preprocessing import StandardScaler, MinMaxScaler\n",
    "from sklearn.decomposition import PCA\n",
    "from sklearn.cluster import KMeans\n",
    "from pathlib import Path\n",
    "import json\n",
    "import numpy as np\n",
    "\n",
    "## I just put this into everything now.\n",
    "\n",
    "import warnings\n",
    "warnings.filterwarnings('ignore')"
   ]
  },
  {
   "cell_type": "code",
   "execution_count": 32,
   "metadata": {},
   "outputs": [],
   "source": [
    "# Set the random seed for reproducibility\n",
    "# Note: This is for the homework solution, but it is good practice to comment this out and run multiple experiments to evaluate your model\n",
    "## From the starter code.\n",
    "\n",
    "from numpy.random import seed\n",
    "seed(1)\n",
    "from tensorflow import random\n",
    "random.set_seed(2)"
   ]
  },
  {
   "cell_type": "code",
   "execution_count": null,
   "metadata": {},
   "outputs": [],
   "source": []
  },
  {
   "cell_type": "code",
   "execution_count": 33,
   "metadata": {},
   "outputs": [
    {
     "data": {
      "text/html": [
       "<div>\n",
       "<style scoped>\n",
       "    .dataframe tbody tr th:only-of-type {\n",
       "        vertical-align: middle;\n",
       "    }\n",
       "\n",
       "    .dataframe tbody tr th {\n",
       "        vertical-align: top;\n",
       "    }\n",
       "\n",
       "    .dataframe thead th {\n",
       "        text-align: right;\n",
       "    }\n",
       "</style>\n",
       "<table border=\"1\" class=\"dataframe\">\n",
       "  <thead>\n",
       "    <tr style=\"text-align: right;\">\n",
       "      <th></th>\n",
       "      <th>Date</th>\n",
       "      <th>F</th>\n",
       "      <th>GM</th>\n",
       "      <th>KMX</th>\n",
       "      <th>TSLA</th>\n",
       "    </tr>\n",
       "  </thead>\n",
       "  <tbody>\n",
       "    <tr>\n",
       "      <th>0</th>\n",
       "      <td>8/23/2017</td>\n",
       "      <td>9.099985</td>\n",
       "      <td>31.710386</td>\n",
       "      <td>64.050003</td>\n",
       "      <td>70.554001</td>\n",
       "    </tr>\n",
       "    <tr>\n",
       "      <th>1</th>\n",
       "      <td>8/24/2017</td>\n",
       "      <td>9.099985</td>\n",
       "      <td>31.737188</td>\n",
       "      <td>63.730000</td>\n",
       "      <td>70.585999</td>\n",
       "    </tr>\n",
       "    <tr>\n",
       "      <th>2</th>\n",
       "      <td>8/25/2017</td>\n",
       "      <td>9.193448</td>\n",
       "      <td>31.808662</td>\n",
       "      <td>64.389999</td>\n",
       "      <td>69.610001</td>\n",
       "    </tr>\n",
       "    <tr>\n",
       "      <th>3</th>\n",
       "      <td>8/28/2017</td>\n",
       "      <td>9.167959</td>\n",
       "      <td>31.728241</td>\n",
       "      <td>63.480000</td>\n",
       "      <td>69.132004</td>\n",
       "    </tr>\n",
       "    <tr>\n",
       "      <th>4</th>\n",
       "      <td>8/29/2017</td>\n",
       "      <td>9.210443</td>\n",
       "      <td>31.737188</td>\n",
       "      <td>63.560001</td>\n",
       "      <td>69.472000</td>\n",
       "    </tr>\n",
       "    <tr>\n",
       "      <th>...</th>\n",
       "      <td>...</td>\n",
       "      <td>...</td>\n",
       "      <td>...</td>\n",
       "      <td>...</td>\n",
       "      <td>...</td>\n",
       "    </tr>\n",
       "    <tr>\n",
       "      <th>995</th>\n",
       "      <td>8/6/2021</td>\n",
       "      <td>13.800000</td>\n",
       "      <td>55.049999</td>\n",
       "      <td>134.020004</td>\n",
       "      <td>699.099976</td>\n",
       "    </tr>\n",
       "    <tr>\n",
       "      <th>996</th>\n",
       "      <td>8/9/2021</td>\n",
       "      <td>13.750000</td>\n",
       "      <td>53.950001</td>\n",
       "      <td>132.850006</td>\n",
       "      <td>713.760010</td>\n",
       "    </tr>\n",
       "    <tr>\n",
       "      <th>997</th>\n",
       "      <td>8/10/2021</td>\n",
       "      <td>13.820000</td>\n",
       "      <td>54.259998</td>\n",
       "      <td>135.309998</td>\n",
       "      <td>709.989990</td>\n",
       "    </tr>\n",
       "    <tr>\n",
       "      <th>998</th>\n",
       "      <td>8/11/2021</td>\n",
       "      <td>13.930000</td>\n",
       "      <td>54.270000</td>\n",
       "      <td>131.899994</td>\n",
       "      <td>707.820007</td>\n",
       "    </tr>\n",
       "    <tr>\n",
       "      <th>999</th>\n",
       "      <td>8/12/2021</td>\n",
       "      <td>13.900000</td>\n",
       "      <td>54.619999</td>\n",
       "      <td>129.339996</td>\n",
       "      <td>722.250000</td>\n",
       "    </tr>\n",
       "  </tbody>\n",
       "</table>\n",
       "<p>1000 rows × 5 columns</p>\n",
       "</div>"
      ],
      "text/plain": [
       "          Date          F         GM         KMX        TSLA\n",
       "0    8/23/2017   9.099985  31.710386   64.050003   70.554001\n",
       "1    8/24/2017   9.099985  31.737188   63.730000   70.585999\n",
       "2    8/25/2017   9.193448  31.808662   64.389999   69.610001\n",
       "3    8/28/2017   9.167959  31.728241   63.480000   69.132004\n",
       "4    8/29/2017   9.210443  31.737188   63.560001   69.472000\n",
       "..         ...        ...        ...         ...         ...\n",
       "995   8/6/2021  13.800000  55.049999  134.020004  699.099976\n",
       "996   8/9/2021  13.750000  53.950001  132.850006  713.760010\n",
       "997  8/10/2021  13.820000  54.259998  135.309998  709.989990\n",
       "998  8/11/2021  13.930000  54.270000  131.899994  707.820007\n",
       "999  8/12/2021  13.900000  54.619999  129.339996  722.250000\n",
       "\n",
       "[1000 rows x 5 columns]"
      ]
     },
     "execution_count": 33,
     "metadata": {},
     "output_type": "execute_result"
    }
   ],
   "source": [
    "## I'm importing the new .csv.\n",
    "\n",
    "file_path = Path(\"C:/Users/rotar/Desktop/class3-repo/Group3_Project-TWO/all_symbols_noindex.csv\")\n",
    "stock_data = pd.read_csv(file_path, parse_dates=True, infer_datetime_format=True)\n",
    "stock_data"
   ]
  },
  {
   "cell_type": "code",
   "execution_count": 34,
   "metadata": {},
   "outputs": [],
   "source": [
    "## Setting the index as 'Date'.\n",
    "\n",
    "stock_data.set_index('Date', inplace=True)"
   ]
  },
  {
   "cell_type": "code",
   "execution_count": 35,
   "metadata": {},
   "outputs": [
    {
     "data": {
      "text/html": [
       "<div>\n",
       "<style scoped>\n",
       "    .dataframe tbody tr th:only-of-type {\n",
       "        vertical-align: middle;\n",
       "    }\n",
       "\n",
       "    .dataframe tbody tr th {\n",
       "        vertical-align: top;\n",
       "    }\n",
       "\n",
       "    .dataframe thead th {\n",
       "        text-align: right;\n",
       "    }\n",
       "</style>\n",
       "<table border=\"1\" class=\"dataframe\">\n",
       "  <thead>\n",
       "    <tr style=\"text-align: right;\">\n",
       "      <th></th>\n",
       "      <th>F</th>\n",
       "      <th>GM</th>\n",
       "      <th>KMX</th>\n",
       "      <th>TSLA</th>\n",
       "    </tr>\n",
       "    <tr>\n",
       "      <th>Date</th>\n",
       "      <th></th>\n",
       "      <th></th>\n",
       "      <th></th>\n",
       "      <th></th>\n",
       "    </tr>\n",
       "  </thead>\n",
       "  <tbody>\n",
       "    <tr>\n",
       "      <th>8/23/2017</th>\n",
       "      <td>9.099985</td>\n",
       "      <td>31.710386</td>\n",
       "      <td>64.050003</td>\n",
       "      <td>70.554001</td>\n",
       "    </tr>\n",
       "    <tr>\n",
       "      <th>8/24/2017</th>\n",
       "      <td>9.099985</td>\n",
       "      <td>31.737188</td>\n",
       "      <td>63.730000</td>\n",
       "      <td>70.585999</td>\n",
       "    </tr>\n",
       "    <tr>\n",
       "      <th>8/25/2017</th>\n",
       "      <td>9.193448</td>\n",
       "      <td>31.808662</td>\n",
       "      <td>64.389999</td>\n",
       "      <td>69.610001</td>\n",
       "    </tr>\n",
       "    <tr>\n",
       "      <th>8/28/2017</th>\n",
       "      <td>9.167959</td>\n",
       "      <td>31.728241</td>\n",
       "      <td>63.480000</td>\n",
       "      <td>69.132004</td>\n",
       "    </tr>\n",
       "    <tr>\n",
       "      <th>8/29/2017</th>\n",
       "      <td>9.210443</td>\n",
       "      <td>31.737188</td>\n",
       "      <td>63.560001</td>\n",
       "      <td>69.472000</td>\n",
       "    </tr>\n",
       "  </tbody>\n",
       "</table>\n",
       "</div>"
      ],
      "text/plain": [
       "                  F         GM        KMX       TSLA\n",
       "Date                                                \n",
       "8/23/2017  9.099985  31.710386  64.050003  70.554001\n",
       "8/24/2017  9.099985  31.737188  63.730000  70.585999\n",
       "8/25/2017  9.193448  31.808662  64.389999  69.610001\n",
       "8/28/2017  9.167959  31.728241  63.480000  69.132004\n",
       "8/29/2017  9.210443  31.737188  63.560001  69.472000"
      ]
     },
     "execution_count": 35,
     "metadata": {},
     "output_type": "execute_result"
    }
   ],
   "source": [
    "stock_data.head()"
   ]
  },
  {
   "cell_type": "code",
   "execution_count": 36,
   "metadata": {},
   "outputs": [
    {
     "data": {
      "text/html": [
       "<div>\n",
       "<style scoped>\n",
       "    .dataframe tbody tr th:only-of-type {\n",
       "        vertical-align: middle;\n",
       "    }\n",
       "\n",
       "    .dataframe tbody tr th {\n",
       "        vertical-align: top;\n",
       "    }\n",
       "\n",
       "    .dataframe thead th {\n",
       "        text-align: right;\n",
       "    }\n",
       "</style>\n",
       "<table border=\"1\" class=\"dataframe\">\n",
       "  <thead>\n",
       "    <tr style=\"text-align: right;\">\n",
       "      <th></th>\n",
       "      <th>F</th>\n",
       "    </tr>\n",
       "    <tr>\n",
       "      <th>Date</th>\n",
       "      <th></th>\n",
       "    </tr>\n",
       "  </thead>\n",
       "  <tbody>\n",
       "    <tr>\n",
       "      <th>8/23/2017</th>\n",
       "      <td>9.099985</td>\n",
       "    </tr>\n",
       "    <tr>\n",
       "      <th>8/24/2017</th>\n",
       "      <td>9.099985</td>\n",
       "    </tr>\n",
       "    <tr>\n",
       "      <th>8/25/2017</th>\n",
       "      <td>9.193448</td>\n",
       "    </tr>\n",
       "    <tr>\n",
       "      <th>8/28/2017</th>\n",
       "      <td>9.167959</td>\n",
       "    </tr>\n",
       "    <tr>\n",
       "      <th>8/29/2017</th>\n",
       "      <td>9.210443</td>\n",
       "    </tr>\n",
       "    <tr>\n",
       "      <th>...</th>\n",
       "      <td>...</td>\n",
       "    </tr>\n",
       "    <tr>\n",
       "      <th>8/6/2021</th>\n",
       "      <td>13.800000</td>\n",
       "    </tr>\n",
       "    <tr>\n",
       "      <th>8/9/2021</th>\n",
       "      <td>13.750000</td>\n",
       "    </tr>\n",
       "    <tr>\n",
       "      <th>8/10/2021</th>\n",
       "      <td>13.820000</td>\n",
       "    </tr>\n",
       "    <tr>\n",
       "      <th>8/11/2021</th>\n",
       "      <td>13.930000</td>\n",
       "    </tr>\n",
       "    <tr>\n",
       "      <th>8/12/2021</th>\n",
       "      <td>13.900000</td>\n",
       "    </tr>\n",
       "  </tbody>\n",
       "</table>\n",
       "<p>1000 rows × 1 columns</p>\n",
       "</div>"
      ],
      "text/plain": [
       "                   F\n",
       "Date                \n",
       "8/23/2017   9.099985\n",
       "8/24/2017   9.099985\n",
       "8/25/2017   9.193448\n",
       "8/28/2017   9.167959\n",
       "8/29/2017   9.210443\n",
       "...              ...\n",
       "8/6/2021   13.800000\n",
       "8/9/2021   13.750000\n",
       "8/10/2021  13.820000\n",
       "8/11/2021  13.930000\n",
       "8/12/2021  13.900000\n",
       "\n",
       "[1000 rows x 1 columns]"
      ]
     },
     "execution_count": 36,
     "metadata": {},
     "output_type": "execute_result"
    }
   ],
   "source": [
    "## Isolating Ford, for now.\n",
    "\n",
    "f_stock_data = stock_data.drop(['GM', 'KMX', 'TSLA'], axis=1)\n",
    "f_stock_data"
   ]
  },
  {
   "cell_type": "code",
   "execution_count": 37,
   "metadata": {},
   "outputs": [],
   "source": [
    "# This function accepts the column number for the features (X) and the target (y)\n",
    "# It chunks the data up with a rolling window of Xt-n to predict Xt\n",
    "# It returns a numpy array of X any y\n",
    "\n",
    "def window_data(f_stock_data, window, feature_col_number, target_col_number):\n",
    "    X = []\n",
    "    y = []\n",
    "    for i in range(len(f_stock_data) - window - 1):\n",
    "        features = f_stock_data.iloc[i:(i + window), feature_col_number]\n",
    "        target = f_stock_data.iloc[(i + window), target_col_number]\n",
    "        X.append(features)\n",
    "        y.append(target)\n",
    "    return np.array(X), np.array(y).reshape(-1, 1)"
   ]
  },
  {
   "cell_type": "code",
   "execution_count": 38,
   "metadata": {},
   "outputs": [],
   "source": [
    "# Predict Closing Prices using a 10 day window of previous closing prices\n",
    "# Then, experiment with window sizes anywhere from 1 to 10 and see how the model performance changes\n",
    "## From the starter code.\n",
    "\n",
    "window_size = 10\n",
    "\n",
    "# Column index 0 is the 'fng_value' column\n",
    "# Column index 1 is the `Close` column\n",
    "feature_column = 0\n",
    "target_column = 0\n",
    "X, y = window_data(f_stock_data, window_size, feature_column, target_column)"
   ]
  },
  {
   "cell_type": "code",
   "execution_count": 39,
   "metadata": {},
   "outputs": [],
   "source": [
    "# Use 70% of the data for training and the remainder for testing\n",
    "## split needs to be an integer; 0.7 = 70%.\n",
    "\n",
    "split = int(0.7 * len(X))\n",
    "X_train = X[: split - 1]\n",
    "X_test = X[split:]\n",
    "y_train = y[: split - 1]\n",
    "y_test = y[split:]"
   ]
  },
  {
   "cell_type": "code",
   "execution_count": 40,
   "metadata": {},
   "outputs": [],
   "source": [
    "## From the starter code.\n",
    "\n",
    "from sklearn.preprocessing import MinMaxScaler"
   ]
  },
  {
   "cell_type": "code",
   "execution_count": 41,
   "metadata": {},
   "outputs": [],
   "source": [
    "# Use the MinMaxScaler to scale data between 0 and 1.\n",
    "\n",
    "scaler = MinMaxScaler()\n",
    "\n",
    "scaler.fit(X)\n",
    "X_train = scaler.transform(X_train)\n",
    "X_test = scaler.transform(X_test)\n",
    "\n",
    "scaler.fit(y)\n",
    "y_train = scaler.transform(y_train)\n",
    "y_test = scaler.transform(y_test)"
   ]
  },
  {
   "cell_type": "code",
   "execution_count": 42,
   "metadata": {},
   "outputs": [
    {
     "data": {
      "text/plain": [
       "array([[0.42487355, 0.42487355, 0.43267513, 0.43054751, 0.4340937 ,\n",
       "        0.441186  , 0.44756932, 0.47026494, 0.47097423, 0.48090359],\n",
       "       [0.42487355, 0.43267513, 0.43054751, 0.4340937 , 0.441186  ,\n",
       "        0.44756932, 0.47026494, 0.47097423, 0.48090359, 0.47381105],\n",
       "       [0.43267513, 0.43054751, 0.4340937 , 0.441186  , 0.44756932,\n",
       "        0.47026494, 0.47097423, 0.48090359, 0.47381105, 0.47097423],\n",
       "       [0.43054751, 0.4340937 , 0.441186  , 0.44756932, 0.47026494,\n",
       "        0.47097423, 0.48090359, 0.47381105, 0.47097423, 0.47452042],\n",
       "       [0.4340937 , 0.441186  , 0.44756932, 0.47026494, 0.47097423,\n",
       "        0.48090359, 0.47381105, 0.47097423, 0.47452042, 0.48728684]])"
      ]
     },
     "execution_count": 42,
     "metadata": {},
     "output_type": "execute_result"
    }
   ],
   "source": [
    "## Let's see what we've got!\n",
    "\n",
    "X_train[:5]"
   ]
  },
  {
   "cell_type": "code",
   "execution_count": 43,
   "metadata": {},
   "outputs": [],
   "source": [
    "## That looks good-- moving on!"
   ]
  },
  {
   "cell_type": "code",
   "execution_count": 44,
   "metadata": {},
   "outputs": [
    {
     "data": {
      "text/plain": [
       "array([[0.47381105],\n",
       "       [0.47097423],\n",
       "       [0.47452042],\n",
       "       [0.48728684],\n",
       "       [0.48941437]])"
      ]
     },
     "execution_count": 44,
     "metadata": {},
     "output_type": "execute_result"
    }
   ],
   "source": [
    "## Let's see what we've got!\n",
    "\n",
    "y_train[:5]"
   ]
  },
  {
   "cell_type": "code",
   "execution_count": 45,
   "metadata": {},
   "outputs": [],
   "source": [
    "# Reshape the features for the model\n",
    "\n",
    "X_train = X_train.reshape((X_train.shape[0], X_train.shape[1], 1))\n",
    "X_test = X_test.reshape((X_test.shape[0], X_test.shape[1], 1))"
   ]
  },
  {
   "cell_type": "markdown",
   "metadata": {},
   "source": [
    "---"
   ]
  },
  {
   "cell_type": "markdown",
   "metadata": {},
   "source": [
    "## Build and Train the LSTM RNN\n",
    "\n",
    "In this section, you will design a custom LSTM RNN and fit (train) it using the training data.\n",
    "\n",
    "We will:\n",
    "1. Define the model architecture\n",
    "2. Compile the model\n",
    "3. Fit the model to the training data\n",
    "\n",
    "*** We want to use the same model architecture and random seed for both notebooks. This is necessary to accurately compare the performance of the FNG model vs the closing price model. "
   ]
  },
  {
   "cell_type": "code",
   "execution_count": 46,
   "metadata": {},
   "outputs": [],
   "source": [
    "## Importing tensorflow.\n",
    "\n",
    "from tensorflow.keras.models import Sequential\n",
    "from tensorflow.keras.layers import LSTM, Dense, Dropout"
   ]
  },
  {
   "cell_type": "code",
   "execution_count": 47,
   "metadata": {},
   "outputs": [],
   "source": [
    "# Build the LSTM model. \n",
    "# The return sequences need to be set to True if you are adding additional LSTM layers, but \n",
    "# You don't have to do this for the final layer. \n",
    "# Note: The dropouts help prevent overfitting\n",
    "# Note: The input shape is the number of time steps and the number of indicators\n",
    "# Note: Batching inputs has a different input shape of Samples/TimeSteps/Features\n",
    "## LSTM = Long, Short-term Memory\n",
    "\n",
    "model = Sequential()\n",
    "\n",
    "number_units = 30\n",
    "dropout_fraction = 0.2\n",
    "\n",
    "# Layer 1\n",
    "model.add(LSTM(\n",
    "    units=number_units,\n",
    "    return_sequences=True,\n",
    "    ## playing with [x], 1 for the shape.\n",
    "    input_shape=(X_train.shape[-1], 1))\n",
    "    )\n",
    "model.add(Dropout(dropout_fraction))\n",
    "\n",
    "# Layer 2\n",
    "model.add(LSTM(units=number_units, return_sequences=True))\n",
    "model.add(Dropout(dropout_fraction))\n",
    "\n",
    "# Layer 3\n",
    "\n",
    "model.add(LSTM(units=number_units))\n",
    "model.add(Dropout(dropout_fraction))\n",
    "\n",
    "# Output layer\n",
    "\n",
    "model.add(Dense(1))"
   ]
  },
  {
   "cell_type": "code",
   "execution_count": 48,
   "metadata": {},
   "outputs": [],
   "source": [
    "# Compile the model\n",
    "## Copied from the student-dos and classwork.\n",
    "## Who is adam?\n",
    "\n",
    "model.compile(optimizer=\"adam\", loss=\"mean_squared_error\")"
   ]
  },
  {
   "cell_type": "code",
   "execution_count": 49,
   "metadata": {},
   "outputs": [
    {
     "name": "stdout",
     "output_type": "stream",
     "text": [
      "Model: \"sequential_1\"\n",
      "_________________________________________________________________\n",
      "Layer (type)                 Output Shape              Param #   \n",
      "=================================================================\n",
      "lstm_3 (LSTM)                (None, 1, 30)             3840      \n",
      "_________________________________________________________________\n",
      "dropout_3 (Dropout)          (None, 1, 30)             0         \n",
      "_________________________________________________________________\n",
      "lstm_4 (LSTM)                (None, 1, 30)             7320      \n",
      "_________________________________________________________________\n",
      "dropout_4 (Dropout)          (None, 1, 30)             0         \n",
      "_________________________________________________________________\n",
      "lstm_5 (LSTM)                (None, 30)                7320      \n",
      "_________________________________________________________________\n",
      "dropout_5 (Dropout)          (None, 30)                0         \n",
      "_________________________________________________________________\n",
      "dense_1 (Dense)              (None, 1)                 31        \n",
      "=================================================================\n",
      "Total params: 18,511\n",
      "Trainable params: 18,511\n",
      "Non-trainable params: 0\n",
      "_________________________________________________________________\n"
     ]
    }
   ],
   "source": [
    "# Summarize the model\n",
    "\n",
    "model.summary()"
   ]
  },
  {
   "cell_type": "code",
   "execution_count": 50,
   "metadata": {},
   "outputs": [],
   "source": [
    "## Looks good-- moving on."
   ]
  },
  {
   "cell_type": "code",
   "execution_count": 51,
   "metadata": {},
   "outputs": [
    {
     "name": "stdout",
     "output_type": "stream",
     "text": [
      "Epoch 1/20\n",
      "WARNING:tensorflow:Model was constructed with shape (None, 1, 1) for input KerasTensor(type_spec=TensorSpec(shape=(None, 1, 1), dtype=tf.float32, name='lstm_3_input'), name='lstm_3_input', description=\"created by layer 'lstm_3_input'\"), but it was called on an input with incompatible shape (None, 10, 1).\n",
      "WARNING:tensorflow:Model was constructed with shape (None, 1, 1) for input KerasTensor(type_spec=TensorSpec(shape=(None, 1, 1), dtype=tf.float32, name='lstm_3_input'), name='lstm_3_input', description=\"created by layer 'lstm_3_input'\"), but it was called on an input with incompatible shape (None, 10, 1).\n",
      "139/139 [==============================] - 4s 7ms/step - loss: 0.0220\n",
      "Epoch 2/20\n",
      "139/139 [==============================] - 1s 7ms/step - loss: 0.0129\n",
      "Epoch 3/20\n",
      "139/139 [==============================] - 1s 7ms/step - loss: 0.0106\n",
      "Epoch 4/20\n",
      "139/139 [==============================] - 1s 7ms/step - loss: 0.0098\n",
      "Epoch 5/20\n",
      "139/139 [==============================] - 1s 7ms/step - loss: 0.0092\n",
      "Epoch 6/20\n",
      "139/139 [==============================] - 1s 7ms/step - loss: 0.0064\n",
      "Epoch 7/20\n",
      "139/139 [==============================] - 1s 7ms/step - loss: 0.0060\n",
      "Epoch 8/20\n",
      "139/139 [==============================] - 1s 7ms/step - loss: 0.0051\n",
      "Epoch 9/20\n",
      "139/139 [==============================] - 1s 7ms/step - loss: 0.0048\n",
      "Epoch 10/20\n",
      "139/139 [==============================] - 1s 7ms/step - loss: 0.0052\n",
      "Epoch 11/20\n",
      "139/139 [==============================] - 1s 7ms/step - loss: 0.0053\n",
      "Epoch 12/20\n",
      "139/139 [==============================] - 1s 7ms/step - loss: 0.0057\n",
      "Epoch 13/20\n",
      "139/139 [==============================] - 1s 7ms/step - loss: 0.0047\n",
      "Epoch 14/20\n",
      "139/139 [==============================] - 1s 7ms/step - loss: 0.0043\n",
      "Epoch 15/20\n",
      "139/139 [==============================] - 1s 7ms/step - loss: 0.0049\n",
      "Epoch 16/20\n",
      "139/139 [==============================] - 1s 7ms/step - loss: 0.0048\n",
      "Epoch 17/20\n",
      "139/139 [==============================] - 1s 7ms/step - loss: 0.0045\n",
      "Epoch 18/20\n",
      "139/139 [==============================] - 1s 7ms/step - loss: 0.0040\n",
      "Epoch 19/20\n",
      "139/139 [==============================] - 1s 7ms/step - loss: 0.0040\n",
      "Epoch 20/20\n",
      "139/139 [==============================] - 1s 7ms/step - loss: 0.0040\n"
     ]
    },
    {
     "data": {
      "text/plain": [
       "<tensorflow.python.keras.callbacks.History at 0x2de306644f0>"
      ]
     },
     "execution_count": 51,
     "metadata": {},
     "output_type": "execute_result"
    }
   ],
   "source": [
    "# Train the model *** This is only one ticker; remember!\n",
    "# Experiement with the batch size, but a smaller batch size is recommended\n",
    "\n",
    "model.fit(X_train,\n",
    "    y_train,\n",
    "    epochs=20,\n",
    "    shuffle=False,\n",
    "    batch_size=5,\n",
    "    verbose=1\n",
    ")"
   ]
  },
  {
   "cell_type": "markdown",
   "metadata": {},
   "source": [
    "---"
   ]
  },
  {
   "cell_type": "markdown",
   "metadata": {},
   "source": [
    "## Model Performance\n",
    "\n",
    "In this section, we will evaluate the model using the test data. \n",
    "\n",
    "You will:\n",
    "1. Evaluate the model using the `X_test` and `y_test` data.\n",
    "2. Use the X_test data to make predictions\n",
    "3. Create a DataFrame of Real (y_test) vs predicted values. \n",
    "4. Plot the Real vs predicted values as a line chart\n",
    "\n",
    "*** Remember to apply the `inverse_transform` function to the predicted and y_test values to recover the actual closing prices!"
   ]
  },
  {
   "cell_type": "code",
   "execution_count": 52,
   "metadata": {},
   "outputs": [
    {
     "name": "stdout",
     "output_type": "stream",
     "text": [
      "WARNING:tensorflow:Model was constructed with shape (None, 1, 1) for input KerasTensor(type_spec=TensorSpec(shape=(None, 1, 1), dtype=tf.float32, name='lstm_3_input'), name='lstm_3_input', description=\"created by layer 'lstm_3_input'\"), but it was called on an input with incompatible shape (None, 10, 1).\n",
      "10/10 [==============================] - 1s 2ms/step - loss: 0.0448\n"
     ]
    },
    {
     "data": {
      "text/plain": [
       "0.04475666210055351"
      ]
     },
     "execution_count": 52,
     "metadata": {},
     "output_type": "execute_result"
    }
   ],
   "source": [
    "# Evaluate the model\n",
    "## Again, not looking for an essay. model.evaluate()\n",
    "\n",
    "model.evaluate(X_test, y_test)"
   ]
  },
  {
   "cell_type": "code",
   "execution_count": 53,
   "metadata": {},
   "outputs": [
    {
     "name": "stdout",
     "output_type": "stream",
     "text": [
      "WARNING:tensorflow:Model was constructed with shape (None, 1, 1) for input KerasTensor(type_spec=TensorSpec(shape=(None, 1, 1), dtype=tf.float32, name='lstm_3_input'), name='lstm_3_input', description=\"created by layer 'lstm_3_input'\"), but it was called on an input with incompatible shape (None, 10, 1).\n"
     ]
    }
   ],
   "source": [
    "# Make some predictions\n",
    "\n",
    "predictions = model.predict(X_test)"
   ]
  },
  {
   "cell_type": "code",
   "execution_count": 54,
   "metadata": {},
   "outputs": [],
   "source": [
    "# Recover the original prices instead of the scaled version\n",
    "## From the starter code.\n",
    "## Copy/paste.\n",
    "\n",
    "predicted_prices = scaler.inverse_transform(predictions)\n",
    "real_prices = scaler.inverse_transform(y_test.reshape(-1, 1))"
   ]
  },
  {
   "cell_type": "code",
   "execution_count": 55,
   "metadata": {},
   "outputs": [
    {
     "data": {
      "text/plain": [
       "array([[7.23999977],\n",
       "       [6.80999994],\n",
       "       [6.13000011],\n",
       "       [6.46000004],\n",
       "       [6.5       ]])"
      ]
     },
     "execution_count": 55,
     "metadata": {},
     "output_type": "execute_result"
    }
   ],
   "source": [
    "## Seems happy.\n",
    "## Let's see what we've got.\n",
    "\n",
    "real_prices[:5]"
   ]
  },
  {
   "cell_type": "code",
   "execution_count": 56,
   "metadata": {},
   "outputs": [],
   "source": [
    "## Looks good-- moving on."
   ]
  },
  {
   "cell_type": "code",
   "execution_count": 57,
   "metadata": {},
   "outputs": [
    {
     "data": {
      "text/html": [
       "<div>\n",
       "<style scoped>\n",
       "    .dataframe tbody tr th:only-of-type {\n",
       "        vertical-align: middle;\n",
       "    }\n",
       "\n",
       "    .dataframe tbody tr th {\n",
       "        vertical-align: top;\n",
       "    }\n",
       "\n",
       "    .dataframe thead th {\n",
       "        text-align: right;\n",
       "    }\n",
       "</style>\n",
       "<table border=\"1\" class=\"dataframe\">\n",
       "  <thead>\n",
       "    <tr style=\"text-align: right;\">\n",
       "      <th></th>\n",
       "      <th>Real</th>\n",
       "      <th>Predicted</th>\n",
       "    </tr>\n",
       "    <tr>\n",
       "      <th>Date</th>\n",
       "      <th></th>\n",
       "      <th></th>\n",
       "    </tr>\n",
       "  </thead>\n",
       "  <tbody>\n",
       "    <tr>\n",
       "      <th>6/10/2020</th>\n",
       "      <td>7.24</td>\n",
       "      <td>5.972528</td>\n",
       "    </tr>\n",
       "    <tr>\n",
       "      <th>6/11/2020</th>\n",
       "      <td>6.81</td>\n",
       "      <td>6.155090</td>\n",
       "    </tr>\n",
       "    <tr>\n",
       "      <th>6/12/2020</th>\n",
       "      <td>6.13</td>\n",
       "      <td>6.304042</td>\n",
       "    </tr>\n",
       "    <tr>\n",
       "      <th>6/15/2020</th>\n",
       "      <td>6.46</td>\n",
       "      <td>6.392123</td>\n",
       "    </tr>\n",
       "    <tr>\n",
       "      <th>6/16/2020</th>\n",
       "      <td>6.50</td>\n",
       "      <td>6.432704</td>\n",
       "    </tr>\n",
       "  </tbody>\n",
       "</table>\n",
       "</div>"
      ],
      "text/plain": [
       "           Real  Predicted\n",
       "Date                      \n",
       "6/10/2020  7.24   5.972528\n",
       "6/11/2020  6.81   6.155090\n",
       "6/12/2020  6.13   6.304042\n",
       "6/15/2020  6.46   6.392123\n",
       "6/16/2020  6.50   6.432704"
      ]
     },
     "execution_count": 57,
     "metadata": {},
     "output_type": "execute_result"
    }
   ],
   "source": [
    "# Create a DataFrame of Real and Predicted values\n",
    "\n",
    "stocks = pd.DataFrame({\n",
    "    \"Real\": real_prices.ravel(),\n",
    "    \"Predicted\": predicted_prices.ravel()\n",
    "}, index = f_stock_data.index[-len(real_prices): ]) \n",
    "stocks.head()"
   ]
  },
  {
   "cell_type": "code",
   "execution_count": 58,
   "metadata": {},
   "outputs": [
    {
     "data": {
      "text/plain": [
       "<AxesSubplot:xlabel='Date', ylabel=\"'F' Price in USD\">"
      ]
     },
     "execution_count": 58,
     "metadata": {},
     "output_type": "execute_result"
    },
    {
     "data": {
      "image/png": "[encoded data removed]",
      "text/plain": [
       "<Figure size 1440x720 with 1 Axes>"
      ]
     },
     "metadata": {
      "needs_background": "light"
     },
     "output_type": "display_data"
    }
   ],
   "source": [
    "# Plot the real vs predicted values as a line chart\n",
    "## I still had to look up the rot=45 (https://hvplot.holoviz.org/user_guide/Customization.html)\n",
    "\n",
    "stocks.plot.line(xlabel=\"Date\", ylabel=\"'F' Price in USD\", rot=45, figsize=(20,10))"
   ]
  },
  {
   "cell_type": "code",
   "execution_count": 59,
   "metadata": {},
   "outputs": [],
   "source": [
    "## That's real nice."
   ]
  },
  {
   "cell_type": "code",
   "execution_count": 60,
   "metadata": {},
   "outputs": [],
   "source": [
    "## Last edit by Jo 12AUG2021."
   ]
  }
 ],
 "metadata": {
  "file_extension": ".py",
  "kernelspec": {
   "display_name": "Python 3",
   "language": "python",
   "name": "python3"
  },
  "language_info": {
   "codemirror_mode": {
    "name": "ipython",
    "version": 3
   },
   "file_extension": ".py",
   "mimetype": "text/x-python",
   "name": "python",
   "nbconvert_exporter": "python",
   "pygments_lexer": "ipython3",
   "version": "3.8.5"
  },
  "mimetype": "text/x-python",
  "name": "python",
  "npconvert_exporter": "python",
  "pygments_lexer": "ipython3",
  "version": 3
 },
 "nbformat": 4,
 "nbformat_minor": 4
}
