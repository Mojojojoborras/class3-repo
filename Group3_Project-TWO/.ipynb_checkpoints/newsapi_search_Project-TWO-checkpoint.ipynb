{
 "cells": [
  {
   "cell_type": "markdown",
   "id": "5e98bbce-4af1-424e-a046-9d7376f1b270",
   "metadata": {},
   "source": [
    "### Group3_Project-TWO | News API\n",
    "<hr />\n",
    "Looking for signal in the noise using News APIsl; limited to 100 days.<br>\n",
    "\n",
    "&nbsp;\n",
    "<ul>\n",
    "<font size=\"1\" color=\"silver\">10AUG2021</font><br>\n",
    "<p>Working on some of the logic here in case we want to go down the path of displaying a recent sentiment summary for a given ticker.\n",
    "</ul>\n",
    "&nbsp;\n",
    "<ul>\n",
    "<font size=\"1\" color=\"silver\">14AUG2021</font><br>\n",
    "<p>Made changes to the logic so that a simple \"find and replace\" could deliver today's sentiment on any given ticker in our S&amp;P data frame.\n",
    "</ul>"
   ]
  },
  {
   "cell_type": "code",
   "execution_count": 1,
   "id": "9487ece0-6c3c-4bf9-b380-04b8ba15acc7",
   "metadata": {},
   "outputs": [],
   "source": [
    "## I just put this into everything now so I don't wast time reading the warnings.\n",
    "\n",
    "import warnings\n",
    "warnings.filterwarnings('ignore')"
   ]
  },
  {
   "cell_type": "code",
   "execution_count": 2,
   "id": "784c777d-4ab3-40b5-a82d-2e94d29a6f76",
   "metadata": {},
   "outputs": [],
   "source": [
    "## --- Most of this is from the crypto sentiment HW."
   ]
  },
  {
   "cell_type": "code",
   "execution_count": 3,
   "id": "7f219d9c-58d9-432c-8170-81d17460e594",
   "metadata": {},
   "outputs": [],
   "source": [
    "## Doing some initial imports from the crypto_sentiment HW.\n",
    "\n",
    "import os\n",
    "import pandas as pd\n",
    "from dotenv import load_dotenv"
   ]
  },
  {
   "cell_type": "code",
   "execution_count": 4,
   "id": "0253d4b3-79fd-47db-a795-1df12327b8a5",
   "metadata": {},
   "outputs": [
    {
     "name": "stdout",
     "output_type": "stream",
     "text": [
      "Requirement already satisfied: nltk in c:\\users\\rotar\\anaconda3\\lib\\site-packages (3.6.2)\n",
      "Requirement already satisfied: joblib in c:\\users\\rotar\\anaconda3\\lib\\site-packages (from nltk) (1.0.1)\n",
      "Requirement already satisfied: click in c:\\users\\rotar\\anaconda3\\lib\\site-packages (from nltk) (7.1.2)\n",
      "Requirement already satisfied: regex in c:\\users\\rotar\\anaconda3\\lib\\site-packages (from nltk) (2021.4.4)\n",
      "Requirement already satisfied: tqdm in c:\\users\\rotar\\anaconda3\\lib\\site-packages (from nltk) (4.61.1)\n"
     ]
    }
   ],
   "source": [
    "!pip install nltk"
   ]
  },
  {
   "cell_type": "code",
   "execution_count": 5,
   "id": "de62fb04-ef4b-4112-a31b-b99f41d7803f",
   "metadata": {},
   "outputs": [],
   "source": [
    "import nltk as nltk\n",
    "\n",
    "## nltk.download('vader_lexicon')\n",
    "from nltk.sentiment.vader import SentimentIntensityAnalyzer\n",
    "analyzer = SentimentIntensityAnalyzer()\n",
    "\n",
    "%matplotlib inline"
   ]
  },
  {
   "cell_type": "code",
   "execution_count": 6,
   "id": "73d12512-9b18-4780-a369-6297a41bdb65",
   "metadata": {},
   "outputs": [
    {
     "name": "stdout",
     "output_type": "stream",
     "text": [
      "Requirement already satisfied: python-dotenv in c:\\users\\rotar\\anaconda3\\lib\\site-packages (0.17.1)\n"
     ]
    }
   ],
   "source": [
    "## I had trouble getting my base environment to read my API keys.\n",
    "## Trying pip install python-dotenv to make sure it can see the .env file.\n",
    "\n",
    "!pip install python-dotenv"
   ]
  },
  {
   "cell_type": "code",
   "execution_count": 7,
   "id": "2e2a2814-a30f-4d38-aaaa-0f238e5e37fb",
   "metadata": {},
   "outputs": [],
   "source": [
    "## So far, so good.\n",
    "\n",
    "from newsapi import NewsApiClient"
   ]
  },
  {
   "cell_type": "code",
   "execution_count": 8,
   "id": "5e805046-4a5b-4942-823e-9dbf6620a9df",
   "metadata": {},
   "outputs": [],
   "source": [
    "%load_ext dotenv\n",
    "%dotenv"
   ]
  },
  {
   "cell_type": "code",
   "execution_count": 9,
   "id": "997caee6-8716-4af0-b8bd-d232b27b2658",
   "metadata": {},
   "outputs": [],
   "source": [
    "# Read your api key environment variable\n",
    "\n",
    "newsapi_key = os.getenv(\"NEWSAPI_ORG_KEY\")"
   ]
  },
  {
   "cell_type": "code",
   "execution_count": 10,
   "id": "bf82a5ed-0c70-4338-9f50-653048361643",
   "metadata": {},
   "outputs": [
    {
     "data": {
      "text/plain": [
       "<newsapi.newsapi_client.NewsApiClient at 0x23efa66f7f0>"
      ]
     },
     "execution_count": 10,
     "metadata": {},
     "output_type": "execute_result"
    }
   ],
   "source": [
    "newsapi = NewsApiClient(api_key=newsapi_key)\n",
    "newsapi"
   ]
  },
  {
   "cell_type": "code",
   "execution_count": 11,
   "id": "95d0ac64-24e2-4c6a-af8a-fb66a538dff7",
   "metadata": {},
   "outputs": [],
   "source": [
    "# Fetch the relevant news articles\n",
    "## Study group says we're sorting by \"relevancy\"; sounds right.\n",
    "## Naming this one tezos_articles, because I'm using for articles about Tezos.\n",
    "\n",
    "tsla_articles = newsapi.get_everything(\n",
    "    q=\"tsla\", language=\"en\", sort_by=\"relevancy\"\n",
    "    )"
   ]
  },
  {
   "cell_type": "code",
   "execution_count": 12,
   "id": "99430ca1-595c-47c3-8cd6-cb0abd583c62",
   "metadata": {},
   "outputs": [
    {
     "data": {
      "text/plain": [
       "[{'source': {'id': None, 'name': 'MarketBeat'},\n",
       "  'author': 'Sam Quirke',\n",
       "  'title': 'Where Does Tesla (NASDAQ: TSLA) Go From Here?',\n",
       "  'description': 'Tesla’s (NASDAQ: TSLA) Q2 earnings were released after the bell rang to end yesterday’s session, and gave Main Street and Wall Street alike a much awa...',\n",
       "  'url': 'https://www.marketbeat.com/originals/where-does-tesla-nasdaq-tsla-go-from-here/?utm_source=entrepreneurcom&amp;amp;utm_medium=entrepreneurcom',\n",
       "  'urlToImage': 'https://assets.entrepreneur.com/providers/marketbeat/hero-image-marketbeat-378510.jpeg',\n",
       "  'publishedAt': '2021-07-27T11:00:00Z',\n",
       "  'content': 'This story originally appeared on MarketBeatTesla’s (NASDAQ: TSLA) Q2 earnings were released after the bell rang to end yesterday’s session, and gave Main Street and Wall Street alike a much-awaited … [+4129 chars]'}]"
      ]
     },
     "execution_count": 12,
     "metadata": {},
     "output_type": "execute_result"
    }
   ],
   "source": [
    "## Let's see if that worked.\n",
    "## Show some sample articles.\n",
    "\n",
    "tsla_articles[\"articles\"][:1]"
   ]
  },
  {
   "cell_type": "code",
   "execution_count": 13,
   "id": "90a3a964-f173-494c-b667-c4183dec51f1",
   "metadata": {},
   "outputs": [
    {
     "name": "stdout",
     "output_type": "stream",
     "text": [
      "746\n"
     ]
    }
   ],
   "source": [
    "## Let's make a variable to count the results.\n",
    "\n",
    "tsla_total = tsla_articles[\"totalResults\"]\n",
    "print(tsla_total)"
   ]
  },
  {
   "cell_type": "code",
   "execution_count": 28,
   "id": "8ea1b637-841d-46d9-8dee-ad307f6155e3",
   "metadata": {},
   "outputs": [
    {
     "name": "stdout",
     "output_type": "stream",
     "text": [
      "There were 746 articles written about tsla in our News API range.\n"
     ]
    }
   ],
   "source": [
    "## Now I'll print an f-string (for later).\n",
    "print(f\"There were {tsla_total} articles written about tsla in our News API range.\")"
   ]
  },
  {
   "cell_type": "code",
   "execution_count": 15,
   "id": "bc4f35d9-20ae-41d1-bd51-007a8f249f38",
   "metadata": {},
   "outputs": [],
   "source": [
    "## So far, so good!"
   ]
  },
  {
   "cell_type": "code",
   "execution_count": 16,
   "id": "9826805d-98e0-4ae4-984a-977849805c7f",
   "metadata": {},
   "outputs": [],
   "source": [
    "# Creating the ticker sentiment scores DataFrame\n",
    "## This came with a *TON* of help from the study group and copy/pasting from class work.\n",
    "\n",
    "tsla_sentiment = []\n",
    "\n",
    "for article in tsla_articles[\"articles\"]:\n",
    "    try:\n",
    "        text = article[\"content\"]\n",
    "        sentiment = analyzer.polarity_scores(text)\n",
    "        pos = sentiment[\"pos\"]\n",
    "        neu = sentiment[\"neu\"]\n",
    "        neg = sentiment[\"neg\"]\n",
    "        \n",
    "        tsla_sentiment.append({\n",
    "            \"positive\": pos,\n",
    "            \"negative\": neg,\n",
    "            \"neutral\": neu,\n",
    "            \"text\": text\n",
    "        })\n",
    "        \n",
    "    except AttributeError:\n",
    "        pass"
   ]
  },
  {
   "cell_type": "code",
   "execution_count": 17,
   "id": "3ca9c97b-509f-47fa-b5fc-cf6cdd7b23d4",
   "metadata": {},
   "outputs": [
    {
     "data": {
      "text/html": [
       "<div>\n",
       "<style scoped>\n",
       "    .dataframe tbody tr th:only-of-type {\n",
       "        vertical-align: middle;\n",
       "    }\n",
       "\n",
       "    .dataframe tbody tr th {\n",
       "        vertical-align: top;\n",
       "    }\n",
       "\n",
       "    .dataframe thead th {\n",
       "        text-align: right;\n",
       "    }\n",
       "</style>\n",
       "<table border=\"1\" class=\"dataframe\">\n",
       "  <thead>\n",
       "    <tr style=\"text-align: right;\">\n",
       "      <th></th>\n",
       "      <th>positive</th>\n",
       "      <th>negative</th>\n",
       "      <th>neutral</th>\n",
       "      <th>text</th>\n",
       "    </tr>\n",
       "  </thead>\n",
       "  <tbody>\n",
       "    <tr>\n",
       "      <th>0</th>\n",
       "      <td>0.000</td>\n",
       "      <td>0.0</td>\n",
       "      <td>1.000</td>\n",
       "      <td>This story originally appeared on MarketBeatTe...</td>\n",
       "    </tr>\n",
       "    <tr>\n",
       "      <th>1</th>\n",
       "      <td>0.000</td>\n",
       "      <td>0.0</td>\n",
       "      <td>1.000</td>\n",
       "      <td>A version of this story first appeared in CNN ...</td>\n",
       "    </tr>\n",
       "    <tr>\n",
       "      <th>2</th>\n",
       "      <td>0.000</td>\n",
       "      <td>0.0</td>\n",
       "      <td>1.000</td>\n",
       "      <td>Tesla’s second quarter earnings revealed a rec...</td>\n",
       "    </tr>\n",
       "    <tr>\n",
       "      <th>3</th>\n",
       "      <td>0.164</td>\n",
       "      <td>0.0</td>\n",
       "      <td>0.836</td>\n",
       "      <td>August\\r\\n10, 2021\\r\\n6 min read\\r\\nThis story...</td>\n",
       "    </tr>\n",
       "    <tr>\n",
       "      <th>4</th>\n",
       "      <td>0.182</td>\n",
       "      <td>0.0</td>\n",
       "      <td>0.818</td>\n",
       "      <td>This story originally appeared on MarketBeat\\r...</td>\n",
       "    </tr>\n",
       "  </tbody>\n",
       "</table>\n",
       "</div>"
      ],
      "text/plain": [
       "   positive  negative  neutral  \\\n",
       "0     0.000       0.0    1.000   \n",
       "1     0.000       0.0    1.000   \n",
       "2     0.000       0.0    1.000   \n",
       "3     0.164       0.0    0.836   \n",
       "4     0.182       0.0    0.818   \n",
       "\n",
       "                                                text  \n",
       "0  This story originally appeared on MarketBeatTe...  \n",
       "1  A version of this story first appeared in CNN ...  \n",
       "2  Tesla’s second quarter earnings revealed a rec...  \n",
       "3  August\\r\\n10, 2021\\r\\n6 min read\\r\\nThis story...  \n",
       "4  This story originally appeared on MarketBeat\\r...  "
      ]
     },
     "execution_count": 17,
     "metadata": {},
     "output_type": "execute_result"
    }
   ],
   "source": [
    "tsla_sentiment_df = pd.DataFrame(tsla_sentiment)\n",
    "tsla_sentiment_df.head()"
   ]
  },
  {
   "cell_type": "code",
   "execution_count": 18,
   "id": "be20423e-8f8a-4598-9e40-8a7ebf925ac7",
   "metadata": {},
   "outputs": [
    {
     "data": {
      "text/html": [
       "<div>\n",
       "<style scoped>\n",
       "    .dataframe tbody tr th:only-of-type {\n",
       "        vertical-align: middle;\n",
       "    }\n",
       "\n",
       "    .dataframe tbody tr th {\n",
       "        vertical-align: top;\n",
       "    }\n",
       "\n",
       "    .dataframe thead th {\n",
       "        text-align: right;\n",
       "    }\n",
       "</style>\n",
       "<table border=\"1\" class=\"dataframe\">\n",
       "  <thead>\n",
       "    <tr style=\"text-align: right;\">\n",
       "      <th></th>\n",
       "      <th>positive</th>\n",
       "      <th>negative</th>\n",
       "      <th>neutral</th>\n",
       "    </tr>\n",
       "  </thead>\n",
       "  <tbody>\n",
       "    <tr>\n",
       "      <th>count</th>\n",
       "      <td>20.000000</td>\n",
       "      <td>20.000000</td>\n",
       "      <td>20.000000</td>\n",
       "    </tr>\n",
       "    <tr>\n",
       "      <th>mean</th>\n",
       "      <td>0.062500</td>\n",
       "      <td>0.020600</td>\n",
       "      <td>0.916900</td>\n",
       "    </tr>\n",
       "    <tr>\n",
       "      <th>std</th>\n",
       "      <td>0.068416</td>\n",
       "      <td>0.045981</td>\n",
       "      <td>0.072209</td>\n",
       "    </tr>\n",
       "    <tr>\n",
       "      <th>min</th>\n",
       "      <td>0.000000</td>\n",
       "      <td>0.000000</td>\n",
       "      <td>0.815000</td>\n",
       "    </tr>\n",
       "    <tr>\n",
       "      <th>25%</th>\n",
       "      <td>0.000000</td>\n",
       "      <td>0.000000</td>\n",
       "      <td>0.846500</td>\n",
       "    </tr>\n",
       "    <tr>\n",
       "      <th>50%</th>\n",
       "      <td>0.057000</td>\n",
       "      <td>0.000000</td>\n",
       "      <td>0.917500</td>\n",
       "    </tr>\n",
       "    <tr>\n",
       "      <th>75%</th>\n",
       "      <td>0.097750</td>\n",
       "      <td>0.000000</td>\n",
       "      <td>1.000000</td>\n",
       "    </tr>\n",
       "    <tr>\n",
       "      <th>max</th>\n",
       "      <td>0.185000</td>\n",
       "      <td>0.158000</td>\n",
       "      <td>1.000000</td>\n",
       "    </tr>\n",
       "  </tbody>\n",
       "</table>\n",
       "</div>"
      ],
      "text/plain": [
       "        positive   negative    neutral\n",
       "count  20.000000  20.000000  20.000000\n",
       "mean    0.062500   0.020600   0.916900\n",
       "std     0.068416   0.045981   0.072209\n",
       "min     0.000000   0.000000   0.815000\n",
       "25%     0.000000   0.000000   0.846500\n",
       "50%     0.057000   0.000000   0.917500\n",
       "75%     0.097750   0.000000   1.000000\n",
       "max     0.185000   0.158000   1.000000"
      ]
     },
     "execution_count": 18,
     "metadata": {},
     "output_type": "execute_result"
    }
   ],
   "source": [
    "## Describe the ticker Sentiment\n",
    "\n",
    "tsla_sentiment_df.describe()"
   ]
  },
  {
   "cell_type": "code",
   "execution_count": 19,
   "id": "697a0e7c-26fc-44ab-822f-c31e5f1069cf",
   "metadata": {},
   "outputs": [
    {
     "data": {
      "text/html": [
       "<div>\n",
       "<style scoped>\n",
       "    .dataframe tbody tr th:only-of-type {\n",
       "        vertical-align: middle;\n",
       "    }\n",
       "\n",
       "    .dataframe tbody tr th {\n",
       "        vertical-align: top;\n",
       "    }\n",
       "\n",
       "    .dataframe thead th {\n",
       "        text-align: right;\n",
       "    }\n",
       "</style>\n",
       "<table border=\"1\" class=\"dataframe\">\n",
       "  <thead>\n",
       "    <tr style=\"text-align: right;\">\n",
       "      <th></th>\n",
       "      <th>positive</th>\n",
       "      <th>negative</th>\n",
       "      <th>neutral</th>\n",
       "    </tr>\n",
       "  </thead>\n",
       "  <tbody>\n",
       "    <tr>\n",
       "      <th>count</th>\n",
       "      <td>20.000000</td>\n",
       "      <td>20.000000</td>\n",
       "      <td>20.000000</td>\n",
       "    </tr>\n",
       "    <tr>\n",
       "      <th>mean</th>\n",
       "      <td>0.062500</td>\n",
       "      <td>0.020600</td>\n",
       "      <td>0.916900</td>\n",
       "    </tr>\n",
       "    <tr>\n",
       "      <th>std</th>\n",
       "      <td>0.068416</td>\n",
       "      <td>0.045981</td>\n",
       "      <td>0.072209</td>\n",
       "    </tr>\n",
       "    <tr>\n",
       "      <th>min</th>\n",
       "      <td>0.000000</td>\n",
       "      <td>0.000000</td>\n",
       "      <td>0.815000</td>\n",
       "    </tr>\n",
       "    <tr>\n",
       "      <th>25%</th>\n",
       "      <td>0.000000</td>\n",
       "      <td>0.000000</td>\n",
       "      <td>0.846500</td>\n",
       "    </tr>\n",
       "    <tr>\n",
       "      <th>50%</th>\n",
       "      <td>0.057000</td>\n",
       "      <td>0.000000</td>\n",
       "      <td>0.917500</td>\n",
       "    </tr>\n",
       "    <tr>\n",
       "      <th>75%</th>\n",
       "      <td>0.097750</td>\n",
       "      <td>0.000000</td>\n",
       "      <td>1.000000</td>\n",
       "    </tr>\n",
       "    <tr>\n",
       "      <th>max</th>\n",
       "      <td>0.185000</td>\n",
       "      <td>0.158000</td>\n",
       "      <td>1.000000</td>\n",
       "    </tr>\n",
       "  </tbody>\n",
       "</table>\n",
       "</div>"
      ],
      "text/plain": [
       "        positive   negative    neutral\n",
       "count  20.000000  20.000000  20.000000\n",
       "mean    0.062500   0.020600   0.916900\n",
       "std     0.068416   0.045981   0.072209\n",
       "min     0.000000   0.000000   0.815000\n",
       "25%     0.000000   0.000000   0.846500\n",
       "50%     0.057000   0.000000   0.917500\n",
       "75%     0.097750   0.000000   1.000000\n",
       "max     0.185000   0.158000   1.000000"
      ]
     },
     "execution_count": 19,
     "metadata": {},
     "output_type": "execute_result"
    }
   ],
   "source": [
    "## Converting the description to a df.\n",
    "\n",
    "tsla_described_df = tsla_sentiment_df.describe()\n",
    "tsla_described_df"
   ]
  },
  {
   "cell_type": "code",
   "execution_count": 20,
   "id": "6d91b224-2ec9-4529-a384-d82f4bd55521",
   "metadata": {},
   "outputs": [
    {
     "data": {
      "text/plain": [
       "0.0625"
      ]
     },
     "execution_count": 20,
     "metadata": {},
     "output_type": "execute_result"
    }
   ],
   "source": [
    "tsla_described_df['positive']['mean']"
   ]
  },
  {
   "cell_type": "code",
   "execution_count": 21,
   "id": "79accb17-bbe4-4652-a12c-a699e17ca368",
   "metadata": {},
   "outputs": [
    {
     "name": "stdout",
     "output_type": "stream",
     "text": [
      "There were 746 articles written about tsla in our range; of those, 6.0% of the articles were positive, 2.0% were negative, and 92.0% were neutral.\n"
     ]
    }
   ],
   "source": [
    "## This is the logic for generating the \"answers\" to some of the questions.\n",
    "\n",
    "tsla_pos = round(tsla_described_df['positive']['mean'],2)*100\n",
    "tsla_neg = round(tsla_described_df['negative']['mean'],2)*100\n",
    "tsla_neu = round(tsla_described_df['neutral']['mean'],2)*100\n",
    "print(f\"There were {tsla_total} articles written about tsla in our range; of those, {tsla_pos}% of the articles were positive, {tsla_neg}% were negative, and {tsla_neu}% were neutral.\")"
   ]
  },
  {
   "cell_type": "markdown",
   "id": "0bedce96-658d-46d2-94e0-7e39ac18fcb8",
   "metadata": {},
   "source": [
    "<br>\n",
    "<hr />"
   ]
  },
  {
   "cell_type": "code",
   "execution_count": 22,
   "id": "ef017e8c-32d3-46cf-a1b5-5601a715098f",
   "metadata": {},
   "outputs": [],
   "source": [
    "## Below this line is \"scratch paper\"."
   ]
  },
  {
   "cell_type": "code",
   "execution_count": 23,
   "id": "6739564f-7aa8-488d-8fc2-f58ba38dc642",
   "metadata": {},
   "outputs": [],
   "source": [
    "## --- ## --- ## --- ##"
   ]
  },
  {
   "cell_type": "code",
   "execution_count": 24,
   "id": "bb3b1afd-5ab4-4f94-9eb0-044ed0c0c607",
   "metadata": {},
   "outputs": [],
   "source": [
    "## This is work I was doing to isolate the volume of chatter as articles per day.\n",
    "\n",
    "## fomoco_articles = newsapi.get_everything(q='ford motor company',\n",
    "##    from_param='2021-07-10',\n",
    "##    to='2021-08-10',\n",
    "##    language='en',\n",
    "##  sort_by='relevancy',\n",
    "##  page=1\n",
    "##  )"
   ]
  },
  {
   "cell_type": "code",
   "execution_count": 25,
   "id": "48ac9900-553f-4975-8eef-df9011c1a66c",
   "metadata": {},
   "outputs": [],
   "source": [
    "## fomoco_articles['articles'][0]['publishedAt']"
   ]
  },
  {
   "cell_type": "code",
   "execution_count": 26,
   "id": "30208ec6-ac85-4a2d-8d13-0be2309bf11c",
   "metadata": {},
   "outputs": [],
   "source": [
    "## for i in range(0,len(fomoco_articles['articles'])):\n",
    "##"
   ]
  },
  {
   "cell_type": "code",
   "execution_count": 27,
   "id": "d380d771-dd8a-42d5-93f3-b614f6067235",
   "metadata": {},
   "outputs": [],
   "source": [
    "## print(fomoco_articles['articles'][i]['publishedAt'])"
   ]
  }
 ],
 "metadata": {
  "kernelspec": {
   "display_name": "Python 3",
   "language": "python",
   "name": "python3"
  },
  "language_info": {
   "codemirror_mode": {
    "name": "ipython",
    "version": 3
   },
   "file_extension": ".py",
   "mimetype": "text/x-python",
   "name": "python",
   "nbconvert_exporter": "python",
   "pygments_lexer": "ipython3",
   "version": "3.8.5"
  }
 },
 "nbformat": 4,
 "nbformat_minor": 5
}
