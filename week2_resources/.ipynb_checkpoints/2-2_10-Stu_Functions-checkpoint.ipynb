{
 "cells": [
  {
   "cell_type": "code",
   "execution_count": 1,
   "id": "beb9a5ed-385c-437c-aaf6-d84644e5bebd",
   "metadata": {},
   "outputs": [],
   "source": [
    "# Finally Functioning\n",
    "# In this activity, you will define a function to calculate compound annual growth rate (CAGR) for an investment portfolio.\n",
    "# You are encouraged to work with a partner on this activity."
   ]
  },
  {
   "cell_type": "code",
   "execution_count": 2,
   "id": "7719d90c-2943-46ae-acc9-0bb00d05dc7b",
   "metadata": {},
   "outputs": [],
   "source": [
    "## Background\n",
    "\n",
    "# You have been working with Harold and Sam after hours to further develop your FinTech skills and automate your day jobs.\n",
    "# While fine-tuning your algorithms, you realize that you've written the logic to calculate compound annual growth rate three times:\n",
    "# once for 2016, once for 2017, and once for 2018. You're annoyed that you've reinvented the wheel each time,\n",
    "# and you're growing concerned that if you make any changes to the algorithm, you'll have to make changes in three different places.\n",
    "\n",
    "# This cannot be maintained. You decide to refactor all of your code to make it as modular and reusable as possible.\n",
    "# In this activity, define a function named `calculate_compound_growth_rate` that will accept three arguments:\n",
    "\n",
    "# * `beginning_balance`\n",
    "# * `ending_balance`\n",
    "# * `years`\n",
    "\n",
    "# The function should output a float as `growth_rate`."
   ]
  },
  {
   "cell_type": "code",
   "execution_count": 3,
   "id": "a46862bd-02f0-4b3a-bb94-e4a189a7e345",
   "metadata": {},
   "outputs": [],
   "source": [
    "# Modularize this code so that you can dynamically calculate compound annual growth rate (CAGR) by simply calling a function with the required inputs.\\\n",
    "# The results will indicate how you've been functioning as a trader.\n",
    "\n",
    "# CAGR is valuable, as it calculates and predicts growth rate earnings and percent increase or decrease of a stock, portfolio, or bank account.\n",
    "# This will be useful when trying to evaluate portfolio/stock performance or when choosing which savings account might produce the most return.\n",
    "\n",
    "# Compound annual growth rate formula: growth_rate = (ending_balance / beginning_balance)**(1/years) - 1\n",
    "\n",
    "## Instructions: Use the [starter file](Unsolved/finally_functioning.py) to complete the following steps:\n",
    "\n",
    "# 1. Define a function `calculate_compound_growth_rate` that takes in `beginning_balance`, `ending_balance`, and `years` as input. Output `growth_rate`.\n",
    "\n",
    "def calculate_compound_growth_rate(beginning_balance, ending_balance, years):\n",
    "    growth_rate = (ending_balance / beginning_balance)**(1/years) - 1\n",
    "    \n",
    "    return growth_rate"
   ]
  },
  {
   "cell_type": "code",
   "execution_count": 4,
   "id": "de0abad0-2eb2-4c8e-8abe-c42f3b8b9503",
   "metadata": {},
   "outputs": [],
   "source": [
    "# 2. Initialize `beginning_balance` to 29000.00.\n",
    "beginning_balance = 29000.00"
   ]
  },
  {
   "cell_type": "code",
   "execution_count": 5,
   "id": "36bebda3-227d-4e6b-9124-ca62550fc910",
   "metadata": {},
   "outputs": [],
   "source": [
    "# 3. Initialize `ending_balance` to 45000.00.\n",
    "ending_balance = 45000.00"
   ]
  },
  {
   "cell_type": "code",
   "execution_count": 6,
   "id": "3ccf2b5d-7087-4f95-8bec-77e905e4eddb",
   "metadata": {},
   "outputs": [],
   "source": [
    "# 4. Initialize `years` to 1.0.\n",
    "years = 1.0"
   ]
  },
  {
   "cell_type": "code",
   "execution_count": 7,
   "id": "0beaac14-cb97-48f7-b46a-46677d09076d",
   "metadata": {},
   "outputs": [],
   "source": [
    "# 5. Call `calculate_compound_growth_rate()` and use the above values (found in Steps 3-5) to calculate and capture the result as `year_one_growth`.\n",
    "def calculate_compound_growth_rate(beginning_balance, ending_balance, years):\n",
    "    growth_rate = (ending_balance / beginning_balance)**(1/years) - 1\n",
    "    return growth_rate"
   ]
  },
  {
   "cell_type": "code",
   "execution_count": 9,
   "id": "60ba6d07-6f37-4b82-aae0-fd1ec45a2c57",
   "metadata": {},
   "outputs": [],
   "source": [
    "# 6. Update `beginning_balance` to 45000.00.\n",
    "beginning_balance = 45000.00\n",
    "# 7. Update `ending_balance` to 47000.00.\n",
    "ending_balance = 47000.00"
   ]
  },
  {
   "cell_type": "code",
   "execution_count": null,
   "id": "36fb1c91-47cf-4432-9171-4a5f3cddae32",
   "metadata": {},
   "outputs": [],
   "source": [
    "# 8. Call `calculate_compound_growth_rate()` and capture results as `year_two_growth`.\n",
    "# 9. Update `beginning_balance` to 47000.00.\n",
    "# 10. Update `ending_balance` to 48930.00.\n",
    "# 11. Call `calculate_compound_growth_rate()` and capture results as `year_three_growth`.\n",
    "# 12. Use the Python `round()` function to round `year_one_growth`, `year_two_growth`, and `year_three_growth`.\n",
    "#     Capture these new values as new variables.\n",
    "# 13. Use string formatting to print `year_one_growth`, `year_two_growth`, and `year_three_growth` as percents.\n",
    "# 14. Quickly review the values printed on the screen, and identify the year with the highest rate of return.\n",
    "\n",
    "## Challenge\n",
    "# Instead of saving the `year_one_growth`, `year_two_growth`, and `year_three_growth` values in variables, add `growth_rate` to a global list\n",
    "# named `growth_rates`.\n",
    "# Then, write this logic in a new function `calculate_compound_growth_rate_list`.\n",
    "\n",
    "## Hints\n",
    "# *** Instead of returning the local `growth_rate` variable, store it in the `growth_rates` global list object.\n",
    "# Refer to the [W3Schools documentation](https://www.w3schools.com/python/ref_func_round.asp) for the Python round function."
   ]
  }
 ],
 "metadata": {
  "kernelspec": {
   "display_name": "Python 3",
   "language": "python",
   "name": "python3"
  },
  "language_info": {
   "codemirror_mode": {
    "name": "ipython",
    "version": 3
   },
   "file_extension": ".py",
   "mimetype": "text/x-python",
   "name": "python",
   "nbconvert_exporter": "python",
   "pygments_lexer": "ipython3",
   "version": "3.8.5"
  }
 },
 "nbformat": 4,
 "nbformat_minor": 5
}
