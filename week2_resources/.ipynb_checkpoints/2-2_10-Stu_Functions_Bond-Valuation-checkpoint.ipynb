{
 "cells": [
  {
   "cell_type": "code",
   "execution_count": 1,
   "id": "bd5cffdc-eaf9-4a67-8b1d-e73130f616b9",
   "metadata": {},
   "outputs": [],
   "source": [
    "# -*- coding: utf-8 -*-\n",
    "# Zero-Coupon Bond Valuation.\n",
    "\n",
    "## This script will calculate the present value of zero-coupon bonds,\n",
    "# compare the present value to the price of the bond, and determine the corresponding action\n",
    "# (buy, not buy, neutral).\n",
    "\n",
    "# @TODO: Create a function to calculate present value\n",
    "# fv = (pv(1+i/n))**(nt)\n",
    "# pv = fv(1/((1+i)**n))\n",
    "# future_value = present_value * (1 + (interest_rate / compounding_periods))**(compounding_periods * years))\n",
    "# present_value = future_value * (1 / (1 + interest_rate)**(compounding_periods * years))\n",
    "\n",
    "def calc_present_value(future_value, interest_rate, compounding_periods, years):\n",
    "    present_value = future_value * (1 / (1 + interest_rate)**(compounding_periods * years))\n",
    "    return present_value"
   ]
  },
  {
   "cell_type": "code",
   "execution_count": 2,
   "id": "577360d4-9e76-4681-b7db-fea77650916b",
   "metadata": {},
   "outputs": [
    {
     "name": "stdout",
     "output_type": "stream",
     "text": [
      "The bond is selling at $700, and is valued at $620.92.\n",
      "A premium of $79.08 exists, so you should NOT buy the bond.\n"
     ]
    }
   ],
   "source": [
    "# Intialize the zero-coupon bond parameters, assume compounding period is equal to 1\n",
    "price = 700\n",
    "future_value = 1000\n",
    "interest_rate = .1\n",
    "compounding_periods = 1\n",
    "years = 5\n",
    "\n",
    "# Call the ca;culate_present_value() function.\n",
    "# @TODO: Determine if the bond is worth it (worth buying).\n",
    "# If present value of bond is higher than the price, then it is worth buying.\n",
    "\n",
    "\n",
    "def calc_present_value(future_value, interest_rate, compounding_periods, years):\n",
    "    present_value = future_value * (1 / (1 + interest_rate)**(compounding_periods * years))\n",
    "    return present_value\n",
    "\n",
    "bond_value = calc_present_value(future_value, interest_rate, compounding_periods, years)\n",
    "\n",
    "if bond_value > price:\n",
    "    discount = round((bond_value - price), 2)\n",
    "    print(f\"The bond is selling at ${price}, and is valued at ${round(bond_value, 2)}.\")\n",
    "    print(f\"A discount of {round(discount, 2)} exists, so you should buy the bond.\")\n",
    "elif bond_value < price:\n",
    "    premium = round((price - bond_value), 2)\n",
    "    print(f\"The bond is selling at ${price}, and is valued at ${round(bond_value, 2)}.\")\n",
    "    print(f\"A premium of ${round(premium, 2)} exists, so you should NOT buy the bond.\")\n",
    "else:\n",
    "    print(f\"The bond is selling at ${price}, and is valued at ${round(bond_value, 2)}.\")\n",
    "    print(f\"It bond is a net zero value.\")"
   ]
  }
 ],
 "metadata": {
  "kernelspec": {
   "display_name": "Python 3",
   "language": "python",
   "name": "python3"
  },
  "language_info": {
   "codemirror_mode": {
    "name": "ipython",
    "version": 3
   },
   "file_extension": ".py",
   "mimetype": "text/x-python",
   "name": "python",
   "nbconvert_exporter": "python",
   "pygments_lexer": "ipython3",
   "version": "3.8.5"
  }
 },
 "nbformat": 4,
 "nbformat_minor": 5
}
