{
 "cells": [
  {
   "cell_type": "code",
   "execution_count": 1,
   "id": "578713fb-63cd-4146-8ba8-fcc571e86789",
   "metadata": {},
   "outputs": [],
   "source": [
    "# Define the comontents of a function."
   ]
  },
  {
   "cell_type": "code",
   "execution_count": 2,
   "id": "0159f72f-08c0-4459-9366-b2cf9e4808e5",
   "metadata": {},
   "outputs": [],
   "source": [
    "def square(number):\n",
    "    squared_number = number * number\n",
    "    return squared_number"
   ]
  },
  {
   "cell_type": "code",
   "execution_count": 3,
   "id": "7ed0607c-3549-47fc-b822-38888466d5be",
   "metadata": {},
   "outputs": [
    {
     "name": "stdout",
     "output_type": "stream",
     "text": [
      "36\n"
     ]
    }
   ],
   "source": [
    "number6 = square(number = 6)\n",
    "print(number6)"
   ]
  },
  {
   "cell_type": "code",
   "execution_count": 4,
   "id": "4ccd1c2a-0a4b-4d16-9b5e-a71c89f12b0a",
   "metadata": {},
   "outputs": [],
   "source": [
    "# A little more refined-- with arguments!\n",
    "\n",
    "def square_this(numero):\n",
    "    squared_numero = numero **2\n",
    "    return(squared_numero)"
   ]
  },
  {
   "cell_type": "code",
   "execution_count": 5,
   "id": "3bb223d8-04a2-4995-944f-b7bf639e0573",
   "metadata": {},
   "outputs": [
    {
     "data": {
      "text/plain": [
       "16"
      ]
     },
     "execution_count": 5,
     "metadata": {},
     "output_type": "execute_result"
    }
   ],
   "source": [
    "square_this(4)"
   ]
  },
  {
   "cell_type": "code",
   "execution_count": 6,
   "id": "418bd5f9-7a52-43e4-8597-9148cade1777",
   "metadata": {},
   "outputs": [],
   "source": [
    "# Simplify the body and return statements (for very simple logic)."
   ]
  },
  {
   "cell_type": "code",
   "execution_count": 7,
   "id": "8e462f74-8517-4427-9131-7a76618e4e08",
   "metadata": {},
   "outputs": [],
   "source": [
    "def square_square(numero_uno):\n",
    "    return numero_uno **2"
   ]
  },
  {
   "cell_type": "code",
   "execution_count": 8,
   "id": "4b2a9d77-547e-4213-bb38-7a0d8de02e21",
   "metadata": {},
   "outputs": [
    {
     "data": {
      "text/plain": [
       "9"
      ]
     },
     "execution_count": 8,
     "metadata": {},
     "output_type": "execute_result"
    }
   ],
   "source": [
    "square_square(3)"
   ]
  },
  {
   "cell_type": "code",
   "execution_count": 9,
   "id": "5d3e3241-ca5e-4f91-92e3-79c825f13d77",
   "metadata": {},
   "outputs": [],
   "source": [
    "def function_name(value):\n",
    "    local_variable = some_logic\n",
    "    return local_variable"
   ]
  },
  {
   "cell_type": "code",
   "execution_count": 12,
   "id": "66c2a660-9abc-41e5-a795-25af045fb999",
   "metadata": {},
   "outputs": [],
   "source": [
    "# If we have a simple function, we can simply return a function's logic. \n",
    "# In this case, square the local variable.\n",
    "\n",
    "def function_name2(local_variable2):\n",
    "    return local_variable2 **2"
   ]
  },
  {
   "cell_type": "code",
   "execution_count": 13,
   "id": "6ad4c4bc-25e9-4262-9a13-2a6cf101a168",
   "metadata": {},
   "outputs": [],
   "source": [
    "# Simple function for message."
   ]
  },
  {
   "cell_type": "code",
   "execution_count": 14,
   "id": "d34fee18-a021-4b65-ad68-54770e9d882d",
   "metadata": {},
   "outputs": [],
   "source": [
    "def main():\n",
    "    print(\"Greetings\")"
   ]
  },
  {
   "cell_type": "code",
   "execution_count": 18,
   "id": "d4aa25e4-bb9b-443f-a9fe-2a0b87919bcc",
   "metadata": {},
   "outputs": [],
   "source": [
    "def main(stock_ticker):\n",
    "    print(stock_ticker + \" is booming right now!\")"
   ]
  },
  {
   "cell_type": "code",
   "execution_count": 19,
   "id": "c15437a7-fdb8-40dd-8aba-8d75d4e20e8a",
   "metadata": {},
   "outputs": [
    {
     "name": "stdout",
     "output_type": "stream",
     "text": [
      "SBUX is booming right now!\n"
     ]
    }
   ],
   "source": [
    "main(\"SBUX\")"
   ]
  },
  {
   "cell_type": "code",
   "execution_count": 20,
   "id": "de424452-49fa-4ed0-9054-2da7c064e9d7",
   "metadata": {},
   "outputs": [],
   "source": [
    "# Define a calculate_market_cap finction that returns an integer\n",
    "\n",
    "def calculate_market_cap(market_price, number_of_shares):\n",
    "    cap = market_price * number_of_shares\n",
    "    \n",
    "    return cap"
   ]
  },
  {
   "cell_type": "code",
   "execution_count": 21,
   "id": "d76858c9-2d03-4e45-96e1-036d268a43e2",
   "metadata": {},
   "outputs": [
    {
     "data": {
      "text/plain": [
       "990"
      ]
     },
     "execution_count": 21,
     "metadata": {},
     "output_type": "execute_result"
    }
   ],
   "source": [
    "calculate_market_cap(22,45)"
   ]
  },
  {
   "cell_type": "code",
   "execution_count": 22,
   "id": "503ffd2a-a778-4aeb-bf06-f7d5bfdf1064",
   "metadata": {},
   "outputs": [],
   "source": [
    "stock_ticker = \"SBUX\"\n",
    "market_price = 76.06\n",
    "number_of_shares = 1243600000"
   ]
  },
  {
   "cell_type": "code",
   "execution_count": 25,
   "id": "90d0caf1-ac2d-44fa-9ef0-2dc0f2266391",
   "metadata": {},
   "outputs": [
    {
     "name": "stdout",
     "output_type": "stream",
     "text": [
      "SBUX Market cap: 94588216000.0\n",
      "Data type of market cap is: <class 'float'>\n",
      "SBUX Market cap: 94588216000.0\n",
      "Data type of market cap is: <class 'float'>\n"
     ]
    }
   ],
   "source": [
    "# Define a calculate_market_cap finction that returns an integer\n",
    "\n",
    "def calculate_market_cap(market_price, number_of_shares):\n",
    "    cap = market_price * number_of_shares\n",
    "    \n",
    "    return cap\n",
    "\n",
    "# Define a calculate_market_cap finction, then call it\n",
    "\n",
    "def calculate_market_cap(market_price, number_of_shares):\n",
    "    cap = market_price * number_of_shares\n",
    "    \n",
    "    return cap\n",
    "\n",
    "stock_ticker = \"SBUX\"\n",
    "market_price = 76.06\n",
    "number_of_shares = 1243600000\n",
    "\n",
    "market_cap = calculate_market_cap(market_price, number_of_shares)\n",
    "print(f\"{stock_ticker} Market cap: {market_cap}\")\n",
    "print(f\"Data type of market cap is: {type(market_cap)}\")\n",
    "\n",
    "# Define a calculate_market_cap finction\n",
    "# Capture function outpu and print output value and data type\n",
    "\n",
    "def calculate_market_cap(market_price, number_of_shares):\n",
    "    cap = market_price * number_of_shares\n",
    "    \n",
    "    return cap\n",
    "\n",
    "stock_ticker = \"SBUX\"\n",
    "market_price = 76.06\n",
    "number_of_shares = 1243600000\n",
    "\n",
    "market_cap = calculate_market_cap(market_price, number_of_shares)\n",
    "print(f\"{stock_ticker} Market cap: {market_cap}\")\n",
    "print(f\"Data type of market cap is: {type(market_cap)}\")"
   ]
  },
  {
   "cell_type": "code",
   "execution_count": null,
   "id": "3a008230-d1cb-4dd8-a7fa-d678ffe7f88f",
   "metadata": {},
   "outputs": [],
   "source": []
  }
 ],
 "metadata": {
  "kernelspec": {
   "display_name": "Python 3",
   "language": "python",
   "name": "python3"
  },
  "language_info": {
   "codemirror_mode": {
    "name": "ipython",
    "version": 3
   },
   "file_extension": ".py",
   "mimetype": "text/x-python",
   "name": "python",
   "nbconvert_exporter": "python",
   "pygments_lexer": "ipython3",
   "version": "3.8.5"
  }
 },
 "nbformat": 4,
 "nbformat_minor": 5
}
