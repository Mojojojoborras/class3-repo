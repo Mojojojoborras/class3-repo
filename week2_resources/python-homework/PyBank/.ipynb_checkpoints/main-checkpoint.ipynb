{
 "cells": [
  {
   "cell_type": "code",
   "execution_count": 1,
   "id": "4bf7b970-fc92-4fb8-9cd6-45a39de74bc5",
   "metadata": {},
   "outputs": [],
   "source": [
    "# In this activity, you are tasked with creating a Python script for analyzing the financial records of your company.\n",
    "# You will be provided with a financial dataset in this file: budget_data.csv. This dataset is composed of two columns, Date and Profit/Losses.\n",
    "# (Thankfully, your company has rather lax standards for accounting, so the records are simple.)"
   ]
  },
  {
   "cell_type": "code",
   "execution_count": 2,
   "id": "a2b7209b-449f-4067-bada-4f1447673dbc",
   "metadata": {},
   "outputs": [],
   "source": [
    "# Your task is to create a Python script that analyzes the records to calculate each of the following:"
   ]
  },
  {
   "cell_type": "code",
   "execution_count": 3,
   "id": "d1142b67-cc74-473f-ba9d-cc5616ac7b22",
   "metadata": {},
   "outputs": [
    {
     "name": "stdout",
     "output_type": "stream",
     "text": [
      "      Date  Profit/Losses\n",
      "0   Jan-10         867884\n",
      "1   Feb-10         984655\n",
      "2   Mar-10         322013\n",
      "3   Apr-10         -69417\n",
      "4   May-10         310503\n",
      "..     ...            ...\n",
      "81  Oct-16         102685\n",
      "82  Nov-16         795914\n",
      "83  Dec-16          60988\n",
      "84  Jan-17         138230\n",
      "85  Feb-17         671099\n",
      "\n",
      "[86 rows x 2 columns]\n",
      "<class 'pandas.core.frame.DataFrame'>\n"
     ]
    }
   ],
   "source": [
    "# Import provided pnl data set from budget_data.csv file (provided).  Let's see what's in there, and what kind of data it is.\n",
    "\n",
    "import pandas as pd\n",
    "from pathlib import Path\n",
    "\n",
    "data = pd.read_csv('budget_data.csv')\n",
    "\n",
    "print(data)\n",
    "print(type(data))"
   ]
  },
  {
   "cell_type": "code",
   "execution_count": 4,
   "id": "31837bb1-baa2-47fe-a48d-50670131c8aa",
   "metadata": {},
   "outputs": [
    {
     "name": "stdout",
     "output_type": "stream",
     "text": [
      "Total months in data set: 86.\n"
     ]
    }
   ],
   "source": [
    "# The total number of months included in the dataset.\n",
    "print(f\"Total months in data set: {(len(data))}.\")"
   ]
  },
  {
   "cell_type": "code",
   "execution_count": 5,
   "id": "5556653b-733a-4626-b681-7617e5ae6dde",
   "metadata": {},
   "outputs": [
    {
     "name": "stdout",
     "output_type": "stream",
     "text": [
      "The total profits for all months is: $ 38382578.\n"
     ]
    }
   ],
   "source": [
    "# The net total amount of Profit/Losses over the entire period.\n",
    "\n",
    "total = data['Profit/Losses'].sum()\n",
    "print(f\"The total profits for all months is: $ {(total)}.\")"
   ]
  },
  {
   "cell_type": "code",
   "execution_count": 6,
   "id": "c421775a-8ff0-46e1-a35c-a949bacebfa9",
   "metadata": {},
   "outputs": [
    {
     "name": "stdout",
     "output_type": "stream",
     "text": [
      "\n",
      "The monthly average profit was: $ 446309.05.\n",
      "The average monthly change in Profits/Losses was: $ -2315.12.\n"
     ]
    }
   ],
   "source": [
    "# The average of the changes in Profit/Losses over the entire period.\n",
    "average = total / (len(data))\n",
    "print()\n",
    "print(f\"The monthly average profit was: $ {(round(average, 2))}.\")\n",
    "\n",
    "data['prev_month'] = data['Profit/Losses'].shift(1)\n",
    "data['difference'] = data['Profit/Losses'] - data['prev_month']\n",
    "data.head()\n",
    "\n",
    "average = data['difference'].mean()\n",
    "\n",
    "print(f\"The average monthly change in Profits/Losses was: $ {(round(average,2))}.\")"
   ]
  },
  {
   "cell_type": "code",
   "execution_count": 7,
   "id": "d2ccd849-8857-4e5b-aa1f-90931dca0ff3",
   "metadata": {},
   "outputs": [
    {
     "data": {
      "text/html": [
       "<div>\n",
       "<style scoped>\n",
       "    .dataframe tbody tr th:only-of-type {\n",
       "        vertical-align: middle;\n",
       "    }\n",
       "\n",
       "    .dataframe tbody tr th {\n",
       "        vertical-align: top;\n",
       "    }\n",
       "\n",
       "    .dataframe thead th {\n",
       "        text-align: right;\n",
       "    }\n",
       "</style>\n",
       "<table border=\"1\" class=\"dataframe\">\n",
       "  <thead>\n",
       "    <tr style=\"text-align: right;\">\n",
       "      <th></th>\n",
       "      <th>Date</th>\n",
       "      <th>Profit/Losses</th>\n",
       "      <th>prev_month</th>\n",
       "      <th>difference</th>\n",
       "    </tr>\n",
       "  </thead>\n",
       "  <tbody>\n",
       "    <tr>\n",
       "      <th>0</th>\n",
       "      <td>Jan-10</td>\n",
       "      <td>867884</td>\n",
       "      <td>NaN</td>\n",
       "      <td>NaN</td>\n",
       "    </tr>\n",
       "    <tr>\n",
       "      <th>1</th>\n",
       "      <td>Feb-10</td>\n",
       "      <td>984655</td>\n",
       "      <td>867884.0</td>\n",
       "      <td>116771.0</td>\n",
       "    </tr>\n",
       "    <tr>\n",
       "      <th>2</th>\n",
       "      <td>Mar-10</td>\n",
       "      <td>322013</td>\n",
       "      <td>984655.0</td>\n",
       "      <td>-662642.0</td>\n",
       "    </tr>\n",
       "    <tr>\n",
       "      <th>3</th>\n",
       "      <td>Apr-10</td>\n",
       "      <td>-69417</td>\n",
       "      <td>322013.0</td>\n",
       "      <td>-391430.0</td>\n",
       "    </tr>\n",
       "    <tr>\n",
       "      <th>4</th>\n",
       "      <td>May-10</td>\n",
       "      <td>310503</td>\n",
       "      <td>-69417.0</td>\n",
       "      <td>379920.0</td>\n",
       "    </tr>\n",
       "    <tr>\n",
       "      <th>...</th>\n",
       "      <td>...</td>\n",
       "      <td>...</td>\n",
       "      <td>...</td>\n",
       "      <td>...</td>\n",
       "    </tr>\n",
       "    <tr>\n",
       "      <th>81</th>\n",
       "      <td>Oct-16</td>\n",
       "      <td>102685</td>\n",
       "      <td>768450.0</td>\n",
       "      <td>-665765.0</td>\n",
       "    </tr>\n",
       "    <tr>\n",
       "      <th>82</th>\n",
       "      <td>Nov-16</td>\n",
       "      <td>795914</td>\n",
       "      <td>102685.0</td>\n",
       "      <td>693229.0</td>\n",
       "    </tr>\n",
       "    <tr>\n",
       "      <th>83</th>\n",
       "      <td>Dec-16</td>\n",
       "      <td>60988</td>\n",
       "      <td>795914.0</td>\n",
       "      <td>-734926.0</td>\n",
       "    </tr>\n",
       "    <tr>\n",
       "      <th>84</th>\n",
       "      <td>Jan-17</td>\n",
       "      <td>138230</td>\n",
       "      <td>60988.0</td>\n",
       "      <td>77242.0</td>\n",
       "    </tr>\n",
       "    <tr>\n",
       "      <th>85</th>\n",
       "      <td>Feb-17</td>\n",
       "      <td>671099</td>\n",
       "      <td>138230.0</td>\n",
       "      <td>532869.0</td>\n",
       "    </tr>\n",
       "  </tbody>\n",
       "</table>\n",
       "<p>86 rows × 4 columns</p>\n",
       "</div>"
      ],
      "text/plain": [
       "      Date  Profit/Losses  prev_month  difference\n",
       "0   Jan-10         867884         NaN         NaN\n",
       "1   Feb-10         984655    867884.0    116771.0\n",
       "2   Mar-10         322013    984655.0   -662642.0\n",
       "3   Apr-10         -69417    322013.0   -391430.0\n",
       "4   May-10         310503    -69417.0    379920.0\n",
       "..     ...            ...         ...         ...\n",
       "81  Oct-16         102685    768450.0   -665765.0\n",
       "82  Nov-16         795914    102685.0    693229.0\n",
       "83  Dec-16          60988    795914.0   -734926.0\n",
       "84  Jan-17         138230     60988.0     77242.0\n",
       "85  Feb-17         671099    138230.0    532869.0\n",
       "\n",
       "[86 rows x 4 columns]"
      ]
     },
     "execution_count": 7,
     "metadata": {},
     "output_type": "execute_result"
    }
   ],
   "source": [
    "# Let's see what the budget_data table looks like now ...\n",
    "data"
   ]
  },
  {
   "cell_type": "code",
   "execution_count": 8,
   "id": "4ace8e2b-9a3b-41f0-84da-4ae0a792cb54",
   "metadata": {},
   "outputs": [
    {
     "name": "stdout",
     "output_type": "stream",
     "text": [
      "The greatest increase in profits was $ 1926159.0 on Feb-12.\n"
     ]
    }
   ],
   "source": [
    "# The greatest increase in profits (date and amount) over the entire period.\n",
    "\n",
    "## I want to use the iloc function to identify (id) the minimum value in the column.\n",
    "## That object kicks back the index number in idmax, so I used that in the f string to answer the question.\n",
    "\n",
    "maximum = data['difference'].max()\n",
    "\n",
    "print(f\"The greatest increase in profits was $ {(round(maximum, 2))} on {(data.iloc[data['difference'].idxmax()][0])}.\")"
   ]
  },
  {
   "cell_type": "code",
   "execution_count": 9,
   "id": "6fecba82-6dca-4089-8171-464087bc9b2b",
   "metadata": {},
   "outputs": [
    {
     "name": "stdout",
     "output_type": "stream",
     "text": [
      "The greatest decrease in profits was $ -2196167.0 on Sep-13.\n"
     ]
    }
   ],
   "source": [
    "# The greatest decrease in losses (date and amount) over the entire period.\n",
    "\n",
    "## I want to use the iloc function to identify (id) the minimum value in the column.\n",
    "## That object kicks back the index number in idmin, so I used that in the f string to answer the question.\n",
    "\n",
    "minimum = data['difference'].min()\n",
    "\n",
    "print(f\"The greatest decrease in profits was $ {(round(minimum, 2))} on {(data.iloc[data['difference'].idxmin()][0])}.\")"
   ]
  },
  {
   "cell_type": "code",
   "execution_count": 11,
   "id": "102cc1ab-65b5-4f10-b681-b4d2fa115837",
   "metadata": {},
   "outputs": [],
   "source": [
    "# Your resulting analysis should look similar to the following:\n",
    "# Your final script should print the analysis to the terminal and export a text file with the results.\n",
    "\n",
    "# Financial Analysis\n",
    "# ----------------------------\n",
    "# Total Months: 86\n",
    "# Total: $38382578\n",
    "# Average  Change: $-2315.12\n",
    "# Greatest Increase in Profits: Feb-2012 ($1926159)\n",
    "# Greatest Decrease in Profits: Sep-2013 ($-2196167)\n",
    "\n",
    "file_to_output = Path(\"budget_analysis.txt\")\n",
    "with open (file_to_output, \"w\") as txt_file:\n",
    "    txt_file.write(f\"Financial Analysis\\n\")\n",
    "    txt_file.write(f\"----------------------------\\n\")\n",
    "    txt_file.write(f\"Total Months: {(len(data))}\\n\")\n",
    "    txt_file.write(f\"Total: $ {(total)}\\n\")\n",
    "    txt_file.write(f\"The monthly average profit was: {(round(average, 2))}\\n\")\n",
    "    txt_file.write(f\"Average Change: $ {(round(average,2))}\\n\")\n",
    "    txt_file.write(f\"Greatest increase in profits: {(data.iloc[data['difference'].idxmax()][0])} (${(round(maximum, 2))})\\n\")\n",
    "    txt_file.write(f\"Greatest decrease in profits: {(data.iloc[data['difference'].idxmin()][0])} (${(round(minimum, 2))})\\n\")"
   ]
  },
  {
   "cell_type": "code",
   "execution_count": null,
   "id": "8a69578f-cf13-49d1-ae1f-36f6428b9d99",
   "metadata": {},
   "outputs": [],
   "source": []
  }
 ],
 "metadata": {
  "kernelspec": {
   "display_name": "Python 3",
   "language": "python",
   "name": "python3"
  },
  "language_info": {
   "codemirror_mode": {
    "name": "ipython",
    "version": 3
   },
   "file_extension": ".py",
   "mimetype": "text/x-python",
   "name": "python",
   "nbconvert_exporter": "python",
   "pygments_lexer": "ipython3",
   "version": "3.8.5"
  }
 },
 "nbformat": 4,
 "nbformat_minor": 5
}
